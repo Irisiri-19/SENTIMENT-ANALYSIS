{
  "cells": [
    {
      "cell_type": "code",
      "execution_count": null,
      "metadata": {
        "id": "sf0OyiVltqjj"
      },
      "outputs": [],
      "source": [
        "import re\n",
        "import datetime\n",
        "import bz2\n",
        "import numpy as np\n",
        "import pandas as pd\n",
        "import matplotlib.pyplot as plt\n",
        "%matplotlib inline\n",
        "import seaborn as sns\n",
        "\n",
        "import warnings\n",
        "warnings.filterwarnings('ignore')\n",
        "\n",
        "import nltk\n",
        "from nltk.corpus import stopwords\n",
        "from wordcloud import WordCloud, STOPWORDS\n",
        "from nltk.stem.wordnet import WordNetLemmatizer\n",
        "\n",
        "\n",
        "from sklearn.preprocessing import LabelEncoder\n",
        "from sklearn.feature_extraction.text import CountVectorizer\n",
        "\n",
        "from sklearn.model_selection import train_test_split\n",
        "\n",
        "from sklearn.metrics import accuracy_score, f1_score, confusion_matrix, classification_report\n",
        "\n",
        "import tensorflow as tf\n",
        "from tensorflow.keras.models import Sequential\n",
        "from tensorflow.keras.layers import Embedding, Conv1D, Dense, Dropout, Flatten, GlobalMaxPooling1D,MaxPool1D,MaxPooling1D"
      ]
    },
    {
      "cell_type": "code",
      "execution_count": null,
      "metadata": {
        "id": "D4AhLsO61ltL"
      },
      "outputs": [],
      "source": [
        "def decompress_bz2 (input_file_path,output_file_path) :\n",
        "\n",
        "    with open(input_file_path,'rb') as input_file,open(output_file_path,'wb') as output_file :\n",
        "        decompressor = bz2.BZ2Decompressor()\n",
        "\n",
        "        for i in iter(lambda : input_file.read(4096),b'') :\n",
        "            output_file.write(decompressor.decompress(i))\n",
        "\n",
        "    print(f'Decompression complete. Output file saved at: {output_file_path}')"
      ]
    },
    {
      "cell_type": "code",
      "execution_count": null,
      "metadata": {
        "id": "e1V0OnYu1SX2"
      },
      "outputs": [],
      "source": [
        "def structured_data(file):\n",
        "    text = open(file).read().splitlines()\n",
        "    data = [line.split(' ', 1) for line in text]\n",
        "\n",
        "    for i in data:\n",
        "        i[0] = int(i[0].replace('__label__', ''))\n",
        "\n",
        "\n",
        "    df = pd.DataFrame(data, columns=['label', 'text'])\n",
        "\n",
        "    return df"
      ]
    },
    {
      "cell_type": "code",
      "execution_count": null,
      "metadata": {
        "id": "WhBQkRcYuYyx"
      },
      "outputs": [],
      "source": [
        "train_df = structured_data('/content/drive/MyDrive/Datasets/AmazonReview/train.ft.txt')"
      ]
    },
    {
      "cell_type": "code",
      "execution_count": null,
      "metadata": {
        "id": "GUl_9vYeuYv6"
      },
      "outputs": [],
      "source": [
        "train_df = train_df.sample(frac=0.05, random_state=42)"
      ]
    },
    {
      "cell_type": "code",
      "execution_count": null,
      "metadata": {
        "colab": {
          "base_uri": "https://localhost:8080/"
        },
        "id": "jIcd6kQ6uYlC",
        "outputId": "da7f8666-7ccb-4cb7-a0ec-38e13041c395"
      },
      "outputs": [
        {
          "data": {
            "text/plain": [
              "(180000, 2)"
            ]
          },
          "execution_count": 6,
          "metadata": {},
          "output_type": "execute_result"
        }
      ],
      "source": [
        "train_df.shape"
      ]
    },
    {
      "cell_type": "code",
      "execution_count": null,
      "metadata": {
        "colab": {
          "base_uri": "https://localhost:8080/",
          "height": 206
        },
        "id": "WskRiFYPuYE4",
        "outputId": "ac1942ae-89a2-4802-f9ef-7b700d80246c"
      },
      "outputs": [
        {
          "data": {
            "text/html": [
              "\n",
              "  <div id=\"df-55e093d8-731f-450a-b681-35eea877e774\" class=\"colab-df-container\">\n",
              "    <div>\n",
              "<style scoped>\n",
              "    .dataframe tbody tr th:only-of-type {\n",
              "        vertical-align: middle;\n",
              "    }\n",
              "\n",
              "    .dataframe tbody tr th {\n",
              "        vertical-align: top;\n",
              "    }\n",
              "\n",
              "    .dataframe thead th {\n",
              "        text-align: right;\n",
              "    }\n",
              "</style>\n",
              "<table border=\"1\" class=\"dataframe\">\n",
              "  <thead>\n",
              "    <tr style=\"text-align: right;\">\n",
              "      <th></th>\n",
              "      <th>label</th>\n",
              "      <th>text</th>\n",
              "    </tr>\n",
              "  </thead>\n",
              "  <tbody>\n",
              "    <tr>\n",
              "      <th>2079998</th>\n",
              "      <td>1</td>\n",
              "      <td>Expensive Junk: This product consists of a pie...</td>\n",
              "    </tr>\n",
              "    <tr>\n",
              "      <th>1443106</th>\n",
              "      <td>1</td>\n",
              "      <td>Toast too dark: Even on the lowest setting, th...</td>\n",
              "    </tr>\n",
              "    <tr>\n",
              "      <th>3463669</th>\n",
              "      <td>2</td>\n",
              "      <td>Excellent imagery...dumbed down story: I enjoy...</td>\n",
              "    </tr>\n",
              "    <tr>\n",
              "      <th>2914699</th>\n",
              "      <td>1</td>\n",
              "      <td>Are we pretending everyone is married?: The au...</td>\n",
              "    </tr>\n",
              "    <tr>\n",
              "      <th>1603231</th>\n",
              "      <td>1</td>\n",
              "      <td>Not worth your time: Might as well just use a ...</td>\n",
              "    </tr>\n",
              "  </tbody>\n",
              "</table>\n",
              "</div>\n",
              "    <div class=\"colab-df-buttons\">\n",
              "\n",
              "  <div class=\"colab-df-container\">\n",
              "    <button class=\"colab-df-convert\" onclick=\"convertToInteractive('df-55e093d8-731f-450a-b681-35eea877e774')\"\n",
              "            title=\"Convert this dataframe to an interactive table.\"\n",
              "            style=\"display:none;\">\n",
              "\n",
              "  <svg xmlns=\"http://www.w3.org/2000/svg\" height=\"24px\" viewBox=\"0 -960 960 960\">\n",
              "    <path d=\"M120-120v-720h720v720H120Zm60-500h600v-160H180v160Zm220 220h160v-160H400v160Zm0 220h160v-160H400v160ZM180-400h160v-160H180v160Zm440 0h160v-160H620v160ZM180-180h160v-160H180v160Zm440 0h160v-160H620v160Z\"/>\n",
              "  </svg>\n",
              "    </button>\n",
              "\n",
              "  <style>\n",
              "    .colab-df-container {\n",
              "      display:flex;\n",
              "      gap: 12px;\n",
              "    }\n",
              "\n",
              "    .colab-df-convert {\n",
              "      background-color: #E8F0FE;\n",
              "      border: none;\n",
              "      border-radius: 50%;\n",
              "      cursor: pointer;\n",
              "      display: none;\n",
              "      fill: #1967D2;\n",
              "      height: 32px;\n",
              "      padding: 0 0 0 0;\n",
              "      width: 32px;\n",
              "    }\n",
              "\n",
              "    .colab-df-convert:hover {\n",
              "      background-color: #E2EBFA;\n",
              "      box-shadow: 0px 1px 2px rgba(60, 64, 67, 0.3), 0px 1px 3px 1px rgba(60, 64, 67, 0.15);\n",
              "      fill: #174EA6;\n",
              "    }\n",
              "\n",
              "    .colab-df-buttons div {\n",
              "      margin-bottom: 4px;\n",
              "    }\n",
              "\n",
              "    [theme=dark] .colab-df-convert {\n",
              "      background-color: #3B4455;\n",
              "      fill: #D2E3FC;\n",
              "    }\n",
              "\n",
              "    [theme=dark] .colab-df-convert:hover {\n",
              "      background-color: #434B5C;\n",
              "      box-shadow: 0px 1px 3px 1px rgba(0, 0, 0, 0.15);\n",
              "      filter: drop-shadow(0px 1px 2px rgba(0, 0, 0, 0.3));\n",
              "      fill: #FFFFFF;\n",
              "    }\n",
              "  </style>\n",
              "\n",
              "    <script>\n",
              "      const buttonEl =\n",
              "        document.querySelector('#df-55e093d8-731f-450a-b681-35eea877e774 button.colab-df-convert');\n",
              "      buttonEl.style.display =\n",
              "        google.colab.kernel.accessAllowed ? 'block' : 'none';\n",
              "\n",
              "      async function convertToInteractive(key) {\n",
              "        const element = document.querySelector('#df-55e093d8-731f-450a-b681-35eea877e774');\n",
              "        const dataTable =\n",
              "          await google.colab.kernel.invokeFunction('convertToInteractive',\n",
              "                                                    [key], {});\n",
              "        if (!dataTable) return;\n",
              "\n",
              "        const docLinkHtml = 'Like what you see? Visit the ' +\n",
              "          '<a target=\"_blank\" href=https://colab.research.google.com/notebooks/data_table.ipynb>data table notebook</a>'\n",
              "          + ' to learn more about interactive tables.';\n",
              "        element.innerHTML = '';\n",
              "        dataTable['output_type'] = 'display_data';\n",
              "        await google.colab.output.renderOutput(dataTable, element);\n",
              "        const docLink = document.createElement('div');\n",
              "        docLink.innerHTML = docLinkHtml;\n",
              "        element.appendChild(docLink);\n",
              "      }\n",
              "    </script>\n",
              "  </div>\n",
              "\n",
              "\n",
              "<div id=\"df-b8cac278-c376-414c-956c-838a5745e62a\">\n",
              "  <button class=\"colab-df-quickchart\" onclick=\"quickchart('df-b8cac278-c376-414c-956c-838a5745e62a')\"\n",
              "            title=\"Suggest charts\"\n",
              "            style=\"display:none;\">\n",
              "\n",
              "<svg xmlns=\"http://www.w3.org/2000/svg\" height=\"24px\"viewBox=\"0 0 24 24\"\n",
              "     width=\"24px\">\n",
              "    <g>\n",
              "        <path d=\"M19 3H5c-1.1 0-2 .9-2 2v14c0 1.1.9 2 2 2h14c1.1 0 2-.9 2-2V5c0-1.1-.9-2-2-2zM9 17H7v-7h2v7zm4 0h-2V7h2v10zm4 0h-2v-4h2v4z\"/>\n",
              "    </g>\n",
              "</svg>\n",
              "  </button>\n",
              "\n",
              "<style>\n",
              "  .colab-df-quickchart {\n",
              "      --bg-color: #E8F0FE;\n",
              "      --fill-color: #1967D2;\n",
              "      --hover-bg-color: #E2EBFA;\n",
              "      --hover-fill-color: #174EA6;\n",
              "      --disabled-fill-color: #AAA;\n",
              "      --disabled-bg-color: #DDD;\n",
              "  }\n",
              "\n",
              "  [theme=dark] .colab-df-quickchart {\n",
              "      --bg-color: #3B4455;\n",
              "      --fill-color: #D2E3FC;\n",
              "      --hover-bg-color: #434B5C;\n",
              "      --hover-fill-color: #FFFFFF;\n",
              "      --disabled-bg-color: #3B4455;\n",
              "      --disabled-fill-color: #666;\n",
              "  }\n",
              "\n",
              "  .colab-df-quickchart {\n",
              "    background-color: var(--bg-color);\n",
              "    border: none;\n",
              "    border-radius: 50%;\n",
              "    cursor: pointer;\n",
              "    display: none;\n",
              "    fill: var(--fill-color);\n",
              "    height: 32px;\n",
              "    padding: 0;\n",
              "    width: 32px;\n",
              "  }\n",
              "\n",
              "  .colab-df-quickchart:hover {\n",
              "    background-color: var(--hover-bg-color);\n",
              "    box-shadow: 0 1px 2px rgba(60, 64, 67, 0.3), 0 1px 3px 1px rgba(60, 64, 67, 0.15);\n",
              "    fill: var(--button-hover-fill-color);\n",
              "  }\n",
              "\n",
              "  .colab-df-quickchart-complete:disabled,\n",
              "  .colab-df-quickchart-complete:disabled:hover {\n",
              "    background-color: var(--disabled-bg-color);\n",
              "    fill: var(--disabled-fill-color);\n",
              "    box-shadow: none;\n",
              "  }\n",
              "\n",
              "  .colab-df-spinner {\n",
              "    border: 2px solid var(--fill-color);\n",
              "    border-color: transparent;\n",
              "    border-bottom-color: var(--fill-color);\n",
              "    animation:\n",
              "      spin 1s steps(1) infinite;\n",
              "  }\n",
              "\n",
              "  @keyframes spin {\n",
              "    0% {\n",
              "      border-color: transparent;\n",
              "      border-bottom-color: var(--fill-color);\n",
              "      border-left-color: var(--fill-color);\n",
              "    }\n",
              "    20% {\n",
              "      border-color: transparent;\n",
              "      border-left-color: var(--fill-color);\n",
              "      border-top-color: var(--fill-color);\n",
              "    }\n",
              "    30% {\n",
              "      border-color: transparent;\n",
              "      border-left-color: var(--fill-color);\n",
              "      border-top-color: var(--fill-color);\n",
              "      border-right-color: var(--fill-color);\n",
              "    }\n",
              "    40% {\n",
              "      border-color: transparent;\n",
              "      border-right-color: var(--fill-color);\n",
              "      border-top-color: var(--fill-color);\n",
              "    }\n",
              "    60% {\n",
              "      border-color: transparent;\n",
              "      border-right-color: var(--fill-color);\n",
              "    }\n",
              "    80% {\n",
              "      border-color: transparent;\n",
              "      border-right-color: var(--fill-color);\n",
              "      border-bottom-color: var(--fill-color);\n",
              "    }\n",
              "    90% {\n",
              "      border-color: transparent;\n",
              "      border-bottom-color: var(--fill-color);\n",
              "    }\n",
              "  }\n",
              "</style>\n",
              "\n",
              "  <script>\n",
              "    async function quickchart(key) {\n",
              "      const quickchartButtonEl =\n",
              "        document.querySelector('#' + key + ' button');\n",
              "      quickchartButtonEl.disabled = true;  // To prevent multiple clicks.\n",
              "      quickchartButtonEl.classList.add('colab-df-spinner');\n",
              "      try {\n",
              "        const charts = await google.colab.kernel.invokeFunction(\n",
              "            'suggestCharts', [key], {});\n",
              "      } catch (error) {\n",
              "        console.error('Error during call to suggestCharts:', error);\n",
              "      }\n",
              "      quickchartButtonEl.classList.remove('colab-df-spinner');\n",
              "      quickchartButtonEl.classList.add('colab-df-quickchart-complete');\n",
              "    }\n",
              "    (() => {\n",
              "      let quickchartButtonEl =\n",
              "        document.querySelector('#df-b8cac278-c376-414c-956c-838a5745e62a button');\n",
              "      quickchartButtonEl.style.display =\n",
              "        google.colab.kernel.accessAllowed ? 'block' : 'none';\n",
              "    })();\n",
              "  </script>\n",
              "</div>\n",
              "    </div>\n",
              "  </div>\n"
            ],
            "text/plain": [
              "         label                                               text\n",
              "2079998      1  Expensive Junk: This product consists of a pie...\n",
              "1443106      1  Toast too dark: Even on the lowest setting, th...\n",
              "3463669      2  Excellent imagery...dumbed down story: I enjoy...\n",
              "2914699      1  Are we pretending everyone is married?: The au...\n",
              "1603231      1  Not worth your time: Might as well just use a ..."
            ]
          },
          "execution_count": 7,
          "metadata": {},
          "output_type": "execute_result"
        }
      ],
      "source": [
        "train_df.head()\n"
      ]
    },
    {
      "cell_type": "code",
      "execution_count": null,
      "metadata": {
        "colab": {
          "base_uri": "https://localhost:8080/"
        },
        "id": "E0sM9ITg4VCB",
        "outputId": "8d08a9de-2017-4f9a-ce69-3fc9951fe28d"
      },
      "outputs": [
        {
          "data": {
            "text/plain": [
              "array([1, 2])"
            ]
          },
          "execution_count": 8,
          "metadata": {},
          "output_type": "execute_result"
        }
      ],
      "source": [
        "train_df['label'].unique()"
      ]
    },
    {
      "cell_type": "code",
      "execution_count": null,
      "metadata": {
        "id": "3qRffdWT4pfI"
      },
      "outputs": [],
      "source": [
        "df = train_df"
      ]
    },
    {
      "cell_type": "code",
      "execution_count": null,
      "metadata": {
        "colab": {
          "base_uri": "https://localhost:8080/"
        },
        "id": "EC9OMKSl487i",
        "outputId": "3b8c9224-ead2-4a21-8ed8-e37751f884c3"
      },
      "outputs": [
        {
          "data": {
            "text/plain": [
              "Index(['label', 'text'], dtype='object')"
            ]
          },
          "execution_count": 10,
          "metadata": {},
          "output_type": "execute_result"
        }
      ],
      "source": [
        "df.columns"
      ]
    },
    {
      "cell_type": "code",
      "execution_count": null,
      "metadata": {
        "id": "sDmnZvWift6b"
      },
      "outputs": [],
      "source": [
        "df['label'] = df['label'].map({1: 0, 2: 1})"
      ]
    },
    {
      "cell_type": "code",
      "execution_count": null,
      "metadata": {
        "colab": {
          "base_uri": "https://localhost:8080/"
        },
        "id": "1360-yup4-t7",
        "outputId": "96c2e4fd-568f-45e4-c605-fa1e7cd24ecb"
      },
      "outputs": [
        {
          "data": {
            "text/plain": [
              "0"
            ]
          },
          "execution_count": 12,
          "metadata": {},
          "output_type": "execute_result"
        }
      ],
      "source": [
        "df['label'].iloc[3]"
      ]
    },
    {
      "cell_type": "code",
      "execution_count": null,
      "metadata": {
        "colab": {
          "base_uri": "https://localhost:8080/"
        },
        "id": "ec2cuWwN5CMC",
        "outputId": "4c4bf821-c717-4de5-889d-a552dc4315ca"
      },
      "outputs": [
        {
          "data": {
            "text/plain": [
              "2"
            ]
          },
          "execution_count": 13,
          "metadata": {},
          "output_type": "execute_result"
        }
      ],
      "source": [
        "df['label'].nunique()"
      ]
    },
    {
      "cell_type": "code",
      "execution_count": null,
      "metadata": {
        "colab": {
          "base_uri": "https://localhost:8080/"
        },
        "id": "Ip88_W8m5xAe",
        "outputId": "7241324e-b39f-4c9f-933c-95927123c648"
      },
      "outputs": [
        {
          "data": {
            "text/plain": [
              "label    0\n",
              "text     0\n",
              "dtype: int64"
            ]
          },
          "execution_count": 14,
          "metadata": {},
          "output_type": "execute_result"
        }
      ],
      "source": [
        "df.isna().sum()"
      ]
    },
    {
      "cell_type": "code",
      "execution_count": null,
      "metadata": {
        "colab": {
          "base_uri": "https://localhost:8080/"
        },
        "id": "DX38pkrW6B47",
        "outputId": "829f239d-ead3-48c2-e8ec-7ebbb4317cc1"
      },
      "outputs": [
        {
          "name": "stdout",
          "output_type": "stream",
          "text": [
            "<class 'pandas.core.frame.DataFrame'>\n",
            "Int64Index: 180000 entries, 2079998 to 295818\n",
            "Data columns (total 2 columns):\n",
            " #   Column  Non-Null Count   Dtype \n",
            "---  ------  --------------   ----- \n",
            " 0   label   180000 non-null  int64 \n",
            " 1   text    180000 non-null  object\n",
            "dtypes: int64(1), object(1)\n",
            "memory usage: 4.1+ MB\n"
          ]
        }
      ],
      "source": [
        "df.info()"
      ]
    },
    {
      "cell_type": "code",
      "execution_count": null,
      "metadata": {
        "colab": {
          "base_uri": "https://localhost:8080/"
        },
        "id": "i9Ol1H_c6U0Y",
        "outputId": "d8597a7c-7571-4162-c6b5-6ee2d68036f1"
      },
      "outputs": [
        {
          "data": {
            "text/plain": [
              "<bound method NDFrame.describe of          label                                               text\n",
              "2079998      0  Expensive Junk: This product consists of a pie...\n",
              "1443106      0  Toast too dark: Even on the lowest setting, th...\n",
              "3463669      1  Excellent imagery...dumbed down story: I enjoy...\n",
              "2914699      0  Are we pretending everyone is married?: The au...\n",
              "1603231      0  Not worth your time: Might as well just use a ...\n",
              "...        ...                                                ...\n",
              "803182       0  regrettable!: I'ts a great pity that Jamiroqua...\n",
              "316943       1  150 LED light bulb: I have 10 of these bulbs s...\n",
              "2849293      1  Great chew toy!!: This toy is the only chew to...\n",
              "2613128      0  Dent on your baby's head: I got one as a gift....\n",
              "295818       0  Would NOT Recommend Arctic Twister: In this da...\n",
              "\n",
              "[180000 rows x 2 columns]>"
            ]
          },
          "execution_count": 16,
          "metadata": {},
          "output_type": "execute_result"
        }
      ],
      "source": [
        "df.describe"
      ]
    },
    {
      "cell_type": "code",
      "execution_count": null,
      "metadata": {
        "colab": {
          "base_uri": "https://localhost:8080/"
        },
        "id": "kIQkboyt6mkw",
        "outputId": "f13cb830-82cc-4539-f2df-e1f8d01c6a61"
      },
      "outputs": [
        {
          "data": {
            "text/plain": [
              "1    90098\n",
              "0    89902\n",
              "Name: label, dtype: int64"
            ]
          },
          "execution_count": 17,
          "metadata": {},
          "output_type": "execute_result"
        }
      ],
      "source": [
        "df['label'].value_counts()"
      ]
    },
    {
      "cell_type": "code",
      "execution_count": null,
      "metadata": {
        "colab": {
          "base_uri": "https://localhost:8080/",
          "height": 640
        },
        "id": "1nIjeVii6uEE",
        "outputId": "071e0a3d-aa5f-481d-a694-8f13e4bb9dbf"
      },
      "outputs": [
        {
          "data": {
            "image/png": "[encoded data removed]",
            "text/plain": [
              "<Figure size 1200x800 with 1 Axes>"
            ]
          },
          "metadata": {},
          "output_type": "display_data"
        }
      ],
      "source": [
        "plt.figure(figsize=(12,8))\n",
        "ax = sns.countplot(data=df,x='label')\n",
        "plt.xticks(rotation=75)\n",
        "for p in ax.patches:\n",
        "    ax.annotate(str(p.get_height()), (p.get_x() * 1.01 , p.get_height() * 1.01))\n",
        "plt.show()"
      ]
    },
    {
      "cell_type": "code",
      "execution_count": null,
      "metadata": {
        "colab": {
          "base_uri": "https://localhost:8080/"
        },
        "id": "MLEdkZii63FL",
        "outputId": "a5918930-3174-41f6-d28c-9824564d1bd5"
      },
      "outputs": [
        {
          "name": "stderr",
          "output_type": "stream",
          "text": [
            "[nltk_data] Downloading package punkt to /root/nltk_data...\n",
            "[nltk_data]   Unzipping tokenizers/punkt.zip.\n",
            "[nltk_data] Downloading package wordnet to /root/nltk_data...\n",
            "[nltk_data] Downloading package omw-1.4 to /root/nltk_data...\n",
            "[nltk_data] Downloading package stopwords to /root/nltk_data...\n",
            "[nltk_data]   Unzipping corpora/stopwords.zip.\n"
          ]
        },
        {
          "data": {
            "text/plain": [
              "True"
            ]
          },
          "execution_count": 19,
          "metadata": {},
          "output_type": "execute_result"
        }
      ],
      "source": [
        "nltk.download('punkt')\n",
        "nltk.download('wordnet')    #used as wordcloud\n",
        "nltk.download('omw-1.4')\n",
        "nltk.download('stopwords')"
      ]
    },
    {
      "cell_type": "code",
      "execution_count": null,
      "metadata": {
        "id": "sx6B55jp7Gl_"
      },
      "outputs": [],
      "source": [
        "df['text'] = df['text'].apply(lambda x:x.lower())\n",
        "for i in range(len(df)):\n",
        "    lw=[]\n",
        "    for j in df['text'].iloc[i].split():\n",
        "        if len(j)>=3:\n",
        "            lw.append(j)\n",
        "    df['text'].iloc[i]=\" \".join(lw)"
      ]
    },
    {
      "cell_type": "code",
      "execution_count": null,
      "metadata": {
        "id": "nM_Y5j1N7Gja"
      },
      "outputs": [],
      "source": [
        "ps = list(\";$?.:-()[]/\\'_!,\")\n",
        "df['text'] = df['text']\n",
        "\n",
        "for p in ps:\n",
        "    df['text'] = df['text'].str.replace(p, '')"
      ]
    },
    {
      "cell_type": "code",
      "execution_count": null,
      "metadata": {
        "id": "Bxco59AL7GhQ"
      },
      "outputs": [],
      "source": [
        "df['text'] = df['text'].str.replace(r'\\d+', '')\n",
        "df['text'] = df['text'].str.replace(\"    \", \" \")\n",
        "df['text'] = df['text'].str.replace('\"', '')\n",
        "df['text'] = df['text'].apply(lambda x: x.replace('\\t', ' '))\n",
        "df['text'] = df['text'].str.replace(\"'s\", \"\")\n",
        "df['text'] = df['text'].apply(lambda x: x.replace('\\n', ' '))"
      ]
    },
    {
      "cell_type": "code",
      "execution_count": null,
      "metadata": {
        "colab": {
          "base_uri": "https://localhost:8080/"
        },
        "id": "-CGvNMxP7GfL",
        "outputId": "ec167b19-a0b0-4926-acd4-478797b9026d"
      },
      "outputs": [
        {
          "data": {
            "text/plain": [
              "2079998    expensive junk this product consists piece thi...\n",
              "1443106    toast too dark even the lowest setting the toa...\n",
              "3463669    excellent imagerydumbed down story enjoyed thi...\n",
              "2914699    are pretending everyone married the authors pr...\n",
              "1603231    not worth your time might well just use knife ...\n",
              "                                 ...                        \n",
              "803182     regrettable its great pity that jamiroquai hav...\n",
              "316943      led light bulb have these bulbs far use them ...\n",
              "2849293    great chew toy this toy the only chew toy dog ...\n",
              "2613128    dent your babys head got one gift its bit anno...\n",
              "295818     would not recommend arctic twister this day te...\n",
              "Name: text, Length: 180000, dtype: object"
            ]
          },
          "execution_count": 23,
          "metadata": {},
          "output_type": "execute_result"
        }
      ],
      "source": [
        "df['text'] = df['text'].apply(lambda x: x.lower())\n",
        "df['text']"
      ]
    },
    {
      "cell_type": "code",
      "execution_count": null,
      "metadata": {
        "id": "dnspnra474Mf"
      },
      "outputs": [],
      "source": [
        "stop = set(STOPWORDS)\n",
        "\n",
        "def remove_stopwords(text):\n",
        "    words = text.split()  # Split the sentence into words\n",
        "    filtered_words = [word for word in words if word.lower() not in stop]\n",
        "    return ' '.join(filtered_words)\n",
        "\n",
        "df['text'] = df['text'].apply(remove_stopwords)"
      ]
    },
    {
      "cell_type": "code",
      "execution_count": null,
      "metadata": {
        "colab": {
          "base_uri": "https://localhost:8080/",
          "height": 87
        },
        "id": "4wdO57FS9Jpj",
        "outputId": "17866fbe-fe74-485d-f1d2-64b62c7df947"
      },
      "outputs": [
        {
          "data": {
            "application/vnd.google.colaboratory.intrinsic+json": {
              "type": "string"
            },
            "text/plain": [
              "'expensive junk product consists piece thin flexible insulating material adhesive backed velcro white electrical tapeproblems instructions three pictures little information velcro crumpled received stronger adhesive tried disengage velcro pieces came paint ceiling white electrical tape horrible cheap narrow fell less hour price ripoffi building easier use cheaper attractive higher rvalue surprised amazon even lists junk'"
            ]
          },
          "execution_count": 25,
          "metadata": {},
          "output_type": "execute_result"
        }
      ],
      "source": [
        "df['text'].iloc[0]"
      ]
    },
    {
      "cell_type": "code",
      "execution_count": null,
      "metadata": {
        "id": "h0Yy3pjh8DY1"
      },
      "outputs": [],
      "source": [
        "wl = WordNetLemmatizer()\n"
      ]
    },
    {
      "cell_type": "code",
      "execution_count": null,
      "metadata": {
        "id": "hgEv-iRh9JnJ"
      },
      "outputs": [],
      "source": [
        "nr = len(df)\n",
        "lis = []\n",
        "for r in range(0, nr):\n",
        "    ll = []\n",
        "    t = df['text'].iloc[r]\n",
        "    tw = str(t).split(\" \")\n",
        "    for w in tw:\n",
        "        ll.append(wl.lemmatize(w, pos=\"v\"))\n",
        "    lt = \" \".join(ll)\n",
        "    lis.append(lt)"
      ]
    },
    {
      "cell_type": "code",
      "execution_count": null,
      "metadata": {
        "colab": {
          "base_uri": "https://localhost:8080/"
        },
        "id": "pw7eFXwk9Jkz",
        "outputId": "0f0c0c49-5d3b-403c-b067-b9387f101994"
      },
      "outputs": [
        {
          "data": {
            "text/plain": [
              "['expensive junk product consist piece thin flexible insulate material adhesive back velcro white electrical tapeproblems instructions three picture little information velcro crumple receive stronger adhesive try disengage velcro piece come paint ceiling white electrical tape horrible cheap narrow fell less hour price ripoffi build easier use cheaper attractive higher rvalue surprise amazon even list junk',\n",
              " 'toast dark even lowest set toast dark like light stay light unplug avoid waste electricity quality expect cuisinart',\n",
              " 'excellent imagerydumbed story enjoy disc video stun agree others story dumbed take childish approach actually seem little one side proenvironmental nevertheless enjoyable say amazon wmv disc better story better sharper image interest things look',\n",
              " 'pretend everyone marry author pretend parent neither die divorce insist marriage rock upon behavior wellbeing child build send clear message nontraditional households book people play game life way everyone suffer bad behavior deserve',\n",
              " 'worth time might well use knife product hold next nothing find useless product',\n",
              " 'book read write grade schoolers think whole aspect hit road go tour band coolest thing person thus book seem perfect read someone get book dissapointed fact seem author take five six stories babysiters club book young kid rewrite include drug music reference sell write good stories lame girls mother realize year old daughter right tour girl run cop get away ticket fake ect arent even bad way write make bore read',\n",
              " 'jeanne florette manon spring saw movies originally theater love order want collection order twice neither dvds work think check merchandise send disappoint cant believe send two defective dvds solve problem first one plus complaints read review rat one star quality dvd filmscolleen',\n",
              " 'theater projector ceiling mount fit new optima hd projector projectors smaller mount hole closer together mount four arm projector three mount arm short enough reach three projector hole larger projectors may work better mine recommend return easy company representatives helpful doesnt work company easy work',\n",
              " 'import sooooooooooo good great cd normal oops plus three cool new songs lot add extras inhansed cd example lucky video fact file britney unscrambler three bonus track really nice wish little tempo clear something say discription exclusive oops preformance isnt',\n",
              " 'garbage handle break clean two weeks plastic part actually weld metal meet pan wasnt overheat wasnt abuse use time break',\n",
              " 'amaze fascinate stun book well write pack fascinate detail wish ten turn anyone look inside view part chinas history well pick book wonderful read',\n",
              " 'great book give basics unfortunately helpful suggest research interweb instead',\n",
              " 'superficial fluff book convey much anything save time money read search bobby fischer detail honesty lack make mtv summary kindergartener make good',\n",
              " 'great album serious stuff first ive buy tonis albums one take three listen really find child bear life progress find work interest songs really stick mind see album story girls life make album much interest listen album song songpink floyd use album theme story wall albumi take colection listen months play car way work home week nowits great im female waynice album tonis worksget',\n",
              " 'good quality high ship charge scratch resistant screen guard protector fit perfectly screen htc cingular quality screen guard protector good negative point high ship charge cost ship buy item cost amazon reduce ship charge reduce ship charge combine items way best buy',\n",
              " 'couldnt even finish couldnt even finish book get half way realize wasnt pay attention didnt care nothing harry potter fun cant recommend',\n",
              " 'great choice bedtime anytime give book shower gift kid bear somewhat skeptical turn favorite daughter love name animals sound learn colour wonderful book picture right wonderful text enough repetition get participate read great asset childrens library shower gift people everything already',\n",
              " 'fun age receive video gift watch family accompany lot laughter didnt know kid manage show friends youngest even take school st grade teacher use part unit careersthe video overall winner anyone age will enjoy playful informative story will come away greater understand respect lobster lobsterman buy',\n",
              " 'contemplate marriagea must read book use many marriage counselors believe get marry book require read provide true insight make tick keep fire burn bright every expect couple heart desire',\n",
              " 'run stoplight listen closely first time ive forget outstanding hear pure order hop will anything close hopefully far away dead inside whole different planet great vocals great music great lyric',\n",
              " 'excelente compilación mejor caifanes debido los otros comentarios respecto este disco quiero aclarar que caifanes mismo que jaguares son do grupos diferentes que caifanes guitarra estaba primer plano unico pero que pongo este que solo incluyeron canciones del mtv unplug hubiera gustado que incluyeran todo mtv unplug segundo disco las guitarras marcovich aprecian mas las versiones vivo que existe certeza que hay overdubbing regrabaciones buen disco para empezar estoy seguro que este primer disco caifanes que adquiere pronto nacera curiosidad por conocer las canciones que incluyen los otros disco',\n",
              " 'prepare ebook book two stories writen time original pbook format one story write leave page right page lose kindle complicate follow story uderestand dare sell product propared use properlly readers',\n",
              " 'thank s home movie ken burn documentary typical ken burn interest little meander timesthe real shame version grainy video painfully apparent large display burn pan still image crystal clear show every blemish fold old photograph shots majestic scenery park mar poor choice camera film will say soundtrack fairly well do even peter coyote narrator little drydo bother blu ray version will anything standard dvd version series',\n",
              " 'nearly good first series book nowhere near good first series seriosly lack exementin word dont buy really want read libray recomend anybody',\n",
              " 'harrison ford best witness rule witness ford amish boy witness murder now amish dont beleive kill gun child see sort stuff terrible now men involve murder murder amish boy suspenseful red blood witness awsome film love bet anyone will enjoy',\n",
              " 'excellently draw character ninas character complex draw well evident take time think character motivations writer might write end differently okay book club talk one awhile good exploration line admire someone stalk bold exploration dark side behavior look well plot interest story one book lot sex plot might think first pleasantly surprise look forward whatever ms foxx sleeve next',\n",
              " 'nice ive save lot space hang shoe heavier shoe use one hanger though',\n",
              " 'one best albums ive own years back father get hook album first own exgirlfriend like much break declare come mei couldnt blame mix blue spirituals cooders unique play make one intesting albums medley feel good fool cigarette one favorites well balads mexican divorce jesus main linethe album songs keep take seriously song wall talk catchy riff great wordscooders great acoustic style shin breakthrough album time hold years later always hear something miss previous listeningsalthough dont need guitar player appreciate album every acoustic player hear fine guitar work enjoy',\n",
              " 'great make dough order bread machine vacation home cuisinart yearround home many bell whistle never use cost lot sunbeam make great dough great price',\n",
              " 'mac owners beware wife purchase rocket ebook christmas start amazon carefully check rocket web site well speak folks make rocket assure everything require use rocket mac include wrong mac currently make make past year require keyspan connector ebook mac usb slot cost mention documentation come ebook take hour company first respond say website andor faq section go web site together phone reluctantly concede mislead public company literature guide provide ebook regardless much may eventually enjoy toy ill never develop high regard nuvomedia make rocket ebook',\n",
              " 'disaster one month time upon receipt dead mixture email phone call determine need use usb cable power drive laptop cant print drive transfer gig picture gig mps unit fail next month email phone call determine laptop enough power run drive solution adaptergreat portable usb drive say adaptor sentno adapter weeks now try drive desktops plenty usb power luck lose much information picture music now email refer service number answer alla total lack customer servive knolage product think long hard deal iogear',\n",
              " 'junk get dvd today try watch seem nothing discs try dvd player computer nothing discs nothing will load get robbedif something discs id give high rat now ill give one star',\n",
              " 'fun nice car nice car better already make car son will fun assemble will even change finish continue play standard car',\n",
              " 'robbery horrible disc songs save one two rework look hear bygone favorites originally do disc',\n",
              " 'definitely work use definitely get go potty bye bye water weight dont steep whilei impatient',\n",
              " 'excellent jam pattersons book womens murder club keep suspense glad say thrill read',\n",
              " 'everyone need let go im sick everyone say ashlee talent talent wouldnt record deal talk year old things people seem forget years people already know appreciate music bc music shes many musicians todayshes write lyric rather sing people songs album good quit put appreciate hard work sing lot better musicians',\n",
              " 'even ok im pilot im give product ive try use calibrate respond somewhat close way real aircraft respond doesnt work possible im something wrong take several hours try figure right way ive reduce sensitivity zero still wont respond realistically',\n",
              " 'one minute zero movie great story film methods time great enjoy movie mostly meet star colorado spring film moviei purchase movie amazon',\n",
              " 'kid buy daughter almost yrs love start music little annoy problem stand top drop stairs still work finei definalty reccomend toy',\n",
              " 'disappoint disappoint book say hallelujah cover though raw food recipes will give away gift need something gift next timethis book never put hallelujah diet book',\n",
              " 'muse slumber actually think order show unfortunately wasnt amazom staff admit pics sell page mislead weve listen worth much curious sound track engage another trite shallow buyer beware',\n",
              " 'necessary buy neck strap camera think insane strap put around necki learn really isnt necessary elphs tiny easily fit pocket option wind include wrist strap around wrist theyre lightweight barely notice theyre',\n",
              " 'men broom love sport curl watch movie act okay dont let kid watch movie lot profanity movie isnt awful isnt good either curl action realistic',\n",
              " 'work great last panasonic shaver mysteriously disappear move across country decide try one price cheap wouldnt kick shaver rediscover move box somewhere please love shave shower others find neck area require little attention extra pass job do well worth close shave bleed take month product deliver amazon stock order',\n",
              " 'item doent work up never work day one plug upthe lcd display come work batteryand cant charge battery seem see power source doesnt work',\n",
              " 'burn within minutes candle completely melt now carpet mess decoration case candle expensive get',\n",
              " 'lose friend give copy dresden watch many time give back order copy watch movie several time different reason history view german side view british side act skills love movie impress wolls main role think scenes hollywood love honesty script much violence one start feel horror bomb trap cellars grind devastate fire mistake big one history destroy often war germans deserve much emotionally human reaction yes germans people dresden lose jewel',\n",
              " 'lame agree kid review album along others garbage keep put album overdo really think even years people go play nickelback cds say wow great band go around blast creed poison cinderella ratt c&c music factory band will forget othersits textbook rock ballad garbage think feel put song write find formula somehow sell record theyve stick watch live performances chads gay perm haircut someone take instrument away wont poison rock music anymore',\n",
              " 'great movie epitome b western movie hilarious andy griffith tom berrenger marilou henner selma wardall great job',\n",
              " 'yummy individually wrap approximately cookies box nice flavor fresh crispy fortunes standard fortune cookie fare break ship definitely recommend fortune cookies lowcalorie lowfat snack yummy',\n",
              " 'great speaker package money polk audio rm channel home theater speaker system black finishi use speaker system year sony strdg please performance package especially price point friends family impress remark system sound movie theater bass subwoofer deep powerful center speaker reproduce dialoge beautifully nice polk sell seperate surround speakers make system sony receiver capability dont worry think rm enjoy mine start',\n",
              " 'mislead specs inch rotaty file rasp inch diameter smaller depend product number ie label mm yet vas spec mm label mm yet vas spec',\n",
              " 'kfm first saw kentucky fry movie years old now friend mine mention line movie funny go online buy movie show son see friends now make little skits funny maybe little silly still good movie hang watch',\n",
              " 'funkin amaze strayhorn duke gil really find someone bounce shape brian jackson earlier stuff pure gold droney sometimes thisthis never tire songs still sound vibrant freshthe live version home hatred sample master work musos dream intohello sunday hello road one grooviest track around fail move along understand message world mum use lp secrets cat face cover angel dust spacey reincarnation whats trip stuff lyric showbusiness relevent today beforethis one best valuble compilations gils come essential purchase funkster poet',\n",
              " 'great art great action jedis great really enjoy war aspect series vol good vol start really pick last section vol really get itwar volumes one make wish series devote clone troopers republic commandos arc esp alpha good ink artwork straightforward plot almost near constant action good see republic actually defeat nice character development anakin volume favorite farlooking forward get vol',\n",
              " 'good stretch workout ive yoga class workout one stretch exercise complaint lot stretch seem repeat many time equipment require use follow exercise block strap kinda specialise items youd buy try substitue items find home step stool ropefor real workout prefer perfect pregnancy workout dvd karyne steben',\n",
              " 'terrible act movie good act bad turn minutes cant even believe watch long hop something change plot good even character dont recommend movie',\n",
              " 'stand item make bathroom look dont want leave roomi wish items match seat thank',\n",
              " 'amaze first single first single album call rain old mariah even better beautiful ballad similiar theme hero cant take away even incredible like old mariah will want album rappers arent main focus beatiful song hear soooooooooo many good things album fan critics official site listen rain httpwwwmariahcareycom',\n",
              " 'awkward trite many cliches subject matter last dive compel enough carry story line author attempt interject contrive dialogue embarrasing deteriment skillfull write chowdhury well advise simply tell story try animate guessedat dialogue come away dislike cowboylike father son dive team tragic demise come surprise chowdhurys techincal explanations descrption history sport good unfortunately fictionalize varous conversations cartoon clever',\n",
              " 'pervert horrible bookanthony sadistic pedophiliac watch heroine afar even go far tutor language want speakit sicken character make fall love rapistlove justify rape whip woman sick things book',\n",
              " 'mitusmi extrenal usb floppy drive unit seem good unit terrible device use windows pro drivers cant customer support answer correspondence go try use windows now',\n",
              " 'dog favorite toy far buy duck pound poodle become favorite toy sound duck scar though great part dont remove still love plush toy perfect even smallest dog easily carry around play design make easy small dog mouth around pick recommend destructive dog though limbs might tear',\n",
              " 'romantic rape enjoy romance novels enjoy read woman abduct continually rap impregnate fall love rapist keep read hop dessert didnt fall love get reform whole time think wasthis call stockholm syndrome horrify consider romance rape scenes graphic many case violentjohanna lindsey ashamed make rape romantic horrible read',\n",
              " 'live hype even close really disappoint book hype expect fill revolutionary ideas recipes totally green smoothies interest detail think diet closely resemble chimps basically eat green much hard believe absolutely way people first name cure illnesses drink one quart green smoothies sorry way please moles warts fell kind claim total turn recipes plain old one cup green fruit ice basically eat one cup spinach day grind will cure diabetes way rat read one night definitely something want keep reference anything library',\n",
              " 'unthinkable reason give star author list victims dr shipmans unsuspected reign terror lancashire long career probably kill least victimsmen women children apparent reason stop law sadly stop think victims dream see israel cruise grow old love ones lancashire dr shipman suppose respect trust live kill beloved patients without motives book easy read unless youre try find victims give proper memorial book victims families maybe learn happen lancashire',\n",
              " 'love terrible movie character never really fully develop dark miserable story people run cry scream time need stop say whats go felt nothing character neither feel anything wasnt sock boredits watch airplane ride fall asleepfrom give',\n",
              " 'great baby bond bad sids aspect excite book baby die sids think great info breastfeed etc chapter sids simply incorrectthe author dr sear huge bed share advocate comsumer product safety commission conclude year study strongly advise bed share reduce sids american academy pediactrics public health svc back study loss important correct info get circulate see sids alliance web page information sids',\n",
              " 'pedco digital ultrapod ii really nice accessory photographer fully support tweener camera even fully zoom extremely lightweight durable strap great feature strap tripod rail bench tree branch etc easy attach camera complete range motion take every time grab camera',\n",
              " 'classic soulful cut compilation share love one chill tothe isley brothersintruderssly&the family stonetyrone davisgladys knight&the pip among others make soulful collection',\n",
              " 'helpful order accompany pimsleur language russian program pimsleur although powerful learn speak little pamphlet teach read pick handy make process learn read fairly easay enjoyablei rat lose lot meat book dont audio record arent include book least werent mine poke around online find theyre available download websitehttpmllcutsaedutroikastudentmphtmi dont know long site will intend use book teach read speak mps will invaluable',\n",
              " 'look heart pendant look pretty picture theres gold topaz cover side totally ruin look normal swarovski crystal word color shine thing sit speedy delivery positive',\n",
              " 'love compactness waterpik larger one one far convenient dont invert reservoir power jet actually stronger bigger model grant smaller amount liquid reservoir little disappoint keep another cup ready refill still use pik definitely easy use course mean will use often check up dentist attest positive impact often use salt warm water solution work great',\n",
              " 'book worst ive read make candle export live read lot wax candle gel candle make book doesnt fit anyone one amateur intermediate level crafter believe best avoid buy book worth money time read',\n",
              " 'bad bad bad terrible youve see commercial kid bop almost thing none origanal artists do hit crew title page say various artists mean many different artists one stupid band call hit crew dont buy terrible',\n",
              " 'recorder book granddaughter good read music hope book will help guide need',\n",
              " 'huge letdown cant understand good review film find huge disappointment bad performances couple awful direction hackneyed cliched write put list film avoid film obviously try capitalize munizs rise star power among youngsters families offer little substance film endure never indication make dog special hard believe two dog use skip appearance change quite frequently throughout filmif want recent uplift family film opt sandlot',\n",
              " 'bad design terrible accessory strap latch case keep get way try write palm cant fit hotsynch craddle without remove case pain add quite bite builkiness palm make harder carry shirt jacket pocketi need find alternative somehowi wish original standard cover hadnt break',\n",
              " 'art steve hanks type steve hanks come wayne gretzky underneath mention book want cant author steve hanks name book art steve hanks',\n",
              " 'thank god get library first disclaimers read first page im pretty extreme leave winger social issuesi never imagine book awful essentially package present mindless blather political issue use every can cliche liberal media couldnt finish im irritate book im vent rather wait bite craft decent reviewi really enjoy entire ender series generally find oscs book least passably readable seriously doubt will consider pick another book without first get glow recommendations',\n",
              " 'star dont buy piece junk barly shave anything dont waste money beard better luck pick hair twessers thats fact please dont buy',\n",
              " 'history morrisville see eye pedophile guy accuse molest students something forget mention history townfrom burlington free pressin spring superintendent wrend place bryer administrative leave never report vermont education department possible license suspension letter threaten seek suspension unless bryer agree discuss leave districthe comply sign agreement guarantee full pay threemonth leave job reference promise school officials frame departure positive term exchange bryer agree resign effective june sue districthe quickly find teach job colchesterread morrisville deal problems decades make one hell chapter book',\n",
              " 'mistico mess cacaphony melodic mush album disappoint lover fusion jazz rock worldbeatmusic general album require lot patience feel musicians go clash discordant ball disappoint listen want',\n",
              " 'nice feature poor quality sound apex seem fine unit except sound quality dvd side quite poor quality good unlike previous review improve good one',\n",
              " 'dreadful rat one highly heres one bend lawyer unknowingly cia agents pose office multitude hide cameras film lawyer day night yet go prison cia put mic briefcase suppose big golf ball day age time read think havent wire team crack cia operatives watch pathetic drink yet elude still unfathomable reason real crook somehow dont knock cia bargain million dollars bloody rubbish childish fact plot insult year oldno star dreadful',\n",
              " 'buy dvd circumstances movie one alltime best horror film make dvd shin example progressive transfer awful hazy nonprogressive transfer may animorphic fill every bad video artifact think ghost comb awfully blurry favor buy collectors edition amazoncouk much better transfer dts sound cool extras skip',\n",
              " 'poor stalk worse handle one biggest requirements buy umbrella one substance handle weighty stalk solid able withstand high windsunfortunately umbrella turn either qualities handle quite small typically handle least long hand wide handle half provide poor grip high wind situations stalk felt hollow aluminum confidence inspire alli return umbrella never buy',\n",
              " 'absolute garbage many things wrong keyboard first novel concept direct keyboard market towards gamers fell advertise spend first hours mess various configurations awe keymapping end still leave subpar product rubber dome base keyboard fold gimmick top halfit constantly disconnect computer drivers reinstall respond didnt exactly work bootup force fetch older keyboard use install windowsoverall shoddy product want solid game keyboard money wont die every minutes two days ownership strongly consider das keyboard im write review right now ive own year long time ive throw away worthless zboard well',\n",
              " 'great product work exactly state cord connect directly give multiple purpose great product',\n",
              " 'essential utility use jornada must say really need want avoid scrap handheldbut easy assemble without make fngerprints display start use gloves instruction clear word helpfuland little expensive taste',\n",
              " 'paxil lovers music paxil overdose misguide little talent drum department mean band progressive hear think need paxil honestly believe king crimson open garbage guess think ride coattails popular band yes millions wrong include pedroza daniel aka pebozo',\n",
              " 'mind numbingly mindless hours play game brain go shut mode kinda star wall hours belive game pretty kill things mindlessly mean play game maximum enjoy game higher will case',\n",
              " 'movie lovers love game play family time watch alot movies together alot fun play question really challenge make think harder now pay closer attention movies watch well better next time play movie mania really fun game',\n",
              " 'sex pistols sex pistolsthe record rough sex pistols fan package far greater quality inside recommend experience ear true sex pistols fan',\n",
              " 'great time computer ineffective product complete easy usethere time computer search doesnt meet needsthis product allow look verse content without fail',\n",
              " 'change metal brush different feel metal brush use practical advantagesone minor downside particular set end cap come hand soon start play poorly glue remount better glue solve problem experience another set buy',\n",
              " 'man retard anyone give star obviously life speak ofi wouldve give lower rat minus star couldnt find',\n",
              " 'fabulous tales twist first read lottery high school stay buy book title story powerful stories though others entertain hopefully will stay youms jackson phenomenally talented writer know immediately something wrong simple village lottery suspense horror build every word achieve space short story amaze lttle time face shock truththe lottery finest short story genre stand alone one greatest stories write shirley jackson master novels haunt hill house always live castle engross read lottery well will never forget twist tale',\n",
              " 'michael swango aka killer good book interest michael swango guilty charge include murder appal get away medical field appal doctor hospitals allow away ones blow whistle unbelievable didnt think happen unite state medical field',\n",
              " 'nice pick holder will hold pick depend type pick prefer obviously thick pick will mean less storage thin ones will mean overall great boyfriend constantly lose pick',\n",
              " 'cbs screw produce dvds reason give box set one star cant watch except computer season worth ive enjoy episodes dynex flat screen ive experience several cbs dvds reason glitch dvd discs play set beware will purchase another cbs set dvds unless test store first course impossible loathe play dvds computer use dare mention worklet buyer beware cbs guilty',\n",
              " 'amaze little speakers speakers wonderful adorable gripe theyre fairly lightweight sound loud tend rumble right shelf although wish go little louder theyre pretty stellar size price',\n",
              " 'pretty good hard first buy ago rather please work good player never skip mp cds hold ver songs cool fortunatly mp file didnt play player didnt even show display kind difficult make format right several cds make didnt work take several try first mp work usefull text search feature kind cool never use mp work cool kind hard rthe manual suck player kind bulky wouldnt try jog mp players pretty big get scratch easily watch overall good',\n",
              " 'perfect tool students teachers kkv king keohane verba one best tool beginners research social political international relations students academics deliver advices problems researchers will come across one moment research life offer good overview critical analysis research isthe author make sure heavy subject reasearch social sciences heavy read book approach different methodologies research will choseif own yet need buy must belong student private library',\n",
              " 'ira feminist movement know interest read basic premise ireland take church capital women oppress ira rescue doesnt ring true rest suffer badly socially aware future history ireland fabulousi wish little flair',\n",
              " 'moisturize love start see change texture skin really love product go easily smoothly take little time notice change good',\n",
              " 'another american idol miscalculation absolutely nothing special carry voice carrie win american idol young blonde pretty period clearly far best vocal years competition voice extremely average predict might one hit fade obscurity ruben fantasia head towards',\n",
              " 'super computer buy dont buy buy think return cant see software use normal computer buy first super computer run flight simulator better run normal pc cant see graphics detail without super machinemy machine pentium ghz ram toshiba tecra take hour installation process complete day play simulatordont microsoft please',\n",
              " 'good book great book highly recommend look page turner one will qualify one better science fiction book ive read lately',\n",
              " 'lod def squad keith murray step another dictionary rhyme book tales another album entitle enigma impressively use vocabulary conversant scholars entertain listeners tales adventure title world free heartfelt man feature dave hollister begin antagonize others intro continue call name dare competition contest dangerous grind feature grand upbeat usual keith ability adapt nearly pass highlight feelin groovy scale run bass love lod feature grand kelvicious good display patience tight knit lod trio show nicest profession close keith murrays enigma lyrically fulfil',\n",
              " 'zero star call romance novel nothing page girl period whine read want lose lunch last chapter finally sex find child molest romance book list disappointment waste six buck',\n",
              " 'decent phrase book speak azeri relatively well decide pick little book revisit language limit amount literature subject choose one hunch nothing phrase book tourist around good job indroducing common expressions english speaker expect find exact pronounciation singlular word word phrase expressions expect textbook language',\n",
              " 'lose find unfamiliar jsshe around many years yngwietalismanand recently journey talentedyet underrate vocalist extremely impressive effort fan melodic rock scene glad give listen will glad',\n",
              " 'theres much wrong film change way watch film forever previously laugh misrepresentation people misery film portrayal really bad sufferer say im sure time another laugh misfortunate medical circumstances others represent film see film now feel ashamed angry effect film way society think treat peoplejack nicholson youre go play character suffer obsessive compulsive disorder phobias decency research condition put effort convey misery bring rather play halfheartedly laugh',\n",
              " 'true value superstore pelonis ba ceramic heater pelonis ba ceramic heater excellent product folks operate true value superstores amazoncom top quality people appreciate effort achieve customer satisfaction products exceptional price',\n",
              " 'nothing except maybe jeanette wintersons write body felt deeply pull novel unfold slowly bath incredibly intoxicate emotional mist highly erotic engross one well write overtly bisexual work fiction failure end become little melodramatic think untrue least one character quality language plot character high take recover breakup relationships searles book enough distract consider rebound without consequences please read book',\n",
              " 'failure entertain one movies watch within days forget aboutsarah jessica parker play paula launcher something parent hire paula coax adult children leave home get place sound stupid enough alreadypaula hire parent tripp matthew mcconaughey story course employment fall love laugh along waysome might call chick flick wife fan sarah jessica parker sex city didnt either',\n",
              " 'possibly best show finish watch six feet bravo say thank god bravo replay series never watch hbo now dvr make sure dvr entire series watch final episode last night tell much series touch really give insights life death grow love character identify lot things make look life new waythe final three episodes best three episodes show seriously spend almost entire last three episodes cry wonderful love end last episode state previous commenters best end series want dvd set watch last three episodes highly recommend dvd entire series',\n",
              " 'material cut questionable wear levis years style fit similar fashion previous s material feel extremely thin durable previous line recommend jeans',\n",
              " 'shimmer bag receive bag today absolutely love color exactly appear website exact color look beautiful',\n",
              " 'difficult decision excellent really great collection mix pop one car find hard decide one start heres think let see ill start original version wait number three two four mean four two wonder im always late work spend half day dance car musthave remixed kd',\n",
              " 'air pollution design book excellent choice engineer try design model air pollution control plant equipment processesit give useful detail installation operational cost',\n",
              " 'children love cd best night time infants toddlers young children children listen fall asleep night start play infants year old still fall asleep cd soothe',\n",
              " 'piece junk dont waste money buy batteryeven fully charge able take less photos give message please change battery save money buy canon brand work lot better',\n",
              " 'love movie wife get watch movie mom first time never hear impress sing dance movie even pause learn dance lol',\n",
              " 'good think kelly way better buy hope bomb @# kelly @&% get car start listen mess disapointed im old woman appeal kelly old puttin mess outi dont even think usher take route best song imma flirtthe song girl tight usher slap hisself say yes song note kellystop make songs stupid induendos tight first stupid now make better next time',\n",
              " 'skip chapter book show make another model begin end model german vehicle thats book get title seem coincidental book better worse casethe book definitely target beginners job nothing advice seem questionable example preshading sharpie experience itll seep underneath kind paintoverall book disappoint may use beginner thats',\n",
              " 'coolcoolcool absolutely cool overclocking quad use machine simulate numerical analysis use parallelize program full power processors lowest fan speed enough control temperaturecool cool cool',\n",
              " 'happy music raymond mclain master playful bluegrass music genius play string make gem cant help smile listen',\n",
              " 'back london office worker richard mayhew try even help damsel distress get way bargain neil gaiman spin another magical mystery tour elements mythological quest paradigm underworlds eternity horrific beasts slay labyrinths immortality heroes antiheroes modern form nothing crucial really change read book watch movie head hapless richard discover well personal courage never think exist timeless tale humanitys existential search tell anew skillfully write highly recommend trip',\n",
              " 'great book anyone book require read come th grader hat read book riot barbie pink much girly stuff fortunately neither catherine daughter lot common highly recommend book girls boys past sprinkle puberty stuff will antic',\n",
              " 'design poorly design product especially consider far expensive set buy clip hold curlers place huge convenient put small metal ones heavy feel clumsy head nice grab curlers burn finger sometimes guess heat fine difficult deal yet nice curl',\n",
              " 'loud cute turtle way loud theres volume control piece hard stay space turtle give minutes youll sick hear shape animalscolors yard sale come',\n",
              " 'great book son love read book together adore picture rhyme text animals portray book great read age',\n",
              " 'beautiful write slow spite chosing star book see light age choose world fantasy award macleod obviously experience careful writer depictions town bracebridge live people well do almost see individuals describedthat say though able finish book action slow move macleod love descriptions people work remove aether grind spend much time depictions narrative creep along finally give even though enjoy read world macleod create felt take long action',\n",
              " 'reveal informative scholarly well research exposure real mean scriptures eliminate much esoteric mean obscure ambiguous seemingly contradictory passages enlighten mean term use time parallel record history time write word gospels ably guide concur author apocalypse fait accompli bible gospels understand modern accept mean word mean use time write fascinate well write book sure captivate attention highly recommend searchers truth whether bible reader notlouis lafontaine eng',\n",
              " 'ambiguity genius laura nyro gift song writer love sound voice guilty suicidal screech suggest say every pay rock diva honestly album always leave bite chill landscape bleak good groove go lucky never understand dig potatoes wish talk line timer wonderful potential introduction record sweet blindness endear song mess underappreciated gems decembers boudoir confession dont dismiss album hand artist make penetrate statement urban life say take years laura nyro grab first hear young teenager never let go gift singersong writer dont know',\n",
              " 'happy pendant much smaller anticipate small cant see guardian angel pendant disappoint pendant magnify able take picture',\n",
              " 'connector inadequate car installation purchase car holder za phone connector bottom car holder completely inadequate car installation slight bump wire take turn quick will cause connector come loose sony ericsson engineer know better',\n",
              " 'dont buy adaptor playstation owner buy adaptor ps will mess system wont let play dvds dvdrom gamesit recommend sony company make ps psone use adaptor use adaptor sony playstation sony playstation logo adaptor',\n",
              " 'highly relevant issue prompt film remain nothing change thats whats scary charlton heston give frighten performance',\n",
              " 'excellent movie love movie story line actors music excellent movieplay create time vietnam war slowly come toward endthe songs compliment political atmosphere era certainly fit today go dc past eight years yes im include congress white house piddle twiddle resolve one thing solve fit go democrats republicans tspeaking piddle twiddle resolve disappointment dvd diector didnt include full version song find full version dvdother excellent movie',\n",
              " 'good new jack swing hard believe years old groove jam whole lot back day hit serious note new jack swing inspire groove jam remix cool welli buy tape back day wear cut',\n",
              " 'unlimited power think book help greatly become better person see glass half full positive opinion towards others make feel happier everyday definitely help one low self esteem issue well write',\n",
              " 'waste money buy product due slop seat dodge caravan think go useful boy wrong try put infant carseat bring carseat far away back seat unable safely buckle way tight fit carseat use inch rule carseat move inch direction try use leveler convert convertible carseatand yet luck recommend poll noddles much easier use fraction cost',\n",
              " 'exception rule self title albums band best album mean poor certainly nothing fundamentally wrong compare debut bracket album build strain relationship creative core band pete doherty carl bart tense write style epitomise albums flagship song cant stand nowi think record definitely worthy self respect collection buy one libertines album',\n",
              " 'hannamcuen hear one songs gac decide buy heck fantistic never hear first album polish songs fell love',\n",
              " 'wellwritten userfriendly fill strategies family make successful live sell dolls bear ebay past five years wish donnys book around first start strategies sound information invaluable write style userfriendly learn utilize information book save countless hours trial error add profit pocket consider resource guide investment will pay many time see ebaykaren john krejcha powersellersebay countyourbeanscount beanssan jose cawwwcountyourbeanscom',\n",
              " 'fun movie wiccan seekers real thing great movie entertainment book shop tool show movie nothing true ware witchwannabeeees bright bless',\n",
              " 'excellent quality dye injector tool inject dye ra car ac systems work exactly design use disposable dye cartidges thread end cap attach plunger coupler hose aware large end seal inside piston small end will spill isnt hold upright attach coupler hose happy see plunger assembly entirely make metal rubber cover itnot sure make theres mark see well make injector though',\n",
              " 'nearly perfect mug keep coffee cocoa nice hot long timeand cap function wonderfully far spill stop cost complete pain cleanget coffee smell',\n",
              " 'reference book one dream use work yarn shop save many pamphlets photocopy ton pattern sweaters afghans etc never make pattern detail book help declutter cant believe one book thank thank thank pattern knit edge use work easily able vary pattern work piece work shes make simple work edge really make piece % richer look borrow library buy copy',\n",
              " 'smiths best cd love cd classic bring back memories high schoolsome melancholy lyric know make feel bad feel goodlol',\n",
              " 'coby mp easy operate download well save place better others cost',\n",
              " 'work fine auto shutoff big plus coffeemaker work well inexpensive easy fill easy clean fairly fast minor drawback lack externally visible fill level internal fill mark impossible see really measure water put automatic shutoff big plus previously similar toast model toast tfc personalsize cup coffeemaker black good coffeemaker external fill indicator lack automatic shutoff keep forget turn make coffee probably contribute early demise',\n",
              " 'english subtitle please minutes documentary find interest watch seriously challenge inability understand three remain brothers talk three middleaged fellows mutter beard feet middle distance make rivet storytelling one idea say country accent enjoyment understand enhance % subtitle late reach wider audience',\n",
              " 'fantastic product buy boss use hear aid absolutely love interfere hear aid volume control excellent dont need use highest set powerful adjust accomodate pitch different voice highly recommend product hear well',\n",
              " 'ehh book didnt much suffer children protege hook instantly book seem take forever things go part downright bore actually skim thru see anything interest go happen',\n",
              " 'dsfsdfsdfsdfsad fsafsdfsfsfsafsa fsafsdfsfsfsafsa fsafsdfsfsfsafsa fsafsdfsfsfsafsa fsafsdfsfsfsafsa fsafsdfsfsfsafsa fsafsdfsfsfsafsa fsafsdfsfsfsafsa fsafsdfsfsfsafsa fsafsdfsfsfsafsa fsafsdfsfsfsafsa fsafsdfsfsfsafsa fsafsdfsfsfsafsa',\n",
              " 'date material q&a approach adopt book useful provide useful reference manual m&a content date discussion tax account deal structure reflect recent change rule m&a practice helpful author update material current comprehensive book subject find useful include mergers acquisitions restructure activities depamphilis bruners m&a book',\n",
              " 'love camera far complaints camera give manual options love way recycle quickly ready take another picture somtimes camera focus cant quite figure problem maybe im something wrong im sure set im quite options sometimes forget set',\n",
              " 'dead year card good last expect life cycle greater year',\n",
              " 'good card good price good mini great price always amazon great get timely manner',\n",
              " 'better rest ive try every one flea tick call stopper rottie hand stuff work best longest will buy stuff now',\n",
              " 'couldnt wait see happen next book stay finish good couldnt wait see happen next first think typical chick type book risk sound cliche must say book tell wonderful inspire story love personal growth follow dream nyc reference fun read live nyc story hold great positive message interest twist end really hope see come movie highly recommend book',\n",
              " 'horrid horrid radio radio good sirius player work whim control tiny design mouse remote never work even select station fmam reception live major metropolitan area east coast far big bulky sirius part keep tuck dark corner infrequent usage warrantsmy regret review give star',\n",
              " 'good unlike husband hillary rodham clinton demonstrate talent write live history really sad demonstration skill lack author want read well write word try life bill clinton',\n",
              " 'tttt change life tttt life empty pool mysery post tttt roses sunshine cant even describe joy life now thank tttt',\n",
              " 'unfortunately generic noninvolving hop give simons father seem hes go cheesefilled road phil eventually think maybe wed experience innovation originality phil early career early genesis first couple solo albums simon give something thats play background yet doesnt hold real listen opinion im intentionally slag guy apparent talent doesnt quite creative songwriting tool make jump yet',\n",
              " 'avoid malpractice rule systems case book page offer suggestions avoid malpractice use briefly describe case purpose illustrationthis book fairly elementary offer little unique insightfor book find cost list bookincredibly high',\n",
              " 'good book explain stuff really well johnny mcarthur level head bible hasnt blow back forth every wind doctrine do read book itd good gift someone actually really pretty look lol',\n",
              " 'great little book book exactly hop great suggestions modern bride might pay wed along groom instead old school rule focus stuff one care less many book see purchasedgreat book great price book one need perfect addition another guide organizer',\n",
              " 'never work little tikes bathtime bandi purchase time two toddlers christmas look cute month old love music go surefire hit unfortunately never work try new batteries pour water simultaneuosly cup one time nothing work xmas morning box long go wish read review buy toy unless want realy disappoint kid',\n",
              " 'captivate true story draw story line book phenomenal start think go quick read sample hard put author descriptive little grammatical errors start little bore % detail start seem draw difficult finish build conclusion predictable opinion make even difficult finish still recommend book anyone look detail highly research account happen juarez span murder',\n",
              " 'rtfm save twelve buck need info fluffy pretty heres book cottoncandy hunger bread meat read whole thing border park lot go back exchange remainder cookbooks',\n",
              " 'waste tree awful schlock formulaic unoriginal remainder mercy kill book give someone want hook fantasy fiction',\n",
              " 'good although coupla famous popular sketch omit collection bad compilation even though opera singer sketch coupla oftplayed sketch somehow omit old clip still enjoy recent years usually color guest shots concert',\n",
              " 'really mac compatable buy camera advertise mac compatible unfortunately work mac havent produce design camera place eye level doesnt pivot enough yet theres way attach laptop place top pile book something angle correctlytoo bad hop inexpensive camera use talk husband overseas',\n",
              " 'excellent pablito write album beautiful albums pablo pablo sing profeionally voice song olvidarte jamás preciosa best songs olvidarte jamás toda ley gallo pelea olvido vas entender como tenerte otra vez muchas gracias pablito',\n",
              " 'dont buy bluray oppo bluray player even latest firmware disc will play beyond menu oppo bd blu ray player never hit snag six months use even use beta program play dvds blurays meet summer disc start play trailer halt middle jump main menu despite hit every play andor select button remote advance nothing except provide universal circle red line upper leave screen try close time reload nothing work doublechecked live internet latest firmware update player date try another disc player briefly problem restart everything player definitely summer whatever fox put disc cause problem beware',\n",
              " 'sour grapes dramatic former butler make mistake read tellall bookit clear writer bitter book tell little shock`sand seem mean revenge towards marlo thomas odd one unkind word write phil donahueleading reader believe must say home',\n",
              " 'excite stuff look understand value business process simulation executive standpoint great bookprofozich explain examples case study simulation help company make better business decisions managage necessary change operate environmentall business environments operate within areas uncertainty book explain simulation technology help business managers understand use uncertainty advantagebusiness simulation support business managers across function enterprise help create value number ways unfortunately businesses take advantage great technology profozich manage demystify myth around complexities computer simulation explain value proposition approach compel way',\n",
              " 'earth greenlighted buy game day one base fact nextgen shadowrun read become excite gameplay new ideas actually play time effort money put game absolutly single player story mode base world richest history penandpaper rpgs even muster time put even average single player mode lame bot match train missions dont count mean cry loud even halo gear war memorable storys character base brand new ideas license gameplay bad multiplayer actually well think game cost dollars absolutly excuse story mode im even go start lack map pretty pathetic basically online game',\n",
              " 'evil power pop majesty debut album cheap trick masterful pop hook cut nasty metallic edge quickly get sand subsequent release rick nielsens guitar crackle palpable electricity sparse production refuse add gloss tidy way vocal melodies beatlesque best sense make impressive robin zanders uncanny ability sing lennon mccartney theres adult malevolence work completely odds harmless cartoon band become forget power pop bliss theyre know album cheap trick aim rock',\n",
              " 'horrible disgrace race car game general bad powerful system game metropolis street race dreamcast dont buy game horrible',\n",
              " 'avoid brand pack niether recordable drive will accept get one burn rest reject every attempt save trouble look another brand',\n",
              " 'hit mark maccurry author fall angels strength honor life dolly madison richard cote excellent read work art mr cote show one best writers era work continue excel limit artistic ability dazzel reader paint history flair author brush make another masterpiece hang well beside marys world theodosia burr alston',\n",
              " 'pretty good album actually really good although short definitely showsmonica mature although first track release great track dozen roses gotta move make remember fan will continue support monica hell definitely one best track album didnt fact try rap much prefer hear voice think stay true talented r&b singer',\n",
              " 'oregon lighthouses wasnt completely satisifed dvd felt oferred scenery oregon coastline',\n",
              " 'mediocre film bore death pace protagonist poorly play worth effort',\n",
              " 'go wrong whomever design definitely minimalist slot business card barely useable zipper compartment keyboard challenge zip hope youre hurry absolutely room extra stylus memory cardstick save look something',\n",
              " 'perfect nothing say perfect record denyce grave choose arias dont always hear thank breathe live old standards carmen introduce arias will undoubtably become new favorites denyces voice absolutely fabulous powerful yet calm perfectly refine say nothing bad voice record',\n",
              " 'dont worry agree praiseworthy eggdrop soup theres straightforwardness jazz make little much fourplay time khans rendition dont worry bout thing carry new height ergoi limit review one song give praise',\n",
              " 'faulty battery get phone yesterday nice look phone exactly want heres battery warp noticeably warp almost ready explode throw back box quickly seal back now return will probably hassle guess purchase another battery keep thru headache motorola really fault though',\n",
              " 'break glass jug come along three items order amazon course eager try jug open first uh thing break different piece ice container lid things make box package suck wasnt even label fragile disappointment ive order countless products amazon never let blah never',\n",
              " 'luv love coffeemaker everything make great coffee super easy use reccomend product anyone enjoy good coffee',\n",
              " 'light great soft comfy couple wear wash start little stringy look especially white one',\n",
              " 'wrong cable camera cable fit coolpix advertise buy risk',\n",
              " 'waste money dont bother excite product cant sleep im warm love cold side pillow first get nearly impossible let air say water spill everywhere people work sure cool little hours sleep thing really heat wake one morning sweat profusely get warm unbearably hot doesnt workyou know people say sound good true probably case',\n",
              " 'way go bring book terrible take % sure get even though didnt result yet know bio cold write much better book now theres idea author talk topics important th grade level review important topics cliffs book barrons college review series biology want review book best advise give read textbook waste money book book poorly write',\n",
              " 'interminal wheel time series read review last couple book happy give series probably excellent series jordan keep book think jordan pad wallet ego man outrageous blame readers customers get bore able follow plot linesread george martins song ice fire series handle multiple plot line right way',\n",
              " 'tip point top tip point one greatest book read right stephen covey love tip point muchive recommend family friends start introduction tip point will leave notepad full new ideas will change way think work lifestars across board',\n",
              " 'regard lose world lose world lackluster force sequel jurassic park childhood favorite mine fact identify age twelve book first publish bode well prospective reader',\n",
              " 'excite book brian`s parent divorcedhe go visit dad live new york tragic accident happenshe force live canadian wilderness hatchet survival kit hatchet one best book i`ve read recommened anyone like adventure',\n",
              " 'highly detail look honda motorcycle history many book motorcycle abound glossy picture contain little facts slim volume roland brown quite reverse majority photos original b&ws stag fashion shots ample text coffee table book real book history begin soichiro hondas start wwii trace company progress real motorcyclist plenty technical detail use show evolution one machine next rather tabulate facts story development motorcycle now know fascinate saga multinational company growth make excellent read complaint book slim small page really doesnt warrant price tag never less still buy glad',\n",
              " 'quaint inaccurate quaint inaccurate reviewer eva websterfrizzell tennessee read appal first many inaccuracies book first glare anyone area caption twopage homecoming picture actual gather baptism anyone recognize spend year learn disappoint book buy book sister phn work people poor circumstances sequatchie valley tennessee hop see documentary miss hope look problems book forgive yankees try look live consistently wrong information way widow mother rear twin daughters without resort welfare',\n",
              " 'awful seller prompt shipment great package product worth care take couldnt use product hole properly drill allow screw keep product place computer plastic beyond cheap go back order proper aluminum bracket hope better luck please beware purchase item',\n",
              " 'simplistic pilates buy dvd supplement brooke silers pilates body want understand begin exercise better see action disappoint receive exercise amount simple calisthenics include elements standard pilates mat program im fitness guru entire program hardly raise pulse challenge musclesthe dvd format quite nice look lowintensity stretch warmup exercise great dvd call pilates dvd misrepresentation content',\n",
              " 'bore wasnt happy book fair fabulous author go back read unfortunately bore second time around dont know happen one character didnt shine spark story',\n",
              " 'expect great concept fair execution expect much discs tune disc bite sparse tastesi expect electro electroclash style juan maclean track agressive style liketoo bad rest isnt veini mainly buy disc many classics vinyl want see guy handle mixdoesnt really come bigod track actually body body bog second front track pitch significantlyi work mix elsewhere cds mix native instrument tracktor software im unfamiliarmaybe something odd style mixingoverall nice addition anyones mix collectiongood great',\n",
              " 'zune gear bag nice case zune fairly bulky hard avoid consider size player good protection another electronic device especially hand teenage daughter',\n",
              " 'great fun ideas families age review say book fantastic great ideas holiday neat suggestions birthdays school days get homework do special rituals start day bedtime mealtime etc throughout book helpful websites tons insightful creative ideas unfortunate amazon doesnt sell directly',\n",
              " 'excellent book complex person shock book personal life interest person history book give good picture philip force shape religion govern every aspect life love holy cause long reign deal important persons th century personal attitudes shape much childhood influence political social religious tide time conquests land name god influence geography history today',\n",
              " 'great new die soon really concept machine use sporadically mostly store grain flour etc work fine initially progressively trouble pull enough vacuum seal seal part machine activate vacuum reach certain point now totally useless rubber seal look good condition dont recall trauma occur liquid suck machine etc dont think even use machine seal bag stop work disappointment',\n",
              " 'years sound cut intermittantly everyone elses review trouble free years now sound cut center channel many report double check wire sub different center channel cut intermittantly stillmany note crank volume turn offon fix find simply turn mcacc auto sound switch back sound will come backbut sound will cut later happen daily pointthis will last pioneer purchasenow im look onkyo txsr seem lot good press affordable pricepioneer design flaw product',\n",
              " 'strong argument impossible know media leftwing everybody know right eric alterman hell tell media far conservative think think overstate case excellent wellresearched booki dont think hell change many mindsas people convince media liberal go change mind read book even persuasive one liberal mediai ask readers book read open mind perhaps might come around altermans point view',\n",
              " 'great gift sister buy gift sister always enjoy short story genre many years',\n",
              " 'demons russia possess first book examine phenomenon demon possession russia draw upon wide range sourcesreligious psychiatric ethnographic literaryworobec look klikushestvo broad span time focus mainly nineteenth early twentieth centuries russian society felt pressure modernization',\n",
              " 'last good local long third local cds one best bunch larger sell promote company way beenthis last local joe daniels drum joe leave shortly new guy come doesnt joes talent',\n",
              " 'outstanding album outstanding zucchero true find excite popular music cant keep albums myselfeveryone want',\n",
              " 'recycle bike part clock well make product nice look give friend birthday gift like',\n",
              " 'production dvdnot content well sound supose dolby digital kind stereo rear speakers use almost allthe imagewhat horrorsometimes bad broadcast line bad pixels sometimes okthe content amaze one best concert saw alvin lee must fani realy dont know produce bad dvd shame alvin lee dvd availablebeside woodstock dvd',\n",
              " 'bore junk give one star give zero starsthe write stunt change tense fly sometimes tell author change speak think many time reread several sentence figure say page still nothing keep read give money toilet',\n",
              " 'attractive convenient better smelly pan sit counter liners easy take backyard composter',\n",
              " 'little disappoint little disappoint book elaborate little specific case cite examples time indicate particular case either set precedent counterexample precendent give footnote reference legal document book read much synopsis legal library statistics discuss elementary exposition basic concepts want lucid examples basic concepts actually make difference legal case book first book statistics law buy read dont know compare others will select try another see look',\n",
              " 'expensive give book start becausae write wellknown eminient islamic scholar price deterrant noone financial institutions will read complaint many islamic author rip extortionate price book happend quranic injunction spread knowledge',\n",
              " 'detail con consistent warn will catch like book although look much depth treatment subject author consistently stress choose con artist will catch exhibit frustration con artists punish severly con artist crimes perceive crimes victims bring greed avaricethe title somewhat mislead dont read want actually con artist wont learn many trick detail explanation short change someone find interest con artist trick give vague explanationsif want know con artists read part extensive study stand resource',\n",
              " 'grow pain sheila peelemiller wonderfully capture young womans grow pain true example look good always good us felt feel bad alicia love hard derek damage goods hopefully learn something cost lose likely best woman enjoy read paint pictureb richardsongaal book club atlanta',\n",
              " 'return changer great ive one car years one get guy defective wholesale didnt another one buy somewhere account credit accordingly thank keith steinke',\n",
              " 'low quality last charge cycle olypus charger even hold charge anymore capacity never much original olympus battery continually get worse cost much still worth price definitely recommend battery',\n",
              " 'classic religious term explain ordinary language book contain two memorable stories first deal member body christ even dont care person share pew memorable answer question one one find impossible affirm certain tenets creed',\n",
              " 'dog love two terrier mix lbs respectively absolutely adore new ruffians octopus smaller dog little trouble grip size larger especially love toss squeak new favorite possession sometimes noisy excess best neither dog aggressive chew appear make dent two weekshighly recommend great fetch item',\n",
              " 'people kid star film agree acute observer find realistic believable many aspects flaw government highly doubt fbi allow club hunt young black men continue look evidence find impossible believe debra wingers character continue love berenger discover racist murderer film guilty pleasure albeit wierd one play movie brilliant feature film extremely date write junior high high school level intellect',\n",
              " 'zumba buns thighs dvd play think go new burn dvd case print picture',\n",
              " 'love entertain spend lot nights plague insomnia watch glee wish season available great music show number',\n",
              " 'good idea ineptly do id never read sandra brown base switch wont look read morea potentially interest plot ruin ludicrous dialogue unbelievable character extremely unlikely plot twist even allow initial premise anyone surprise end ashamedno wait thats true readers think early spot end encourage think fact several place brown refer specifically melina context conversation eg page new chapter section begin melina repeat chief half conversation hadnt overhear well wasnt melina find end brown effectively set climax make sensetoo bad identical twin make interest read dont make grade',\n",
              " 'actually star write review book genuinely like first time write dont buy book warn buy use library must read plotless waste time sorry say',\n",
              " 'didnt believe work saw product pet store decide online read online review product actually buy review surprisingly positive figure id try least listen relax even animals didnt well two dog shep mix akita mix two cat actually listen go sleep really calm',\n",
              " 'cheap product cheap look cheap sure durable spend little better quality think get good deal use may save camp trip inclement weather maybe protect new mat will order',\n",
              " 'babe darkness find first babe movie adorable whereas babe pig city somewhat lack dogstreet scene enough want stop watch movie expect entertain feel good movie grossly disappoint recommend movie age',\n",
              " 'christinas another identity crisis puerto rican school girl wannabe hoochie mama wish ghetto kiss madonna vmas will christina next wonder put crappy cds lil kim timbaland whoever street credibility',\n",
              " 'waste money eager buy cd elixir love saw hear fourplay atlanta awesome much computerize music many sythensized voice predictable estimation bunch track play smooth jazz radio station elevator mindless filler didnt care one',\n",
              " 'doesnt last long purchase item christmas gift last less one day begin leak air net stand part last longer begin lose airalmost three days really bad quality better wonderful fun item',\n",
              " 'best book kind enormous improvement second edition copy book cover everything need know pass state national board examinations become license dispense optician complaints content order somewhat counterintuitively large heavy volume enough tote around tool',\n",
              " 'hows reverend moon rev moon guy republicans dont want know man plan accord poppy bush maybe divine guidance help shape dumbyas economic miracle afterall moon say hes real messiah explain oceans lie spin winger think tank report gospel truth divine intervention isnt involve find google moon primer',\n",
              " 'difficult read good way describe book might say reminiscence stock operator philip roth write itmany time read look back cover reread ace greenbergs quote buzzy schwartz winnerall nonsense book full insipid nonsense might forget schwartz fact winneri suggest check library read last two chapters actually something call lessons please note title book forget rest nonsense many reviewers say system silver platter take find researchwhatever decide realize great trader need book certainly psychological insights buzzy wouldnt least',\n",
              " 'lousy theres nothing worse computer graphics mention try make make sequal re make call will sometimes things better leave alone absolute insult s classic american werewolf london grow know talk far concern classic horror movies make s present time now everything do computerseven horror movies now subject lazy key punch generation long live ray harryhaussen',\n",
              " 'better movie hampton side tell rescue pows survivors infamous bataan death march us army rangers philippines wan days world war outstanding job reportage side tell story eye rescue rescuers build suspense wasnt always present great raid film adaptation story work journalist years know good story read one one fall category',\n",
              " 'book lead social psyc book skynyrd great point undergrad never see unethical use graph life recommend book plenty info ethics ethics book violate ethics shame publisher print',\n",
              " 'dont buy customer manager review dead something id recommend yes work basic level without sync quickbooks crash time tons quirk buy something',\n",
              " 'buyer beware look recently cancel cable connection see save month buy book use instead get really disappoint doesnt even facebook inside kid now restless night cant see friends picture update wife isnt happy either book hardly mention anything celebrities really mislead contact publisher look whole internet paper look elsewhere dont buy',\n",
              " 's revisit recently purchase dvd think go either mallorca canary islands next year dvd informative outdated say film do back s sound quality good look transfer film vhs tape keep dvd good information cover different canary islands',\n",
              " 'immortalist manifesto never read derivative kitchy selfserving cashcow milk drivel entire life author need start quest immortality seek grow upa representative quotemy childhood friends grow old fat uglyi now look son classmate peer still get card bouncers bar club will outlive enemies marry children',\n",
              " 'dvd want dvd release dvd anamorphic widescreen will give better review',\n",
              " 'bear rule receive hard copy receive book pay receive electronic version',\n",
              " 'correct power cable order replacement airport extreme power cable apple product wrong size aiport extreme use frustrate product list airport extreme thing will buy seller',\n",
              " 'valley forge postion white powder coat aluminum bracket good product good customer service mount screw wrap small plastic pouch stuff inside small hollow space space unfinished sharp edge inside recieved inch cut across finger remove hardwarevalley forge postion white powder coat aluminum bracket',\n",
              " 'kindle kindle device truly amaze buy four one three christmas giftsi two suggestions future redesign relocate onoff antenna switch back device top lead edge make unnecessary remove device cover right leave amazonkindle logo add raise areas thumb dig make easier hold device especially bed drift lala land',\n",
              " 'fantastic fantastic shredder ive others grant cheaper total junk one flawless dont position paper slot last junky shredder little bigger sizewise others worth easily chew whole envelope full junk mail',\n",
              " 'great show show colorful easy follow small children lessons simple example good value rare days television mindless worthless cartoon son love laugh character feel good get good lesson recommend friends young children',\n",
              " 'adorable ice cream kid love spoon one break enthusiastic icecream fan use try scoop hard ice cream freezer great cute eat ice cream',\n",
              " 'everything lead domingo bless doesnt make wagner light think andnormans matronly voice doesnt fit kundry imo singers gorgeous record',\n",
              " 'great medifast diet currently medifast diet trouble constipation help tremendously even husband tea help liver claim taste bad good bland try small box youll buy larger size',\n",
              " 'yhe worst last month use suck really really suck mean felt apart broked hundred piece suck dont buy recomended',\n",
              " 'better still good enigma best jeff hardy real good dvd jeff hardy style dvd ajs dvd lot better enigma best jeff hardy lot better expect hardy tna one year know tna try make money rush dvd match good dam cage match awesome match style great even think even better one dvd good love lot tna wrestle dvds sell lot store advice amazoncom im sure good stock enigma better longer run still fun wrestle dvd',\n",
              " 'love one read bad review game bore use controller dance pad blast five kid yrs love watch someone game dance pad well dance pad game dance pad plug controller button controller fun jump around try keep try dance pad still game worth dance game well jungle book hope help',\n",
              " 'creeds horrible horrible band im sorry everytime hear creed shudder im harcore punk dont listen oldies day creed unoriginal band hear find music actual emotion',\n",
              " 'allllllllllllllllllllllot memory work really good brother share two gigabites forme',\n",
              " 'poor poor quality heart huge doesnt even look close model disappoint spend dollars better quality heart good learn',\n",
              " 'avoid americopy vendor things horrible vendor know impossible know blind shoot dude bag vacuum seal together peel open envelope huge pay neck able open insert whatever put init annoy literally blow gun air compressor blow air time prep use',\n",
              " 'attention use product two years buy websites first time buy product amazon tune fakethe product use smelt nothing one smell differently smell melt metal angry trash nowi need explanation seriously use product two years',\n",
              " 'perfect look kind sock wear wed day perfect exactly look good quality comfortable good price deliver time',\n",
              " 'pay adapter spring load tip pretty much car adapters probably take fiddle adapter make contact socket provide power move slightly power cut need adjust fuse recently burn mine cant really replace cheap work technically unless need one one weekend spend money something build little better',\n",
              " 'disappoint strict vegetarian use animal products imagine shock open shipment find real cowhide slippers inside description clearly say faux box come faux description incorrect list someone slip wrong pair shipment accident twice either way horrible mistake buy pair father one boyfriend strict vegetarian box contain real cowhide slippers amazon let choose zero star',\n",
              " 'buy first experiance electric pump awful motor weak provide proper suction call company tell complaints send new motor new washer ring ring case suction break neither help pump loud painful allow pump enough milk suction release manualy operate motor keep number time need relase per minute simulate baby suck witch make let even harder suggest anyone buy product',\n",
              " 'edge good day trip tour edge bell whistle want bicycle computer function relatively easy use provide great infomation concern speed cadence heart rate elevation ascent grade etc draw back battery last hours negative tour two weeks ago grabraawr wisconsin seven day ride cover miles great every night need find outlet recharge battery fault find edge',\n",
              " 'beware book almost kill sturve bacteria death bowels increadible idea use diet practically illiminate iron contain food menu digestive deasese likely already difficulties absorb vitamin complex iron way kill scd months become progressively weak pale ive routine blood test do come hematocrite point physycian insist blood transfusion lucky situation iron pills',\n",
              " 'never get never get baby pool didnt know call let know didnt pool time soon see pay question ask call really alot thank muchchristina jones',\n",
              " 'universal description universal fit mislead much big hyundai accent plus hard install better buy entire shaft assembly',\n",
              " 'good book although without flaw nonbiased reader scottish root tie find good book coverage scottish enlightenment excellent best part book cover individuals theories well highly readable move enlightenment become quite tenuous claim scots responsible british empire america canada little bite stretch book bite heavy read time',\n",
              " 'absolutely essential view youre bite look forward new years eve july thnot fun festivities fireworks july th twilight zone marathon scify every year always catch episode two ive never see catch know heart enjoy every second itso winter months year decide splurge buy entire series box set every episode original air date order ultimate twilight zone package fan plus bonuses many list complete booklet give quick synopsis every episode simply put cant better strike original camera negative magnetic soundtrack say right box definitely look way screenso favor youre old fan new grab set beat cold winter night blue will love itt',\n",
              " 'love love dick jane book son get much better read go dont know stop make book',\n",
              " 'poignant documentary poignant documentary life among remain jews carpathians outstanding traditional jewish gypsy music interest show connections two communities',\n",
              " 'movie doesnt deserve star im sorry ruin movies perfect reputation amazoncom movie doesnt deserve give sorry',\n",
              " 'sierra club wilderness calendar love country disappoint open sierra club wall calender picture wonderful choose better locations quality print superb enough frame',\n",
              " 'someone attitudes change feelingsbybrenda amador stargirl susan caraway real name life homeschooling go public school weird get mica area high every pair eye use wear long pioneerstyle dress play ukulele halls lunch room carry pet rat cinnamon hershe make people happy things leo borlock follow unspoken rule mica area high dont stand rule stargirl get everything change leo fall love herthis book absolutely amaze one favorite book book open cant close',\n",
              " 'great wisdom perfect balance lao tzu confucioushowever elegant poetic english translation different title translate thomas clearyback beginnings shamabala publictions though cleary selectively leave number meditations numerical referencesnotehong yingmings taoist mane huanchu daorenget book understand extent translators artif read chinese dont back beginnings version english chinese side sideone learn version book special',\n",
              " 'disgust salty hard bite taste chew salt lick much sodium totally terrible choice buy',\n",
              " 'big top full effect men large classic big men contuied please radio listeners around world veteran radio airradio personality yearsi contuied give big guy radio airplay due talent friend thelate great gerald levert give first airplay oklahoma city give gerald levert hisfirst airplay want dig littl deeper even give ojays first airplay theclassic ill sweeter tomorrow yesterdaythe big guy still stand tall still get heavy radio play great sensation buy dont let classic away youvernon campbellktlr ktlr fmoklahoma city oklahoma',\n",
              " 'buy demons wizards instead familiar demons wizards sideproject ice earth jon schaffer blind guardians hansi kursch project absolutely love figure high time check schaffers prime band disappoint bless damn ice earth best will definately waste time check cds may sound harsh high expectations listen demons wizards schaffer hook back hansi make third d&w cd please',\n",
              " 'slow much long friends recommend book read many good review look forward push finish slow start pace never pick',\n",
              " 'love buy grandson love play every time come vist papa granma',\n",
              " 'wickedly amaze fantastic game freedom move anywhere huge fanstastically detail mountains make game worth buy trick soundtrack snow effect gravy really wish support simultaneous multiplayer especially across xboxs still good',\n",
              " 'still get hey get cd boys still get new one great great new sound new style music meet guy s love theyve really mature oh reccomend yall duel disk dollar get great stuff dvd hey yall goin concert scream loud nc cause theyre comin back well love anyway years hasnt change opinion',\n",
              " 'focus pronunciation learn without book lessons recognize phrase understand speak know instantly answer without think response thats ive really learn one intimidate feature russian alphabetthe pronunciation easy follow repetitiveness will ensure phrase etch memory forever whole great introduction overview language',\n",
              " 'best take bite result sure maybe blades one work great drop',\n",
              " 'lame box look good horror movie slow really scary scenes creepy nothing blair witch projectif youre look good newer horror movie dont waste money movie house wax hostel instead',\n",
              " 'powerful powerful group come scene feel boost worldwide follow peace mind dont look back great tune album',\n",
              " 'disappoint consider information documentaries subject frank lucas harlem heydays one extremely disappoint amateur uninformative one stinker',\n",
              " 'huh word mouth star review book excite read series wasnt funny nowhere close pratchett adams find hysterical end quite depress keep wait improve funny next page finally finish',\n",
              " 'baaaad havent receive products anymore gonna responsable people sue write amazon havent hear anything',\n",
              " 'read must good story terrible writingandersons prose trite unimaginative far often simply laughable shame story compellingthis key part star war extend universe read must youve warn',\n",
              " 'best deal price gleim cpa audio cds best deal price pay pass far section cpa exam listen cds way work morning didnt use study materials highly recommend product',\n",
              " 'great miss things think movie wonderful suspenseful keep seat act better last movie line kind cheesy thing leave major events chloe buck wed amanda rayfords wed actually never even introduce importantly someones death wont mention whose sake havent see movie read book movie really wonder leave part',\n",
              " 'dissapointed wow dissapointment surprise see many positive comment album glad see know talk fiona apples prior albums find one compare maybe stick jon brion maybe reason record label didnt want release iti buy album base title track love hear radio felt track show growth musically personally rest album seem lack melody direction substance even lyric dont seem profound possibly grow tooi recommend album',\n",
              " 'good solo raider entry deaths deal fine entry solo raider western novel series series book focus character raider work alone pinkertons doc weatherbee leave agencymost plot take grueling cattle drive bring courage cowardice good evil everybody involve major villain contemporary sociopath standard western bad guythe solo raider book dont quality earlier hardin series one excellenthighly recommend',\n",
              " 'sex city meet martha stewart book cute short read really yummy recipes brisket chicken delicious humerous insightful stories accompany definately worth read',\n",
              " 'eli roth hack clever spoof scary movie clever spoof piece garbage poorly script poorly act etcetc see want open skull scoop memory favor think buy mess please dont reproduce world enough stupid people way amazon add negative star option rat system felt dirty give crap even one star',\n",
              " 'band complete garbage buy album mistakenly wonder song feature movie high fidelity someboy tell peppyrock band btk turn song hop maybe good anyway turn complete utter garbage buy rip chemical brothers nothing drive crazier soneone try mix rap rock',\n",
              " 'awesome sweeper pet hair absolutely love sweeper keep charge time use whenever anything pick actually pick pet hair better vacuum cleaners',\n",
              " 'indispensible person partly greek ancestry protestant upbringing contemplate conversion roman catholicism ask priest become orthoodox smile say go right direction come way home give book indeed become roman catholici count kin best friends brothers christ many orthodox thankful believe understand religion better read book though condemn certain errors soloviev speak true voice love orthodoxthis personal note add excellent review go mine recommend book especially orthodox christians important future christendom',\n",
              " 'waste dollar amount avid fan patricia cornwell think book garbage think purchase book vacation read throw away trout crab start conversation hop improve continue read disappointment im sorry waste time money',\n",
              " 'best cookbook gods green earth sisters grow cookbook mostborrowed book pay major buck hardback will never need another cookbook',\n",
              " 'let excite watch movie sadly wish hour half time back total let',\n",
              " 'interview vampire dvd original twilight movie except without teenage drama youre fan vampire movies must collection',\n",
              " 'wonderful book full great information wonderful book costume jewelry enthusiast great picture fantastic write give great insight quality craftsmanship unsigned piece costume jewelry highly recommend book anyone interest collect costume jewelry',\n",
              " 'easy read complex subject book cover great span time geography illuminate little discuss important interest stretch history find easy read despite complexity many charactersthe downside detail map perhaps timeline useful',\n",
              " 'destine witness even finish book write arrogance puffingi find author quite contrive true nature holocust intent personal injusticehe lucky young friends germany father king sort put high onhis list achievements although treatment women involve father prizedi go put one something worth mind time',\n",
              " 'nostalgic heartwarming father grow north end boston bring back lot fond memories mygrandmother great meals home lot family friendsgathered around recipes great although love photos',\n",
              " 'really great buy book october now february yet make anything cookbook love vegetarian cookbooks look something quick easy nothing book sound appetizing fill picky eater way im sure vegetarian cookbooks way better skip one',\n",
              " 'spoiler suspense novel whodunitthis saw mike try desperately hold life find reason keep go flawless beauty commit suicide sheer boredom perfect life memories girl start creep back mikes consciousness contemptuous mike things imperfect face mike make decision fate leave reader furious dead girl murder',\n",
              " 'code scanner reason buy scanner read cod olds get find work model love work fine vehicles love know another hookup use able read cod olds great investment self person',\n",
              " 'half star option great firelighteri pick book time pick forget soldier guy sajer think nonfiction account boy wrongwhat dont understand possess author think novel someone delude horribly book time unreadable number reason unbelievable nonsense terribly write edit historically inaccurate point laugh loud stupid must purchase without spot bulge one star reviewsthe book well review author friends family people owe money',\n",
              " 'great new band rossdale still huge fan bush now fan institute sound similar bush probably gavin rossdale write lyric sing lead vocals harder edge bush overall im glad similari sad see bush break now glad another oppotunity enjoy gavins incredible voice interest lyric styleif like bush enjoy album',\n",
              " 'underrate guilty pleasure although critically slash upon release actually broad entertain comedy many funny sequence performances tom hanks bruce willis strangely miscast mean bad palmas direction stylish cinematography quite beautiful worth see eyepopping camerawork open five minutes alone original adaption critical concensus far betterthe dvd offer nice anamorphic widescreen transfer extras low price great',\n",
              " 'horrible one worst surf movies mean footage come surf movies much much better enough depth strap crew say laird hamilton dave kalama onlt two apart crew surfers actual crew say guy make film well mean expect bruce brown son make better surf movie bruce brown make one best surf film time endless summer series sorry person make film know surf make film',\n",
              " 'victorinox leatherman long time user many tool company appreciate equally mainly purchase tool leatherman long timeanother reason go tool need something carry pocket clip victorinox swisstool spirit doesnt clip im one carry pouch belt carry tool dress professional work tool clip inside pocket little subtle opinionit different feel swiss already see amaze will swiss beautiful well lay smooth shiny leatherman charge tti look mean blades leatherman wicked best offer tool bite way love one hand operation blades dont anything victorinox',\n",
              " 'buy avoid people people deal withthey liarsthe write say set include square table four comfortable highback chair order will arrive chair company will offer apologythey supply damage materialswe order table one quite smashedthey terrible customer serviceso far months send back table still receive credit',\n",
              " 'great winter beach read fun read endear although unrealistic character interest plot twist great winter beach read',\n",
              " 'undiluted truth molotov cocktail book bible dissidents ive felt mentally morally sick work higher education close ten years now think crazy gatto confirm system sick people run benefit honest honorable people one fairly label pathological ill even label pedophiles rap mind spirit souls students rare see man speak truthfully forcefully passionately miss today honor principle character creativity imagination independence dissent im amaze man hasnt assassinate expose dirty game book go way beyond narrow scope education tap world view value system hearten help understand world screw man run president opinion',\n",
              " 'dog love terrier mix rescue get year ago still one piece hard plastic ceramic hardwood floor loud take time dog learn food take dog hour highly recommend always supervise dog toy especially new',\n",
              " 'decline fall barnes collection detail description folly mr barnes think micromanage multibillion art collection beyond grave collection now good hand art steal',\n",
              " 'deliver untalented egomaniacal sean sorry rough sean read deliver evil defeat terrorism despotism liberalism ask tell write person friend radio show book fill empty anecdotes circular logic outright lie despite obvious shortcomings stick read cover cover hop payout least four hours life werent waste payout never come well least % cost back sell use amazoncom im hours buck well worse couldve read book',\n",
              " 'correct filter presto cooldaddy deep fryer link correct filter waveshaped filter correct filter presto cooldaddy deep fryer proper filter rectangle shape info correct filter purchase prestos website contact presto customer service',\n",
              " 'pure nonsense need read jacket copy know book nothing tire rehash fail creationist arguments read book doesnt anything change perception read richard dawkins instead',\n",
              " 'want sweatpants thinner expect fit well around waist one loop cord elastic find dont work well one cord split tie',\n",
              " 'work us purchase gripe water products baby colic issue never saw improvements figure give shoot noticeable difference colic tabs normally love hylands products work',\n",
              " 'waste look carefully detail book buy tiny mean really tiny think little golden book tiny dont waste money even new father gift worth text mildly amuse brief mostly accurate',\n",
              " 'nikon tceed youd better tripod ready purchase telescope powerful zoom factor mmequal camera order good picture telescope must learn control exposure speed shoot excellent tool nikon coolpix',\n",
              " 'open chapter may best epic reason dont give book four star take page quite bite odd page book consider really ~ page epic divide chapters epic life neatly set black type anyone life today will appriciate similar life years ago note caution though first hundred page may able put work youve read twenty volumes',\n",
              " 'heavy hearted reader great fan patricia cornwell anxiously await new book heavy heart write review horribly write book fill cast unbelievable bumble idiots one intelligent character book redeem feature bookwhat disappointment reader feel angry insult ms cornwell think book enjoyable anyone tremendous waste time author readermessage ms cornwell give readers credit intelligencequestion ms cornwell world write book actually allow publishedmessage patricia cornwell fan dont buy book waste money waste timei give book one star lowest number allow give choice rate zero',\n",
              " 'story year story chickens story disribes true life chicken think talk carecters funny way talk walk look really recomend anybody depresed reson happy watch movie one best short movies year thing wrong isnt wallace gromit way still good movie',\n",
              " 'great fan great value setup outside back porch provide cool breeze summertime work great',\n",
              " 'nick charm go sucker good romantic stories walk remember disappoint third book spark character shallow story predictable read first two spark novels line repeat time time bring readers emotions none sentiments touch deeply im sorry say book write popularize tissue paper spark try please readers much lose charm deeply notebook please nicholas bring back charm notebook stop try please readers notebook best novels far',\n",
              " 'slow start good middle lousy end book major disappointment author seem todrone ordinary happen without provide pointor revelance overall story line plod last page hop end tie everything together least happy one trudi instead book sort petered disappoint felt read book huge waste time guess didnt',\n",
              " 'first golf book bind book break page easily pull hard cover childs name write back inside cover characterize book good shape disappoint',\n",
              " 'read review buy previous review point original record definitely worth money give star',\n",
              " 'maybe little informative good detail much ill never use many shortcuts ill probably never remember program ill never use easy understand feel various program nice useful product informative need expect',\n",
              " 'resent imply wait chicken flickin minute amazon try say show gold box claim select doesnt take detective figure theyre seem imply heresure theres probably good doctoral thesis someone many issue dont need big doorstop book selfdiagnose actual disorder well anyway',\n",
              " 'highly recommend record fabulous grand concertos corelli one best record concertos take grant set precedent concerti grossi handel geminiani many othersi musici employ impeccable technique tone articulation dynamics record philips hold part deal sound quality record unbelievable record crisp clean record must buy fan baroque music',\n",
              " 'terrible crayonsdont understand review buy crayon daughter base good review receive people honestly cant even begin understand people say good things crayon durablemaybe durable thinnest crayola crayon certainly jumbo crayon color light barely fun young children crayon feel weird color actual crayon color paper worst crayon think weve use include cheap crayon restaurant kid color usually love melissa doug highly disappoint crayon',\n",
              " 'disappoint purchase book couldnt wait mail excite learn eat womb health come across lot reference healthy womb god idol dont know put constant reference idol god womb circle chant suggest think able take use discard everything reference frequent put really bad taste mouth felt expose things oddly relgious nonchristian interest purchase book hop id learn eat certain way overall healthy womb get lot weird stuff make uneasy couldnt finish book',\n",
              " 'lovely book big tudor fan love artwork lovely book ive try two recipes far think terrific',\n",
              " 'keeper recommend game anyone say theres couple disappointments ive run comparison previous fifa soccer versions fifa learn isnt createaplayer mode game find disappoint another gameplay might hard beginners although im try negative awesome game certaintly one sport best two things disappoint reason wont return ill defenitly enjoy awesome title',\n",
              " 'chopstir make silicone wouldnt melt ruin tip work though',\n",
              " 'combination sexy smooth ears groove debate buy compilation fear let definitely dont regret usually skip songs enjoy drive long distance notice didnt skip songs satisfy purchase favorite track include track dont look back dual sessions insanebeach love mix',\n",
              " 'great start point new bank board members benton gup give thorough overview role bank board member importance understand major elements make modern financial institutionit important note starter book currently bank board member contemplate become one understand book will spur study major subject book format',\n",
              " 'dont buy dont buy use weeks work fine able within minutes sudden stop work still pull nipple nothing come constantly readjust sheild call customer service say lactation issue another pump problems dont buy handsfree one walk around house dont want tie machine',\n",
              " 'noisy zurich automatic watch winder zurich time single automatic watch winder keep watch wind motor noisy keep bedroom keep awake quiet winder',\n",
              " 'years troublefree use set novi channel wireless intercoms years mine set different wire circuit current home work fine im sure people trouble work different wire circuit one caution use live condo apparently one neighbor receive set christmas present begin hear conversations day christmas switch channel problems',\n",
              " 'dont waste time start page turner end bore dont fool way book rat star',\n",
              " 'classicly lovely great baby vision simple timeless unisex look mobile great development baby vision whereas mobiles function moreso match decor mobiles educational attachments crib keep mind pastel color appreciate infants months panda bear first animal see infant bc black white primary color blue jean teddy become notice green gingham pattern dog softer hue duck spot development baby now sitter still like look panda con mobile windup music box prefer batteryoperated one play long baby want reasonable price mobile well cute look make great buy educational baby products dont look weird',\n",
              " 'satisfy roadmate get job do isnt sleekest smallest gps will affordable price issue face roadmate far cost map update around havent need yet',\n",
              " 'fantastic album want great album recently introduce bite search find baxter put several albums one anyone know one might buy albums appreciate help thank',\n",
              " 'great read follow line vinci code novel absolutely amaze follow line dan brown novel different twist make two novels different shoeles amaze storyteller flair twist will keep reader guess end novel highly recommend novel anyone love vinci code angels demons',\n",
              " 'disappoint sequel even though enjoy book find lack continuity robert obriens original book mrs frisby rat nimh book easier read doesnt detail first book read aloud students students say like original book better',\n",
              " 'spellbind deceptive perhaps become desensitize find novel mislead cook spend great deal time foreshadow tragic haunt event end seem anticlimactic expect something far sinister preview outshine work enjoy read cook style soft understate utterly mesmerize perfect late night read style flow drift subconscious allure prose even lead less rivet conclusion',\n",
              " 'communist blockheads mr brzezinski feel america must replace global village million people disagree must beyond puny immagination oneworld governemnt easier conquer force socialism make global community hell earth thousands engineer run billion slave zbiginiew trilateral commission founder member long time antiamerican elitest cfr member one question clown land job professor john hopkins university',\n",
              " 'love feeder make heavy duty materials last happy find one add one yearsi take bowl wash sometimes cat want eat alone take apart seperate feed',\n",
              " 'brutal brutally inadequate contemptible work garbage fan boys talk superlatives planet terror fan base scifi lemmings amazon salivate edgy whinocollege gutter film hype truly disappoint cloverfieldkill bill jackie chan film go artsy arthouse meth ludicrous probably suppose jump street enough scream acerebral think sure boat load fun work quentin obviously reason movies make five star indeed id rather watch rerun ghandi marathon amc awful clint eastwood film unforgiven sit quentin film againif kind raw new talent come hollywood era certainly chance bring ideas fruition',\n",
              " 'bad ship back music right ruin serranos lyric best selfabsorbed adolescent worst plain sick perhaps people dont mind songs everything suicide thoughts pedophilic desire count remove player pedophilia song return amazon disgust without even listen rest cd gross dont even care whether money back want thing house yuck',\n",
              " 'brian wilsoni wasnt make time stun yet disturb portait true musical genius paul john eachother brian little group participation critisism powerful documentary prove struggle music will last forever',\n",
              " 'couple strange review dont think mtv come within fifty miles band couple review make wonder somebodys work personal grudgeanyway toreador solid uptempo melodic indie rock album one many creative northwest band find trap tail end grunge era songs comet shiva fun frenetic number sardonic undertone one best albums time course good reminder pacific northwest s spawn lot quality band shouldnt fold onedimensional grunge scene buy put want feel energize sing along little',\n",
              " 'noteworthy success clever original satisfy manipulation sciencefictiontopoi mark wakelys audience einstein realachievement',\n",
              " 'one goto book absolutely love book originally find check campus library find inspirational helpful design work buy copy great people really interest typography',\n",
              " 'mac yes mac great dispute jaguar real step forward glad pay panther well apple claim great new feature theres really handful useful little much ask year latergreat product worth cost',\n",
              " 'one star actually much generous dont waste money david allen grier funny perform live color now know great support roles leave alone comedian leave alot desire dvd good stand routine awful saw last night new years eve atlantic city hard believe guy warm comedian come hilarious dont spend money stand dvds will dissapointed chance give star',\n",
              " 'affordable challenge fun amazingly fun energetic plane recommend launch via directtoss paper plane motor hummingteaches kid relative speedstakeoff land wind etcexpect crash first day right age itll great end first flight day im enjoy watch much boy thrill fly',\n",
              " 'worst comp sci book amazon appal bookboring poorly write poorly editedtry algorithm design manual steven skiena thomas cormens introduction algorithms kleinberg tardosalgorithm design excellent introduction design analysis algorithms anany levitin instead mishmash',\n",
              " 'long appear photo need short mislead picture think thing much tooo short',\n",
              " 'confuse time inaccurate use book online class book test bundle together time take test challenge lest one question simply wrong inaccurate test quiztest question non constructive part many examples use nonstandard fonts hard find make assignments unnecessarily difficult complete exercise follow instructions correct result match examples give create difficulty need book suit online class often give instructions completely irrelevant environment book give good amount tip trick office book need revise group lessons',\n",
              " 'horrible will keep short sweet sony srfmv horrid reception bleed station waste one thin dime product',\n",
              " 'squirrel pruf feeder feeder less capacity seem completely squirrel proof sturdy attractive better keep pests bay bird seem better feeder replace plan buy one front yard',\n",
              " 'innovative finally instrumental allow dj mix withouthaving buy single every popular hip hop song toget instrumental hopefully will come',\n",
              " 'worse godzilla worst hype movie see none star war magic film none character film sympathetic jar jar worst creation history film buy movie tell george lucas okay make billion dollar movie awful script worst thing movie computer special effect real star humanity soul film star war great movie character people relate movie none waste money worthless movie',\n",
              " 'version doesnt play tv excite finally find movie put dvd player say couldnt play try xboxstill didnt work try several units unable play version film work state disappoint purchase waste money time wait cant even watch',\n",
              " 'nice good value money use year now best ones ive own plus point sturdy metal band result snug fit compact enough carry around without loss bass careful open headphones hold plastic part may break best way hold metal band pull apart good buy highly recommendedamarendra',\n",
              " 'pay usually use merkur blades saw available figure im sure theyll fine blades felt dull flimsy couple blades pack grime open skin irritate never get small cut safety razor sincewell really immediately hop amazon order pack merkur blades',\n",
              " 'fun buy yr old boy think fun due positive review bore magic set ive see trick silly think play obligation never touch melissa doug usually make great toy think maybe stick entertain smaller children',\n",
              " 'toy similar reviewers voice transmission *never* work toy reason morse code transmittedreceived whole point toy talkie part toy workie bother get',\n",
              " 'catalina doesnt ruin girls make ruin girls smarter catalina time stressful environment kings experience attribute insecurities catalina incredibly strong academic school faculty everything power help students well king obviously didnt natural ability drive succeed need flourish show fact write book recieved pass grade freshman english class',\n",
              " 'want goodasas asa sasasas asas asasasas asa sasaasas asa sasasasasa',\n",
              " 'dry history excite buy book caribbeanhowever disappoint author way tell story dry sometimes hard followon several part book find try read fast real interest part believe author rely much economics region avoid tell important events information regionfor example never tell islands name name todaywhy cuba doest come antigua martinique sometimes book read economics report make dull bore timesi guess author assume know storyagain dull dry history region full history action',\n",
              " 'terrible buy one local store think take care light body hair hadthis thing didnt anything mess hair meani thoughtcool will test bad boy try trim hair wrist test push hair around take round foil cutter straight cut blade even try method take much effort cut hairi think advertise wetdry maybe better wet againsame result needle say return within day buy',\n",
              " 'bad original sound supermax original recordingwhen listen supermax great hit love machineyou hear yourselfthat hes different theoriginal record',\n",
              " 'fun mostly fiction book fun read fan wc field accuracy major issue author many stories disproven better biographers bother research author accept field gag stories output paramounts publicity departmentthis book enjoy regard work fiction loosely touch aspects reality field lifeif want actual biographer field youd much better simon louvish',\n",
              " 'fun game true anime play game years ago sega saturn cousins two kid love character game play wasnt challenge game humor cut scenes make well worth itwe end get anime manga much enjoy story shame cant game less money find less definitely great end beloved console wish still game sega saturn',\n",
              " 'hot enough controller get hot highest set warmest skin get f thats warm enough good controller get almost hot f old heat heat pad reach f middle set warm enough good',\n",
              " 'wicked widow hardly wait new book amanda quick publish avid fan altho one good others iemischiefaffair still ladies lend breath fresh air regency period love scenes believable men rather nice even prove answer every maidens prayers bad really bad guy reward street children treat respect kindness good book',\n",
              " 'good content hide behind impossibly bad write helpful nuggets strew randomly across almost page ramble natter comically poorly write book seem author excellent research worthy topic felt key find light monetize decide stretch finite set insights suggestions easily fit couple page across multiple tedious filibuster book please see cheap newspaper stock incoherent tome disintegrate fireplace',\n",
              " 'tool dad buy father love happy package come time father day buy seller',\n",
              " 'haunt beautiful favorite cure album people call album depress morbid love cathartic take another world many artists everything work gorgeous cant live without',\n",
              " 'great american literature finest fortunately fifteen years ago read book english teacher require book need analyse chart one need absorb felt deserve one book students hate merely require readingthe character real book small town one might live now grandparents might live decades ago issue racism sibling relationships plain grow touch soul plain fun readits bite american culture cherish pass valuable art tear apart attempt read symbolism analyze nearly deny harper lee respect deserve write',\n",
              " 'find purpose mom book buy part bible study group find helpful keep focus provide christ center home families',\n",
              " 'absolute junk fryer work great last year interlock electric cord longer connect properly wouldnt turn replace cord unit work another year quit work completely fryer handle tendency keep fall fryer thereby melt plactic twist horrible fashionsteer clear dud',\n",
              " 'fun four get nerf gun son big enough cock gun shoot get one dad play kid go bed fun want bigger ones daddy need smaller one son work',\n",
              " 'picture book buy wait baby son expect first sibling unhappily surprise find word picture definitely part product descriptionit isnt hard make story know lack word never buy',\n",
              " 'nice work fast mineral deposit bottom big problem clean actually boil water heat turn correct time around years work fine',\n",
              " 'art repros worth hang taschen posterbooks excellent quality six van goghs give low price nicely representative group primarily impressive factor accuracy color reproduce see many person critical print poor pathetic truth color point hang home image cafe arlesnight lane cypresses one sunflowers one selfportrait bridge langlois course bedroom arlesregardless amount money spend definitely buy little jewel adjunct tightly budget buy',\n",
              " 'think style beyound taste think style beyound taste will drop kitchen counter work someone esle enjoy',\n",
              " 'nothing guess product much younger woman read review positive mention age star',\n",
              " 'worst bad movie bad act even rent felt waste dollar movie franchise anyworse entire story antiabortion story write mormon worst',\n",
              " 'perfume seem old open box find color seem weird taste essence find completely different compare old one think old perfume lastly travel next day keep perfume',\n",
              " 'big okay give plenty write space want convenience save money invest laptop',\n",
              " 'give chance confuse first chapters occasionally stop think time scheme incredibly worth end wonderful love story original concept well write im surprise author first book many passages beautifully construct sure might plot hole important reader understand things character dont either confusion simply convey essense henrys feel little control life clares fear will lose',\n",
              " 'excelente reloj excelente reloj tiene numeros claros faciles ver muy facil configurar muy buen reloj por este precio',\n",
              " 'buy new codepency author great book update version definitely better really help understand stop twist live people around',\n",
              " 'make great coffee untilit short research apparently well enough get cup farberware perc couldnt happierafter use coffee coffee hot delicious didnt take longa couple months ago blow gfi plug think someone elses ac somethingwell three days row weekit longer work cut do blow circuit brown waterim disappointedand now hindsight im read one star two star review see common element pun intendedamazon stop sell piece crap pleasei love order everything always look amazon first widespread issue farberware give bootthanks',\n",
              " 'excellent story read summer boyfriend finish honest things story surprise think story little different think things unbelievable nothing chart outrageous long glad give something look forward everyday long time entertain book',\n",
              " 'long run avid loose tea user feel idiot tea ball come apart piece mesh halve plus chain clasp side life seal way suppose ready invest much higher quality infuser basket piece nobrainer use mother four things simple reliable',\n",
              " 'dont wait essential jazz everything max roach clifford brown together solid star affair crazy think doesnt much better folksclifford brown trumpetmax roach drumsharold land tenor saxophonerichie powell piano bud powells brothergeorge morrow bassi dont see need write long review record dont need convince one either youre jazz fan youre dont brown roach inc youre',\n",
              " 'raw inventive think album genius engineer build masterfully powerful machineout erector set sell live water powerful raw clangy beat sole voice anger frustration insight overall really guy fun create incredible line without use proper rhyme scheme formula dead beat incredible sole rap skills argue must say beat star album hiphop albums emerge lately one nd elps fantastic damage exceptional songs include da baddest poet salt everything plutonium',\n",
              " 'item discontinue experience similar problems others describe charger will stay charge day long give minutes worth extra power nds switch play mode get noticeably warm almost hot center battery area play modei call nyko support inform item discontinue similar product offer company nds offer measure credit towards product web site items nds amount lightup stylus camouflage carry case match car charger hardly replacement charger grip amaze upcoming hour overseas flightso im ten buck retailer exchange either hack device try fix battery take chance waste another ten buck possible work device now wheres triblade screwdriver',\n",
              " 'im sorry couldnt stay awake read thing confuse bore annoy high hop pick historical fiction read science scientists ive generally find irish writers least available us likingskip one',\n",
              " 'excellent resource bore tear order encyclopedia resign slug mountains information end say againwell please say mountain information often know say definitions point crisp relevant time rev stravinskas insight include information ordinary catholic need pm sunday mad rush complete assignmentwhere encyclopedia lose definitions necessarily lengthy obviously white space save time reread whole passage value information include believe encyclopedia excellent resource scholars catechism catholic church',\n",
              " 'book opinion drink author book come across drink prohibition aside repeatedly state strip right drink really didnt say anything glad free',\n",
              " 'without soul play beethoven beethoven piano concerto please listen backhaus schnabel fischer perahia',\n",
              " 'good read lynn harris never disappoint step plate love story jerome dickeythe character kenya amir great pair cafe piel goodthe end bite unrealistic storyline good short story channing awfuli finish read iti know go storythis story rate book five',\n",
              " 'believe believe people give film star force watch entire film believe someone actually recommend film yea interest twist get real painful love god bless',\n",
              " 'still hungry book book nearly good think stop read nd chapter go donate sell garage sale',\n",
              " 'break months many others stop work tonight monthsprior tonight absolutely great although lack switch kind lame saw wolfgang puck panini press look cool stand side use onoff button',\n",
              " 'unexpected pleasant surprise happy headphones people hear impair hear tv computer without blast people room yea worth price value',\n",
              " 'fiasco bette midler fan project midler project enjoy samebut rosemary clooney fan complete dissappointment choose rosemary clooney songbook album totally wrong late miss clooney queen songbooks',\n",
              " 'never work machine wouldnt recognize card total waste money new slim pstwo machine recommend anyone favor buy regular memory card',\n",
              " 'title oxymoron good job make simple actually really book think need extra guidance professor use easy look pharmaceuticals relate info actually able use easily take open book section look pharms pharmacotherapeutics test definitely recommend book',\n",
              " 'ship flaw excite order month old grand son receive bite disappoint although toy seem nice sure will love suppose christmas gift come box ship box best shape find box wrap come box want think buy use one idea',\n",
              " 'hilarious ridiculous even think blame libraries maybe high power political figure library board across america didnt feel need make serve institutions things people get back core value american public turn american idol reality long enough end reign retard support libraries need house items publish anywhere every podunktown library congress guess youve truly make youve sell enough book bite hand feed mr bakerhowever detract quality write stellar usual',\n",
              " 'journey well worth effort familiar character harry bosch terry mccaleb really mystery say destination important journey connellys write fast pace streamline give large dose nonessential information prolong story happen quite author days learn little harry remain mystery hook journey well worth effort',\n",
              " 'love couldnt wait see end book want know end rather drink current part story really pull along im sorry head now keep think pick book read remember finish heart sink little time',\n",
              " 'great read patton flaw clearly present excellentlywritten biography find story full high interest one help feel glad patton present battlefields serve excellent work well match deste work read decision normandy read july fatal decision read june patton heroic things need admire flawsand include belief crude foul language somehow make better man general think know mental damage doctor great enjoyable book read revel',\n",
              " 'never receive order say ive never get dvd order wing eaglesjoyce',\n",
              " 'live hype read book october bookclub meet hard press find hype book aspects book think provoke fail see merit book supposedly find wonder conversation worth publish find interest many occasion book get bore often jump around lose beatthats say much end book much aspects think provoke id highly reccomend book road less travel better',\n",
              " 'beware website suggest hook gadgets spam send fishingphishing site will try steal identity send load junk mail',\n",
              " 'dont want cinema say film dont worth attention hate think kill verry fun americans love kind film enjoy kind cinema want',\n",
              " 'adequate buy two adult chin male tiny somewhat cramp use add fleece house now use platform heavy stable enough use platform shave will tip slightly startle jump additionally jump enough force top come daily eventually nail wouldnt fall awkwardlythe female much longer male look really uncomfortable whenever turn around abandon didnt even give alternate nest boxi know price attractive now two house im go pull replace substantial large box definitely dont recommend house type',\n",
              " 'nice design bad track really like form factor feature unit excite first truly wireless mouse recent powerbook purchase unfortunately find response time lag slightly cursor track smooth fast macally iopti jr mouse ultimately prove unsatisfactory find problems continually back bluetooth pref order wake mouse computer go sleep reactivate pursue fix performance subpar anyhow return will try someone elses bluetooth mouse find one respond well usb mouse give entirely',\n",
              " 'frustrate max buy rct soak son love rct much soon instal crash soak original rct neither work get bad version error ask install disk already instal customer support atari game one answer phone one respond email trash',\n",
              " 'great switch fit perfectly work great sure nice write better installation instructions',\n",
              " 'great service terrible buy amazon march work days die make long story short take panasonic months resolve situation finally end buy back usually good luck order electronics amazon remember cant send big tvs back amazon even break days buy policy disclose purchase complain panasonics service take refund buy lcd direct prominent computer maker advance exchange service policy better option kind purchase',\n",
              " 'ethereal old school groove evelyns latest release contribution late night compilation quickly make best list seriesmy question dialogue end never care listen',\n",
              " 'awesome nice filter hot cold water use every day filter heavy remove old one put new one',\n",
              " 'hic porcelain set mortar pestle white love set use small one crush pills use large one make small amount mayo garlic shallots recipe crush dry bread crumb single piece fish herbs set good small slightly larger task find reach often larger one',\n",
              " 'crazy breakfast club movie arrive quick always good thing hate take forever movie purchase mail box buy use afraid come scratch skip certain scenes appreciate know go several scratch good purchase please product',\n",
              " 'poor design bottle please pay close attention little vent holesslits bottom disc wash bottle horrify realize black mold substance slit wash better recommend hand wash boil piece mold form slit im get rid germ infest bottle go buy better design bottle ohthey dont prevent air bubble better brand dont waste money',\n",
              " 'never get work product frustrate try use software didnt work tech support unhelpful expensive consider wait hold nontollfree number return go ati radeon allinwonder love',\n",
              " 'major dissapointment read every single book karyn monk love except one didnt even finish book bad heroine annoy condescend towards hero hero eas washedup character work happen magic aptly display book well guess every author write least one unsatisfactory book two',\n",
              " 'wonderful overlook sleeper although story famous zwriterdirector edward wood jr many mishaps try become wellreceived mainstream filmmaker heart story touch friendship bela lugosiexcellently act write direct photograph score tim burtons wood certainly auteurs best personal work next vincent edward scissorhands stories misunderstand outsidersmartin landaus oscarwinning scene steal bela lugosi missedpull string pull string',\n",
              " 'one book thats stay read book shortly come years ago stick years wont say greatest book ive read definately slow point character seem bite odd maybe even unnecessary definately good book one recommend anyone look nice escapist fiction think unusual ways offer nice twist turn quite enjoyable ride every book remember years first read',\n",
              " 'rubber chafe ankles wear one day rubber chafe ankles skin rub dont wear without sock addition werent comfortable felt bunch hard rubber nipples press foot thats pretty much guess want shoe spray garden hose will work want something comfy try teva keen',\n",
              " 'good consider lilly better truly enjoy book second book better agree emily little forceful book believe truly depict struggle young christian woman nyc find funny inspire recommend gift young christian woman go college life college ask good question always easy answer',\n",
              " 'recycle shallow really marquez protagonist book mention latin quote old man forget hide treasure wellin case seem marquez forget exactly place hide superb skills narrator fascinate magic realistic storiesthe novel shallow disappoint story years old bachelor love teenage virgin like watch sleep magic atmosphere small south american city marquez forte novels feel strain recycle background unsatisfying storyis possible salvador dali old age allow young painters imitate style book write ghost writer old master nod head slowly heat afternoon siesta macombo',\n",
              " 'personal touch autor write much research subject place attention conclusion elaborate personal experience certainly experience countsthe book research paper thesis easy read',\n",
              " 'dishonest want intelligence assume zero want read bill ayers book nothing better support fraud book',\n",
              " 'wake button suddenly die amazon replace second unit first one issue wake button choose ipod radio buzzer wake second unit arrive work fine days wake button stop work bad rest function sound nice order full refund cant complain amazons service best deserve star',\n",
              " 'april declare clinton free month nab rightwing commentators ask month april five minutes without mention bill clinton clinton free month say one nab fficial clinton leave office three years ago yet pundits hannity limbaugh coulter cant five minutes without mention name seem sort psychological malady try ween weird clinton obsession hop national dialogue improve little',\n",
              " 'nice fast ride sons describe fast quiet electric motor keep long hours fun recommend bike',\n",
              " 'barbarians love story irony agony love major elements peter hargitais novel atilla barbarians love story atillas struggle free shackle past customs emotional rollercoasterhis postmodern fiction appreciate generations find agonize people rejections join multicultural societies may criticize novel ordinary love story make worthy read peter hargitai anything closeminded current melt pot america world need even begin may sync rest book nice sense hungarian history despite technical errors overall jist novel enjoyable',\n",
              " 'bring work place corporate executive belived one person personal life yet another work life book help realize true work human spirit powerful example strenght excitement dedication one find bring work place must read find expereincing sturggle',\n",
              " 'guy bad write songs eighties alright good buy entire album much better artists leave dust',\n",
              " 'entertain read enjoy everything prison relate sure total fascination world incarceration book one many enjoy write simple easy read format book read day two miss beat good account life inside rather imagine enjoy read life inside pick one enjoy',\n",
              " 'great gift girlsand boys little book hit spot preteen older readers graphically colorful variety interest photos illustrations write conversationally yet enough factual citations validate unbelievable heroic stories introduce reader cast amaze female character mainly unheard contemporary american culturei buy send grandchildren captivate read learn lot',\n",
              " 'nice bite water rain classic precensorship movie s usual type film one must fair amount read line full story joan crawford give strong performance sadie thompson trollop run law walter huston alfred davidson bible thump top preacher sufficiently scary rest cast put fine performances cinematography exceptionally elegantthe story bite water somerset maugham original extreme leap believability need part audience accept denouement story strong powerful surprisingly uptodate consider almost years old seem religious right throw muscle around longer thinki highly recommend rain reason see joan crawford type role make famous',\n",
              " 'simply superb dance music superb thats word find qualify excellent compilation buy stop listen become impossible day arrive listen three time row ive know chopin s think music gazebo play radio brazil years simply get astonish musics quite good chopin finally original version classic song single edit version remix version s really love wrap rock gimmick anita telephone mama although price dollars plus ship % tax pay countrys customs completely worthy awhile thank amazon gazebo really enjoyable',\n",
              " 'thank god people agree glad people miss nick fox really surprise author decide kill series jess best couple really wish stick around havent read book infact stop read sweet valley university sister really idea sam neil happy read review people say author bring back nick fox',\n",
              " 'get outdated th edition january now years old book woefully date anyone look streets add change last six years assume book come already year date hey adc new edition',\n",
              " 'great show dvd design lack firefly fan buy now show great good sound widescreen fox never showedm way lot plot arc make sense fox show order things strange complaint quality dvd menus graphics cheap feel selection bug disapears background time time fatal flaw glare compare quality showsthe miss espisodes explain alot irna leave begin object space fav mal zoes history plus course see real live alien itenjoy',\n",
              " 'ultimate food count book complete book food count essential successful healthy lifestyle concise clear helpful every way gastric bypass surgery book recommend surgeon help guide nutritionally begin new journey eat right book will enable',\n",
              " 'life short bad book im snooty really didnt plan b storys transparent plot excuse main character reminisce wuuunderful college girlfriend boohoo dump get marry rebound save junior high schoolstyle diary',\n",
              " 'granddaughter pleaser christmas extra special pogo stick first arrive granddaughter know whole lot computers think greatest shop line thank amazon make terrific help time essence',\n",
              " 'scatter terrible book yes provide broad overview history christianity scatter badly organize give focus seem random movements events beliefs christian history neglect others need edit consistency clarify runon sentence poorly illuminate point',\n",
              " 'break stapler heavy duty stapler anything tab hold staple light piece plastic break year two use dumb make heavy duty metal staple dependent crappy little plastic tab',\n",
              " 'ciara goodies want say love ciaras first album goodies sing real situations beautiful voice music real really apply teens today rep fullest',\n",
              " 'violets need water story huge letdown although ill admit start pageturner fastpaced gory gruesome intrigue way em think didnt seem want slowdown keep right go go leave end rush lack drama story completely die suspense typical patterson novel furthermore make things worse effort pick back shouldve another story altogether discover whos mastermind disappointment',\n",
              " 'courtship vicars daughter love storycould hardly put book recommend book anyone want interest story',\n",
              " 'dont voice actors great choice rest dont put pain watch reread book',\n",
              " 'interest life make less interest doubt man formally know harry houdini lead interest life sprinkle throughout book reminders yet author compilation facts contribute book lack interest events stories tell chronologically wouldnt normally problem sort order system place instead things appear throw haphazardly make hard keep track many character houdinis life relevance time situation lose mishmash information author attempt humanize biography nice interpose dialogue prove distract bite unbelievable rather stick facts present sort orderthe book enjoyable insomuch houdinis life fascinate bad complete effect interest life lose within puzzle page',\n",
              " 'poor dvd play buy sylvania dvdvcr recorderplayer last year husband lately dvd player scramble dvds',\n",
              " 'nottoosweet success last childrens book doesnt raise blood sugar great illustrations memorable way present count concept wish book companion mouse paint',\n",
              " 'worse bad case diarrhea time ago really bad case diarrhea think flush toilet go forever little know sarah palin handlers siphon sewage pip los angeles county repackaging documentaryleni riefenstahl couldnt make film rightwing propaganda piece garbage',\n",
              " 'perfect diversion beachside read danielle steele write another diversionary read fun happy end love kind book quick mental getaway read one sit think perfect style write women need quick fun pick entertain fun read',\n",
              " 'will save us consume way current mess height folly believe consume way privatization read commodificationis definitely answer reason author come conclusions difficult give current lifestyle show recycle doesnt work easy recycle happen commodify something garbage let commodify everything will solve problems effectively read divide planet want really well write book subject',\n",
              " 'years still go buy amazon couple years ago still work great enjoy much one favorite things see rainbows early morning east window brighten begin dayi think rainbow makers great people bedridden dont around much several elderly people know take great delight watch rainbows move room',\n",
              " 'enjoyable read suspend disbelief enjoy book still stephen kings stand better main reason character swan song enough depth either good bad like see swan bad traits alvins good traits example people either purely good purely evil real life felt swan song lack credibility sometimes actually felt cheer bad guy swan sugary sweet decent book worth read',\n",
              " 'nothing wrong except get first thing notice usb interface bend someone pliers fix butter knife didnt fact',\n",
              " 'good headset blackberrybut great headset blackberry use pearl sound quality good enough music call actually make easier listen phone call microphone isnt great pick lot wind noise unlike many sound cancel microphones therehowever live california possibly state require hand free wireless car dont cover ears drive thats result ticket either use one earphone use different headset car',\n",
              " 'dont bother read first chapters didnt care book word something care take chance',\n",
              " 'awsome great movie even beter familiar bible afraid challange faith',\n",
              " 'speed loader never use speed loader find speedier load hand probably good gun fight range will use hand',\n",
              " 'great guide use guide several time amsterdam recently great book use familiarize city idea wasnt interest doingthe information straight forward useful recommend book',\n",
              " 'still work fine years ive august cdn write now june never replace lamp still work fine main guess watch average hours day conservative estimate thats hoursive notice past months warmup period turn get longer probably sign will need buy new lamp buy new lamp ebay canadiani know lot review give bad rat really cant complain get moneys worth picture still really good bluray player dvi connect look great really wonder long ill keep technology get old maybe ill move bedroom cant resist buy new slimmer lead tv',\n",
              " 'awful almost pointless video majority time discuss invest key florida video obviously make real estate boom florida now see florida much trouble anytime real estate investors people youre bind create problems information multi family',\n",
              " 'awful always drop junk headphones terrible design sit ears always drop use loose money',\n",
              " 'open get one star review hello amazon go old weightheight child prior use seat child allow break somehow harm child recalleduntil information post amazon shake head disgust surprise',\n",
              " 'word describe bad never write review book read hundred book last years far worst novels put print deserve out even sure publisher punish allow market real story jason play almost part book almost writer take thesaurus scramble complicate word create book even begin explain portion several senseless ramble stories make book',\n",
              " 'disgust book digusting one reviewers say make gay men gay dios society hat us two men restraint reserve will anybody anywhere weirder kinkier better public concern hiv+ statusit scary think gay men operate way barely finish book will now throw trash dont want anyone read',\n",
              " 'excite plot great characterization winner kinsey shes queen supersleuths burglar beautiful',\n",
              " 'expire months experience previous star user replacement identical product last years unit last months beep occasionally even though test fine replace battery blow compress air unit recommend troubleshoot guide avail unfortunately longer box return year warranty',\n",
              " 'good game bad purchase daughter love game game keep freeze didnt work anymore purchase another one store game fantastic accord',\n",
              " 'grave disappointment cruz smith avid fan mr martin cruz smith complete collection work either read book hype wrong misjudge mr cruz smiths ability writer except excerpt establish time honor writers mark twain sir arthur conan doyle guy maupassant find book mundane deplorable disappointment mr cruz smith attach name find bad usage grammar stories lose development plot confusion character identification frederick poor mystery write overallamaturism personify mr cruz smith read book affix name will gladly sell think recoup cost shake confidence mr cruz smiths future write whether may purchase',\n",
              " 'real stupid book one bore stupid book i`ve read long time full ignorant remark clancys observation asian girls westerners better equip asian males via people say comrade doctor etc russia ten years soviet unions fall fact american girls slimmer healthier rest worldwhen know sicker due overweight rest world well writer write white supremacy write bore tom clancy book get completely uninteresting pure typewrite page give yes spell terrible',\n",
              " 'horrible let much havent really staind break cycle think disfunction torment amaze always give chance figure maybe staind go back heavier songs nope seem lot songs sound alike ask buy cd total waste money',\n",
              " 'great price great price wii remote controller store charge full price pretty nice find deal less full price work great ship quickly even supersaver ship great job amazoncom',\n",
              " 'receipt get e buy portable handheld printer time work wonder small company print receipt make business card go hand someone really great look note will never lose really work windows pda irda infrared port different shade grey dpi isnt one black grey printers one problem power chew batteries cat mouse best buy rechargeable batteries right away think run paper freedio store print command memory print later enough paper make great partnership fzs scanner document scan send via irda port print document great buy',\n",
              " 'insightful objective wonderful book give greater understand evolution religion must read serious questioners theology',\n",
              " 'disappoint look forward months august last year ludacris talk chicken beer stage anger management tour well suppose come keep push backuntil now guess keep try improve finally give aint nearly good others weak beat weak rap weak overall energy wise stand catchiest outta track aint great song snoop dreadful snoop let hook wthat track',\n",
              " 'wack damn shame fake odb tang clan highly doubt a&r still work label sell copy mama',\n",
              " 'great intellectual mind remember robert fomon grandfather dont understand man bias man didnt know grandfather die rd grade hop remember despite mishappenings deal hutton appreciate refrain post rude message morals grandfather reason critisize family member know nothing',\n",
              " 'highly satisfy product expect instead pay hundred dollars get almost thing',\n",
              " 'ancient secret fountain youth book anyone wonder secrets youth well read book focus new reality inside human body power vital glands east call chakras think energyproducing energyabsorbing center story exercise advice claim post many people strength tangible result overlook simplicity key awesome power lie within',\n",
              " 'one best hero game ive play one reason spawn wus superman batman mention game stink back spawnprosgreat graphicstons origional unlockable contentthe origional enemies ive seengreat gameplay extreme gorevast selection gun weaponsconsstory lack depthnow stop read review buy now',\n",
              " 'dvd look movie classic big hat funky vibe dvd behind scenes add ons shame',\n",
              " 'scientific paula begoun build amaze business market machine base little actual scientific fact mostly bias opinion youve see woman give interview well let say poor complexion s makeup job speak portly dr phil write diet book everyone flock read ityouve get give woman credit though shes take opinion common sense sketchy science background turn lucrative business',\n",
              " 'nice keyboard nice keyboard recommend regular customers couple things say dont button use assign diferent applications work fine software little bite flexible compatible java applications miss forward back key media player miss lot take things keyboard fine confortable easy use',\n",
              " 'room top attempt purchase room top several years tell archive really please find film amazon highly recommend interest s film act social mores well convey great cast cinematography superb act hopefully day criterion will fine tune great flick',\n",
              " 'kidnap sandy claw harper collins release small hardcover graphic novel base frank baums original book kidnap santa claus adapt alex robinsonbox office poison book followup baums life adventure santa claus tell santas origins story santa get capture evil demons bunch elves fairy friendsincluding zurlinemount rescue actually turn great comic young readers highly recommend holiday gift',\n",
              " 'awesome cd much better first eve cd everysong good reccomended fuel foo fighters',\n",
              " 'dont waste time im one bore book ive read im force read money spend buy',\n",
              " 'great artists pay tribute brilliant fat man cd ive find excellent track willie nelsons style version hear knock nora jones subtle version blue heaven hear great artists doin dominos repertoire make realise brilliant fat versions',\n",
              " 'intermediate polish rule linguist now six years study polish russian intermediate polish oscar swan perhaps one helpful book read contain lot information present concise format',\n",
              " 'headsets fall apart sound awesome question headphones fell apart months cheap plastic use connect ear piece head piece crack eventually break now sharp piece metal stick head wear need tape hockey tape hold togetheri expect better look product image picture break',\n",
              " 'take nap first minutes movie rather amuse settle real napper endless long face shots schimmer particular look concernedpatheticetcetcmade film test ones stay power occasional humor interest generate paltrow hersey helpedbut movie unsavablea year old weird mother bunk bedspaltrows pathetic outfit herseys atrocious hair truly strange behavior blot wouldbe landscape michael rappaport bitsy character try top borderline offensiveas review film mind two star might high skip one enjoy extra episode friends',\n",
              " 'gory yet beautiful good others happy sita survive stake even taste think book little bloddy still wouldnt write way think sita push joel vampire much like save painfull death everything lead climax eddy house well next book follow precisely',\n",
              " 'beat others motor home truck dual wheel critical tire pressure keep equal proper psi milton s accurate gauge use dual head small enough fit port stainless wheel cover make easy reach stem inside tire might pay lot gauge cant anything better side size weight wont carry around shirt pocket',\n",
              " 'best tripod ive own far ill start say ive burn seven tripods cheap plastic part bolt strip hold bulky equipment become bane existencerecently purchase new canon little leave budget highend tripod fortunately sunpak tank take box pod lightweight easy carry sturdy quick set mount plat yes two plat package along tripod fit gear easy useid highly recommend anyone look great tripod salarymans price range',\n",
              " 'excellent product excellent price cool brew teas celestial season wonderful need boil water fruit flavor natural delicious strong come handy travel',\n",
              " 'adorable difficult ride lucky enough find toy garage sale think cutest thing see especially push button horse whinny problem two year old weigh much cant movei find put quite bite weight release weight almost completely ride may difficult young toddlersthis horse may perfect three year old though cute',\n",
              " 'great workout shirt get shirt work outwhy itlight weightmoisture wickinghas reflective strip back nightearly morning runninghas good fitshapewash tumble dry special treatment neededhad year wear regularly still hold togetherwhy dont itwhite know show sweat stain eventually pit get different color',\n",
              " 'dont buy item come seal bag open greasy already use dent dont waste time money inferior product',\n",
              " 'best kind best kind weard fealds propaganda warfear think stock next years pure pure freadom fighters train support watch blue sky wait freadom today freadom fighters train support watch amty blue sky place wtc use stay include souls thouthands innocent people best example government use holliwood brainwash sistem',\n",
              " 'must read every lanlord landlady landlords kit extremely well write guide make money save alot headache manage propertythere ton great ideas really workmr taylor aka mr landlord help landlords yearsit great see many ideas book form formsletters notice worth fortune read book saysit work',\n",
              " 'wheel fire fabulous read mesmerize entire book regard story band tear time',\n",
              " 'even worst default antenna signal go buy increase reception even outside signal worst normal antenna dont buy la señal cae compre esto para incrementar recepcion pero aun estando afuera señal peor que con antenna normal compres',\n",
              " 'old soulnew voice true talent new voice old soul norah jones encompass everything classy contemporary artist use sultry voice create jazzy feel old school cover create new classics album must collection make want light candle drink glass red wine',\n",
              " 'genuine anthropology much anthropology catch detach scientific method people dont realize power science limitations einstein realize many lesser scientists many field dont seem realize author volume utilize science extent work strike balance look spiritual aspects societies perspectivenative american shamanism without bias extensively research source note entries include reference culture group andor tribe',\n",
              " 'save undoubted fit nacrolepsy seem palahniuk stick lyrical rut come recycle novel although fine first five novels exception invisible monsterswhich probably slightly worse diary really bottom hereinsert comically dark oneliner herereinterate say oneliner every fourth paragraphif anything stick survivor choke fight club',\n",
              " 'thoughtprovoking meaningful original christmas songs mix country artists heartwarming christain christmas songs add significantly christmas spirit alison krauss emmy lou harris billy dean toby keith songs sing emotion truth stress real mean christmas',\n",
              " 'want specific compostion pergolesi receive thisit indicate cover wish never order',\n",
              " 'poor reception poor battery life even dont use unit battery drain rapidly reception poor overall even try antenna headphones give cancel subscription anyone interest send email will sell half go price',\n",
              " 'patiently wait ive watch monarch glen series begin hamish macbeth list customers buy item buy great quirky show highland scenery brilliant love cant wait available',\n",
              " 'garbagetrashtabloid junk trash worth want trash send bill pay',\n",
              " 'hard case crimes first original pick first pair hard case crime novels block grifters game expect good read let tell brothers sisters get itthis fast read white knuckle story gangsters hood femme fatale suck loneroutsider protagonist tough underworld trip hellone main strengths novel author voice bring something modern sensibility material date still book vintage feel piece work work well jam ellroys bop quartet youll probably dig',\n",
              " 'magnificent adventure story one treases best long fan geoffrey treases historical novels mind one best hes write personal list favorites include *cue treason* *victory valmy* story paul son roman legionnaire britain set journey rome avoid gangsters along way take message emperor try save innocent man life everything adventure humor lovers description rome book print',\n",
              " 'four years laterstill winner purchase dutch oven years ago use several time month roast soup stew etc perfect cochinita pibil heat quickly evenly easy cleaneven neglect stir content burn bottom boil little water bottom stuff lift minus inside stainedbut thats cochinita pibil braise red achiote sauce least good brand fraction cost nobrainer',\n",
              " 'thick creamy hcg diet skin itchy due able use moisturizers product save doesnt greatest scent first apply quickly go away leave skin feel amaze almost protective barrier last day feel silky smooth will definetly purchase',\n",
              " 'good reference im dental student study gross anatomy usually students dont enough skill disecting cavador stuctures arteries muscle vein nerve theyve study reference help improve complete lab skill picture color theyre real picture structure clear clean fascia clearly sturctures dye help identify understand easierits best lab reference book ive',\n",
              " 'excellent finish watch come away think one best movies type seenwithout go storylinethe film lot subtitle mostly chinese speak give appreciation frustration lover know little chinese part charade fool lovers age ill parent include watch kiss marry someone elsethis film bring kinds issue gay acceptance lie good personal responsibility grow abortion respect committmentand wonderful thing doesnt try answer come away sorta happy kinda sympathetic everyone rather sad year go sort lengths hide really uncommon real life',\n",
              " 'another fad diet critique fad diet deprive people opportunity read book deprive people information make healthier book claim help lose pound summer health program derive biblical precepts adopt modern life certainly help digestion problems give energy didnt start yes organic foods bite expensive diet require change lifestyle heyso cancer diseasesso take pick live healthier prevent health problems future familyit help many people support groupcommunity makers dieters httpmakersdietclubsquarespacecom',\n",
              " 'indicative actual grade practice test onescore verbal quantitative practice test twoscore verbal quantitative practice test three hours take grescore verbal quantitative emotional wreck day gremy actual first time gre scoresverbal quantitative belief book program design convince buy course say minute math test make feel day quant greim sure help much think wouldve better math review bookand full typos critical point example one test problem say circle intersect circle exactly two point problem require intersect exactly one point solve',\n",
              " 'star war game represent begin end star war franchise make lucasarts doesnt really much star war allthe game ready beta test one month ago highly doubt critical bug fix yet serious game require alot repetitive work huge time investmentunless student nothing better summer dont buy game need invest least hours day successful gameon positive side combat system alot fun go hunt expedition bunch players cool tedious portion game far outweigh fun factor combat',\n",
              " 'anticlimactic novel start fine quite interest story quite anxious follow alongthe character interest plot quite entertain suspenseful usual style dean koontz keep wonder go happenhowever end disappoint felt rob time energy maybe spoil read recent work first end leave star pagedefinitely one koontzs better novels many satisfy work',\n",
              " 'poor cole others cole series excellent read one isnt even soso run mill bore political statement hard believe write man',\n",
              " 'lotsa casha book beautiful art great message book convey good concept children adopt fail much attention yearold twin granddaughters offer read book several time finally give try interestedin addition several areas felt poorly edit',\n",
              " 'good deal great phone youre go change plan months great deal amazons mobile phone may contact at&t change plan feature new phone fairly quick procedure good deal',\n",
              " 'almost worst jerky ive stuff terrible hot spicy way unless count coat chili powder bag jerky flavor repeatedly try hop bad piecebatchbag terrible terrible flavor think will anything jack link pepper jerky pepperedhot jerky matter youre go disappoint',\n",
              " 'great kit nice kit everything need think help red cross alone good reason buy',\n",
              " 'zane wannabee book start strong finish weak remind lot addict zane author lack descriptions feel book book believable certain part go way fast',\n",
              " 'lynn husband need take pills night way month time ready mess somewhere put dispenser bag need bunch bottle',\n",
              " 'letdown start book fervor hunger end toss window book vow find new author follow haste complete book john grisham forget readers dummy expect author true character audience read book ive take long pause grisham',\n",
              " 'even twilight bite vampire boys plenty boys never guess vampires movie pretty dull stuff even twilight better actor play caleb horrible lot dialogue stilted little action think movie successful call pretty boys instead thats point movie anyway point surely wasnt entertain scare people reason im give two star instead one isnt ugly person cast count something right',\n",
              " 'hostage warin eye prisioner hostage war give great understand condition prisions force labor camp concentration camp go true story tatjana wassiljewa years old germans separate mother younger sister send force labor camp suffer horribly hitlers vicious rule experience things mind boggle starvation illness much show hard grow world war survive tatjana true survivor go become teacher twentys interest book learn world war ii',\n",
              " 'plain rock aside fact riddlin kid around awsome people sign drumstick riddlin kid kick ass musicians music hook impress im usually fan call poppunk think riddlin kid definatly album want know im glad',\n",
              " 'touch beautiful book will never forget first experience book substitute teach first grade class right mother day idea face help students practice presentation book parent end hide behind book tear eye children recite rhyme give mom grandmothers one privilege help take care final months book deeply resonate everyone know read',\n",
              " 'nextar mp player please product manual say suppose load mp wmp etc format doesntit mp call number tech support line tell record busy someone return call within hours never happenedi recommend product',\n",
              " 'great hire sales people well book explain many hunch ive decades whos full baloney versus great tool recruit sales people read ive discover likely successful sales people company come low income distress limit financial mean rather children spoil high incomehigh consumption familiesi fire someone fell latter category book reaffirmeed never go successful',\n",
              " 'couldve better songs linkin park goo goo dolls think songs couldve better lot better especially transform theme song version version lion original animate movie much betteralso much better recent version version song do black lab shouldve album wouldve good close credit movie well hear version see youtube videos songi hope orchestral soundtrack movie come',\n",
              " 'great book rockabilly guitar novice book excellent job pace exercise exercise songs play youve learn although travis pick style difficult head around suggest first take basic lessons guitar teacher comfortable travis style book',\n",
              " 'cool buy yellowcards gift cursesafter hear whole album believe album towards punkemopop enjoy suit album guess ppl may look song feature spideys trailer bad includedmy favs gift curse ordinaryfans emo punk band album',\n",
              " 'always recommendation jack s another soon classic along market wizards new market wizards traders book top notch show others trade consistently profitable trade understand rule isnt vegas sit slot mean house vegas give something shoot trade',\n",
              " 'sorely disappoint love fiction nonfiction book queen elizabeth mary queen scots century real disappointment didnt offer new understand time period elizabeth annes character love scenes awkward embarrasing seem gratuitous place thank goodness good book period check alison weir reay tannahill patricia finney good book set th century england',\n",
              " 'music great get book learn play prelude major think look others later even though majority prelude fugues far beyond ability play try play prelude prelude ii extremly beautiful though easy play listen prelude fugues midi file book open front realize great bach music complaint cover book isnt glue strong enough now seperated content page already short period use prelude book probably correct version see book version extra measure bar now play extra measure seem make sense',\n",
              " 'best book read first say book deserve lot star deserve whole sky full star somei start read book assignment th grade one week read didnt do though love much two years later find library decide start read get finish whole thing dont think ill find book better touch bottom heart make cry get last chapter recomend book anyone especially people dont read teach really totally awesome book say book world',\n",
              " 'blah blah blah spoiler alert saw full impact know one end unfortunately act special affect good even close',\n",
              " 'quite good great great band dont wrong listen excellent introduction mayhem expect little primer still great buy cost day come best buy primer fan definitely check older one kick',\n",
              " 'sorry much buy insight troubleshoot ps disk read problems much unfortunately self wouldnt killer fact book guide game cinch deal game include guide buy ps find buck flea market might worth',\n",
              " 'home filter perfect finally avery good water everything use aquasana filter drink water shower now filter water everything mike',\n",
              " 'type clear frustrate work beginner try use difficult distinguish lower case c e well l',\n",
              " 'subtitle unless read movie dont one almost foreign film many subtitle read much foreign language instead english spend much time read say didnt watch much visual',\n",
              " 'newfie owner newfoundland dog shed lot long hair vacuum great carpet hardwood clean far better vacuum ive try complaint need use scissor cut long dog hair rollers week use vacuum x per day',\n",
              " 'cord include portion connect fryer part need portion go wall picture show portion anybody know',\n",
              " 'enjoyment year old daughter receive laser tag game birthday year old enjoy much take away almost everyday will homeworkwe shop around purchase another set christmas trouble find itwhat move around exercise children dont sit play video gameswe live boston cold now doesnt stop ask outside everyday play laser tagi want buy extra set friends play dont mind play eitheri bet will fantastic play summer months late nightkpj',\n",
              " 'gabriels angel love nora roberts much page im go spend much want read days sorry',\n",
              " 'utter crap ok go buy action replay max home happy know will able watch movies region happen doesnt work scph model ps hello people wake recall crap store label sticker say compatible scph model hello',\n",
              " 'faialure product screen quickly become fog weight keep change mean guess fish weigh last fish scale drum chain pull bottom scale',\n",
              " 'youre canadian brass form christmas music fine form two christmas cds one traditional one snappy modern carol theyre pretty good',\n",
              " 'combination tool electric connections will come handy modifications inside house maxiscooterive own kind tool need upgradei recommend others',\n",
              " 'buy read free google table content youll find virtually every story dreadful amalgamation sequential nonsequitors somewhere online dont save eyestrain nausea spare horror first line even bulwerlytton contest judge stomach avoid incomprehensible syntax superfluous verbiage repetitive redundent tautologies constitute endless pointless drivel book someone give present sever contact person regardless closeness former relationship presenter obviously wish ill',\n",
              " 'magazine full ads maxim use one greatest magazine now full ads hardly worth price even dollars year every page advestisment disappoint',\n",
              " 'select ann coulter quote favorite ann coulter quote prove point know nothing politics hack job make conservatives feel better viewsliberals hate americaliberals hate religion except islamdemocrats actually hate work class peopleliberals hate societyeven islamic terrorists dont hate america liberals dodemocrats will destroy anyone stand way matter powerliberals cant come say want take money kill baby discriminate basis raceliberals seek destroy sexual differentiation order destroy moralitythats whole point liberal feel superior people less moneyliberals crazydont expect quote make sense write ann coulter',\n",
              " 'good luck try ryobi product service purchase ryobi lawn eddger ryobi trimmer second use lawn edger become stick trimmer bodyi try different local authorize ryobi service center none will accept ryobi trimmer warranty repair past weeks message able ryobi number due heavy call volume request call back later even ryobi web page time service extremely slowi never consider buy ryobi products family',\n",
              " 'armageddon truely enjoyable armageddon best movie see long time saw time theater love time ben affleck doesnt hurt movie either',\n",
              " 'wonderful put pertronix classic cars worth hassle point easy reliable',\n",
              " 'think something filler novel still fun appreciate space twist',\n",
              " 'overrate love nicolas spark movies notebook dear john reason one didnt want see theater even glad wait home rental',\n",
              " 'better earbuds didnt expect sound perfection think set earbuds durable wrong sound okay sound connection keep go will buy another pair crappy bud',\n",
              " 'twin flurescent stand work light outstanding set light will ready light room doesnt real hot easy move around area need light receive fast well pack problems',\n",
              " 'work ive acne th grade despite tell id grow still age ive try feel every overthecounter product available moderately well use neutrogena products decide try klear action weeks blotchyness go months pimples month come go quickly month mark try cheap use acnefree big mistake progress go byebye go back klear action please result finally wear red burgundy bring redness face use twice daily religiously will bother try product truely work',\n",
              " 'saw wrong movie think film go herbie love bug suprise watch zombie flick ill ahead review pick morty nurse home wheel see herbie see fist make original herbie movie think recapture zing must go wrong theater late wheel morty film start wouldnt bother everyonei shouldnt take morty see one part scream hard falsies fly smack young man head seat front morty drop sippy cup get scar',\n",
              " 'still wait response difficult push string order play song push hard send email company weeks ago still wait responsebottom line really dont guitar',\n",
              " 'fps action base jam bond movie try game seem demand lot buttonmashing look graphics good',\n",
              " 'overproduce bollywood movie well produce beautiful semifantastical set almost village france india act cinematography interest beautiful shots lack lighthearted comedy story attract independent american viewers wife love see indian movies conflict traditional indian society modernity movies family part plot oftentimes comic relief didnt laugh film serious love story mix dance fairy tale set hard take seriouslya relate problem movie simply much sing dance know bollywood movies tend lot sing dance time movie seem music video scenes plot end fastforwarding sequence',\n",
              " 'surrender cinemas get tame although production value surrender usual glossy standards sex scenes stylize unrealistic totally uninvolving theyre simply hot earlier surrender film femalien virtual encounter especially girlgirl scene film exotic dance anything elsea final note star shauna obrien unfortunately go implant route natural body knockout see original friend family now look preposterous bad',\n",
              " 'good singin good playin amaze rhythm ace third fourth albums compile disc revelations first two albums say music disc better % will find music store online anywhere worldmusic fan wait music many years either one discs worth price cd disc hit jackpotthe ace blend country r&b soul brew potent youll surely find addict listen twothis disc must buy',\n",
              " 'excellent basic train book tell aint train well write book cover basics design deliver train recommend anyone become part train organization',\n",
              " 'good movie take nap say movie slow understatement molasses move faster im usually bite leary film write direct person case right somehow manage watch first minutes without completely fall asleep start fast forward one reviewer say interest concept do poor execution',\n",
              " 'physic sience read book loan never get return awesome book',\n",
              " 'clint eastwood western icon collection great collection clint eastwood westerns universal two disk two mules sister sara disk double side disk movies color widescreen format isnt linear note booklet dvd movies star shirley maclaine robert duvall john saxon dick van patten mitch ryan marianna hill verna bloom joaquín martínez plus others overall great set movies dont film recommend get',\n",
              " 'dreadful fan dba dba incarnations album album nothing later electronic dance pop sound song album resemble sound track # must go album blatantly evangelistic lyric music churchy ensemble music even realm ccm bad avoid album youre look dbas electronic dance pop sound album bubble good choice album still enjoy listen much later buy s shout good bubble good enough dba fan',\n",
              " 'george forman model #grpwgr great item reason choose removable plat much easier clean ones cant remove plat',\n",
              " 'dont bother first let say know album well essential fan ron dante archies problem master godawful poor seem master recordand judge nauseate sound side two track record use press offcenter artwork bear resemblance original mine come booklet tray card add fact track miss original release make disc useless dante fan already copy vinyl superior copy point wait ron reissue himselfhell better',\n",
              " 'madonnas voice simply weak musical sing get nevers time simply hear better versions songs better singers often',\n",
              " 'excellent game madden great game average sport fan arent many flaw madden great commentary stadiums high detail gameplay great sometimes wont load run different program play odds wont load either begin end trophy presentation end victory championship game super bowl great game excellent commentary madden michaels',\n",
              " 'trash want usb notebook cooler thats go last weeks minimal use right ahead plastic feet come power light bluepurple strobe compete local law enforcement dual cord powerusb cumbersome',\n",
              " 'okay gift receive hat mail make sturdy material stitch well line hat arent kind defeat purpose',\n",
              " 'directors cut horrible always major fan movie get first dvd couple years ago bite hassle middle turn excite new two disc version entire movie now one side great think extra scenes pop totally unnecessary detract plot gratuitous nudity thin scenes leave film edit floor cant understand substatially great movie significantly dilute guess ill back first dvd take popcorn break chnage side',\n",
              " 'rush turn horrible cd theres point try justify plastic incoherent comercial songs say try new ways best album far give pleasure one need compare move picture permanent wave handful others rush record',\n",
              " 'christie shallow narcissist view video seem clear christie brinkley selfcenterd shallow narcissist wonder burn four poor husband',\n",
              " 'movie good everyone fan nicolas cage everyone will enjoy movie',\n",
              " 'bore movie swim pool movie bore bedroom dont rent dont buy',\n",
              " 'youre late demo buy back february dynamite hack demoits now massproduced thier labelfarm club label samethis great stop listen back late april player two months thats great',\n",
              " 'excellent product fast transaction absolutely love ive use midi nearly years now first compact midi controller actually really really nice software come pretty fun',\n",
              " 'ugh yet someone vocal lessons completelt unoriginal oversung dont waste money',\n",
              " 'music ace deluxe good value easy understand follow interest fun format teach music theory anyone understand',\n",
              " 'wonderful inspiration charles stanley continue great bless live especially book bring new understand holy spirit purpose live will bless uplift inspire read',\n",
              " 'must giardino armonico one best ensemble ive hear la follia concert truly touch im really happy cds',\n",
              " 'great product alert days receive weather radio work great intend take travel',\n",
              " 'fit incorrect compare brand size order x small compare brand size probably closer fat size shouldnt hiphugger cut doesnt even make sense',\n",
              " 'simply outstanding everything dvd wonderfulhelen liangs technique simply topnotch critique unfamiliar snake style dvd lack stepbystep breakdown execute phase form techniques posture rather complicate may require extra time patience order successfully digest dont let putoff get video program really delight put time figure dance dance',\n",
              " 'finally complete set thin case welcome addition buy upgrade edition picture quality dvds top notch outstanding collection',\n",
              " 'book try difinitive book broad detail manual cover entire list restoration step process book fail account manufacture differences create various assembly plant example chevelle model kansas city plant will undercarriage part paint car assemble fremont california plant book tend state part appear way way properly restore car make account midyear change manufacture location difference certainly hope book never use judge concours chevelle restorationsfor restorer wish learn great deal general information restore chevelle good reference tool need take grain salt use sole source restoration information',\n",
              " 'buy waste money rip apart two workouts treadmill will make sweat will break apart couple use purchase valeo neoprene waist belt instead price last weeks make sweat even hasnt wear yet',\n",
              " 'quite begin disney movies tough beat collection include kurt russels debut long act career highly recomended collection',\n",
              " 'terrible cue number firm dvds use two years great result buy think step notch cue bad end stop say disconcert thing step beat music drive crazy tough workout groove find use least firm workouts',\n",
              " 'good god suck scott keep walk far away write another book cant recap rant suck pissy whiny whenever anyone problem anything say worst book read genre include chynas book rantsylvania really suck',\n",
              " 'wachowski brothers really drop ball one wait long movie make heap sense major let profound sense word seem wachowski brothers concentrate special effect forget write compel plot mythology make first matrix classic throw incoherent cyber juke story insult legion fan make look stupid wait around theses sequelsthe wachowski brothers shame rip fan first movie',\n",
              " 'hold yer coffee yes carafe hold coffee superb job store tea hot water soup hot chocolate marble name itive purchase two now first one break stop keep coffee hot second one wife like drink crappy flavor coffee dont want taint italian roast colombian experience',\n",
              " 'arrive shatter arrive break listen advise give ship fairness amazon quick allow return quick credit account',\n",
              " 'great kitchen month old boy normally short attention span sound familiar kitchengrill set keep actively engage quite love make cup coffee grill burger dadmy husband put toy together minutes im sure harder one person instructions say use drill problem much easierfasterall doors fit fine maybe get lucky agree noise nice thats imagination righti definitely recommend toy',\n",
              " 'excellent wire local store carry white color wire red black use auto wire easily find need white properly wire rv amazon easy source wire',\n",
              " 'much ado nothing fuss book wait hand throughout read wait mr franzen point end uninteresting tale dysfunctional family',\n",
              " 'age old nothing elsenot bbc documentary sorely disappoint upon receive productas expect bbc documentary call rock age find youtubethe front cover look era reasonably inexpensivei assume must one sameall dvd isis collection videos def leppard fan see jillion timesbummer',\n",
              " 'total rip buy ounce version ebay free ship expect much high price kleen kanteen insulate put something cold expect warm really fast put hot stuff expect cold fast expect burn finger every time pick expect burn inner lip hot metal time take sip steel thin expect drop certainly dentthis product honestly worth dollars buy website pay high ship cost id enrage product arrive simply way expensive',\n",
              " 'remover tool work great order help contact eye dont trouble get havent use insertion tool little tweezers great pick contact ive slide outside corner eye little case handy fit purse cosmetic bag etc',\n",
              " 'sexy back love love love thats say justins sophmore album faves #',\n",
              " 'expect must admit surprise receive cover package thick weigh pound vinyl extremely thin actually tear put vinyl cheap practically see right previously similar cover thick line pad etc single thin sheet vinyl cheap outdoor tablecloth',\n",
              " 'nd forget realms box setbetter leave box fyi review nd edition box set d&d hardcoverthere much old axiom aint break dont fix cliche might hold true nd edition forget realms box set oversized text space waste boarder art notwithstanding nd box set incorporate nonsense time trouble trilogy novels adjust dale reckon time line almost hundred years reason give scant overviews large area almost nothing things really matter character noble house rivalries state bring worst realms munchkin character drizzt duurden elminster stick grey st edition box set much superior version',\n",
              " 'read book will admit upfront read will read book let say rc sproulhes smart man good deal natural intelligence many ways waste life support die cause calvinismthe reform presbyterian denominations us die indeed deathbed sprouls intelligence will change reality die heresycalvin wrong begin sproul wrong take godgiven mind use try prop calvinismi will say calvin wrong start holy spirit nowhere present write calvin anymore present write sproul holy spirit spirit division untruthwhat terrible waste happen father faith jesus christ john calvin',\n",
              " 'youll sorrrrry thing polite term cheap poorly make intend sit rather use visual piece sell house may save hard earn money shortly use weld crack huge hold elephants lap leave chair unstable make impossible drink coffee seatedregarding weld failure understand stuff china need help pay repair machine shop welder say soft steel opinion short term product produce sell repeat customers thats laugh without reservation say wouldnt buy another mac product almost omit thiswhatever cushion seat provide new soon evaporate kid joke consumers',\n",
              " 'handy product monitor blodd pressure easy useit accurate closeit give hear rate along blood pressure read',\n",
              " 'kid love parent hate fun play kid will love will want smash wall extremely annoy list kid play itif send kid neighbor house doubt will ask come pick kid bop',\n",
              " 'nothing new nothing new book write preach choir cement preexist opinion rather present evidence change mind research theory well find facts support theory rather real scientific method claim gods marriage plan one man one woman set stone begin time yet ignore polygamy use concubines gods rule day old testament even poorly write think process invest book lack',\n",
              " 'okay great big krall fan album lack special touch past albums little bite much orchestra enough piano okay album great',\n",
              " 'disappoint show reed timmer joel taylor sure go expect action pack show unfortunately tornado glory fall short thrill tv save money watch series storm chasers will much watch series cheap attempt dvd',\n",
              " 'horrible album overhyped trash dont buy cd listen wack snoop try hard thug doesnt come production wack flow tire give snoop',\n",
              " 'clean cut cut real clean blades buy didnt cut real clean smooth blades grip feel nice better bamboo',\n",
              " 'awesome great product especially price use regularly wind enough make ride uncomfortable highly recommend',\n",
              " 'wasnt expect high hop mystery choppy write wasnt good couldnt recommend',\n",
              " 'great show great show story line keep come back weekdarryl one favorite character never know will attack next show',\n",
              " 'charm escape completely couldnt even half poorlywritten book though author try way hard think catchy descriptive word fit nauseum think hilarious didnt find funny slightest fact bore empty didnt hold attention character one dimensional write oh completely badi find think turn virtually every page waste time finally toss garage sale box force read almost book popularity mindless piece rather subject make worry state society',\n",
              " 'use use think need review someone never hear use wasnt compare previous albums methe weak track album slower ones find way smother track may bite poppy taste tonight spring mind theyre musically solidi agree sound little overproduce still enjoy immensely listen nearly every day pretty handsome awkward particularly good youre stick traffic',\n",
              " 'start manage nurse home care business basic specific topic general seem author take template plug nusring home business necessary',\n",
              " 'book extremely helpful book great explain type adoption know exist even read adoption book book better job describe type adoption dozen subtypes think strategies book adopt quickly beat odds really clever like casual easy manner author explain information author sound care ethical felt talk explain everything way make complete sense find summary state laws back book biographies adoption attorneys state really interest helpful',\n",
              " 'good box product work perfectly purpose make occasion use almost immediately accuracy verifiable good product useful stay glove box',\n",
              " 'compare book eloquently write serious original set lecture book will interest political scientists much historians simple readers explicit orientation international history highlight deep manipulation concepts power economy culture order explain three eraslate meiji interwar postwar differ otherwell simple analysis without spell errors review',\n",
              " 'filter unfortunately pay buy vacuum inexpensive family one income do passable job part filter absolutely disgust outside dumpersand find one anywhere dont money replace vacuum month old whos crawl dont choice bad cant find quality product affordable price anymore',\n",
              " 'great deal quality product forget exactly pay headphones im pretty sure less twenty buck item show promptly look simple pair headphones comfortable functional sound great dont need anything top line look good pair headphones extremely fair price',\n",
              " 'buyer beware false advertise buyer beware model youll receive # model advertise amazons asin bpupx invoice match product detail thus will receive much lesser btu stave btu model advertise look close look identical differ greatly btu output',\n",
              " 'horrible read wonderful book alice forget one day summer much regret waste time vapid predictable book dialog alone make roll eye several occasion beg youdont waste time money one',\n",
              " 'item advertise book condition advertise ink mark edge page page trade copy quality instead tight smooth specifically choose seller description give condition book gift disappoint',\n",
              " 'good reference book watch episode history channel book include bible interest might book check book local library find want copy reference meet expectations good addition personal library',\n",
              " 'greatest dvd pirate cmon fierlingers far favorite animate video kid johnny cash blingblang need say oh well guess point animate treatments stroke pure genius might nice knowsomebody anybody release animations dvd format dont resort copy digital',\n",
              " 'perfect useful didnt seem possible swiffer wet jet work well commercials doesnt useful though although use swiffer max swiffer wet swiffer wet jet still find necessary use dutch broom sponge mop every week floor really clean',\n",
              " 'great movie fictional pope movie release many years pope john paul ii look similar life pope ii great movie watch family anthony quinn superb fantastic need collection now dvd better',\n",
              " 'seriously intense book give friendalong several book author say blow away one intense book read someone doesnt pick movie right book may take collection',\n",
              " 'jump joy great buy want setup installation simple concise baby love',\n",
              " 'stuff check huge fan catchy melodic girl rockpop enjoy album strongly recommend check follow jalopy far zolof rock roll destroyer ready pop miss mary illustrate history puffyamiyumi',\n",
              " 'aww hell get email recommendation get really excite click buy thank god customer review cant believe cheap technology many people wait show come dvd music joke intact money couldnt spend music royalties price issue raise one glad pay season im sure im alone now ill keep watch bootleg dvds pay season memories sure nice nice pretty clean studio release enjoy will gladly spend money pay royalties give want',\n",
              " 'great cat buy one cat never come outside call click feed put bowl time eat weeks click inside call dinnernow im call outside doesnt come ill grab clicker come run right fee soon come home click eatsit go washerdryer still work fine',\n",
              " 'metheny mozart favorite pat metheny selections certainly vid will much appreciate metheny afficianados watch make music reveal see facial expressions finger work magic especially mouth move sound come instrument reality come soul grin course culmination much life long theme characterize work pat metheny fan will instantly recognize piece pure essence man surely mozart agejonathan zylstra',\n",
              " 'eh product bite cheap feel wasnt advertize psp system belong get wrong one although check fault nice package though',\n",
              " 'really unbreakable dont think ill hit another tee eight round four days never break tee color even make hard lose tee think manage forget couple use mark ball fairway scrambleno search break tee use iron par s use unbreakable tee slash away price rediculously low experience provide use tee every hole hadnt loan partner',\n",
              " 'work great far type humidifier work ultrasonically quiet put lot moisture vibrate membrane create mist clog time minerals hard water clean point eventually might stop mist will find fine layer sticky mineral gunk room expose surface unless soft water additives put water minimize small room may humid unless lowest set please one far',\n",
              " 'historical drama dont mind literary licence pretty good story abolitionists proslavery force lead civil war raymond masey give dynamic performance fanatical john brown want free slave incite revoltthe movie pair errol flynn olivia dehavilland one many appearance together lovely miss dehavilland love interest flynn ronald reagan flynn emerge victoriousaltogether enjoyable film combine history fiction love story throw good measure',\n",
              " 'amaze book tell book full ideas find hope learn yes much information little book understand grasp didnt realize base partner want reconcile even still learn lot plan read soon time maybe grab things skip miss befor',\n",
              " 'nice idea doesnt work agree person try diet weeks lose lbs first week nothing happen thats exactly happen start january th nine weeks ago finally quit disgust days ago true lose food crave day stick protein vegetablessalad breakfast lunch true daily reward meal usually dinner will enable lose weight word food crave stop didnt lose weight matter fact start gain weight weeks two three four reverse agree principle everything say book include need regulate insulinblood sugar goal weight maintenance eat anything want include pizza chocolate ice cream pasta daily basis book will never never never lose weight',\n",
              " 'good read good light read antithesis hornblower character entertain fun read probably accurate term th century seamanship',\n",
              " 'blue frontera boneshaking soulpiercing flamencoblues flamencojazz musicians phenomenally talented innovative classic album transcend genre',\n",
              " 'great self help good book help save lawyer cost help understand probate process great help writting will',\n",
              " 'dont waste money one dont book follow reason source code cant use project due bug poor quality author know java bean go provide buggy utility class % book dedicate non xml relate concepts ejbs servelts etc explain concepts dom ll detail describe jaxp sufficient detailthere reason will stop due lack timethe landscape java xml dynamic lot good book xml good ones provide good conent context java jaxp point buy book unless company pay',\n",
              " 'book get basic military train buy book sunday basic train usaf really get tougher days treasure book day page mark certain section highlight love book',\n",
              " 'useful glovecompartment reference desert travelers great guide abandon mine towns litter outback nevada andcalifornia theres towns dead alive modern cities highways shownin black ink ghost towns historic place red complete anecdotesdocumenting significance years exist useful combination delormesnevada california atlases might need actually find towns give small scale ghost town map',\n",
              " 'burton club president tim burton always love movie first time saw kid tim burton genious edward scissor hand corpse bride remake charlie chocolate factory love film youll love nightmare christmas dont well youre lose cause',\n",
              " 'work great buy another work charge ps controller droid razr time play buy',\n",
              " 'year old love year old get christmas well make come sheet paper show whole thing look put together name dinos puzzle',\n",
              " 'tire social darwinism stuff total bs hard press give novel aestetically displease anything even great passages character one dimensional philosophy half bake plot exist slow plot ok character capable joycean epiphany epiphany make impossible philosophy',\n",
              " 'one alltime great westerns shane deservedly know one great westernsshane story gunfighter come aid family settlers persecute freerangers many allusions christ character shane sensitivity serenity humbleness restraint selfsacrifice even fact refer one nameshane perfectly play alan ladd match brandon wilde young boy joey idolize shane jack palance appropriately sinister bad guyshane superbly stag shoot great use foreground background shoot compositions particularly barroom sequence forget final sequence film mythologize western stun achievement director george stevens',\n",
              " 'great great buy highly recommend purchase funky smell inside stuff use fill wash sink smell inst bad',\n",
              " 'let truth ninja know one best ninja book ive read kirtland peterson describe depth public still view ninjas violent deadly assassins describe various ninja stereotype lot ninja history book kirtland refer masaaki hatsumi stephen hay jack hoban bud malmstrom glenn morris christopher hunterashida kim stephen hay excellent foreword book wont spoil rest book book suggest read anything masaaki hatsumi stephen hay jack hoban doron navon glenn morris charles daniels bud malmstrom richard van donk',\n",
              " 'whats fuss sound thousand outher garage funk band lead singer annoy bad mix record impress sorry',\n",
              " 'dangerous door explode get christmas present year use days toast bagles bread work fine seem take longer preivous oven try broiler fish minutes glass door explode glass go everywhere ruin lunch call customer service number go send new one sure want now bc read similar review item need recall really hurt someone',\n",
              " 'wonderful story great end good romance story lilith widow sponsor nieces first year london julians cousin crazy liliths niece ceicly story start lilith accept anothers marriage proposal julians cousins mistress make deal julian seduce lilith weeks will return letter cousin write release hold everyone julians family think cousin go marry mistress great seduction julian much seduce lilith original storyline still good',\n",
              " 'confuse think book teach basics mysql relatively short time learn things spend time figure author get one step next numerous typos code leave beginner scratch head sams book great one',\n",
              " 'hallys bible commentary book exactly describe arrive expect good conditiongood job',\n",
              " 'quirky compare port hub belkin port hub quirky sometines fail recognize andor handle certain devices devices work fine belkin port hub im rather disappoint',\n",
              " 'sad wish negative star choice deserve horrible christian fundamentalist view use two poor schmucks push read saw enemy ann coulter love know go unfair unbalance look disappoint',\n",
              " 'stinker beware buy dvd base market email amazon hop amaze tour end mistake truly feel rip ancient grainy concert footage feature dave navarro version rhcp actual complete performance even one song really inane commentary annoy british rock music critics add experience will suck life stay away dont live slane castle instead youll thank',\n",
              " 'music understand everyones point view thier comparisons stage production movie ive hear soundtracks personally prefer newer one relate music never note person hit well train emotion inspire dont feel much original cast production seem realistic phantom sound seductive express christine tear pretty boy really enjoy gerrys singng sing know felt thats point isnt iti prefer emmy well sarah tendency make word less understandable order make train evidenti go saw movie almost week ago still music inside mindi definitly recommend anyone enjoy story think phantom dark mysterious portray prevoiusly',\n",
              " 'hate faulty get splitter watch movies xbox use netflix college homework laptop thing doesnt even work jack work splitter jack faulty doesnt even work poor product wouldnt suggest get',\n",
              " 'best bib now buy bib repeatedly children well gift several others far best bib soft thin comfortable kiddos wear yet waterproof protect cute little clothe velcro secure easy use love pocket catch lot mess end protect little lap well& kid learn eat second pocket easy wash rinse dry quickly usually use one bib per dayrinse mealssnacks hang drythen bib dry ready next meal snack perhaps bite pricey bib worth every penny will regret purchase',\n",
              " 'wheres trailer good movie feature trailer wasnt one id see many time theater well',\n",
              " 'great seat search forever good seat daughter come one reveiews glad get easy put switch two cars fit husband civic glad soft daughter love know see window whats go around unlike baby car seat one move strap make feel safe dont know live without know well front side impact rat major plus glad',\n",
              " 'disappoint let face doesnt take much rewrite archetypal fairy tales take talent make something whole new depths imagination find trilogy sorely lack point rewrite new aspects storyi guess threshold low sorry cant recommend pretty cover write stiff original',\n",
              " 'wait arent satsang donovan meet jam brown brian eno apollo theater wait arent satsang man craziest boppin foot tappin bajan r&b will hear',\n",
              " 'motley cruethe kings s rock video bring back incredible memories youth motley shenanigans priceless music rock video time capsule worth dollars pay',\n",
              " 'worth money can always get stick handle always fall wayi return wasnt lazy',\n",
              " 'seaviews book complete waste money buy last year go hong kong outdated helpful',\n",
              " 'jarheads wasnt impress jarhead think half way jarhead seem insider movie actually experience marines perhaps branch military havent dont think enough direction keep lot interest someone mentione think go modern version full metal jacket afte first minutes obvious wasnt',\n",
              " 'umdragons lexicon triumvirate please book originality mean kid dragons oooooo suppose impressednot mention write bad story predictable eragon stupid name derivative aragornyou ask best dragons book right now dragons lexicon triumvirate write youngest sci novelist world',\n",
              " 'great idea bad execution concept good ignore negative review try myselfi successfully use unit unfortunately wash probe stop work review start show abnormally high read probe thermometers survive wash handle themother nits set temperature really cumbersome go miss set another lap',\n",
              " 'safe money dont think vary good game alli saw shelf toy think whould fun game year oldwean get home beat minuits whatched play thare wasent much expect bulid rocket avoid swiper drive car fly purple planetafter game son vary upset go back lunch saw game call sonic hedgehog alot callengeing didnt take minuits load one get back wean returend itwe dora game wernt good ether think nickjr jest want money sort game upseti think choose something besides',\n",
              " 'cliche everything movie cliche dimensional character laughable security supermax facility predictable story linedo favor skip',\n",
              " 'piece garbage poorly compile set set include magnets back dress dress attach dolls clue directions include get mail pink closet box ppackaged inside brown cardboard box nothing picture princesses outside directions nothing cardboard name princesses instructions either opinion ship give instructions waste money year old christmas morning disappoint desire play dont clue use waste nicer paper dolls dont need instructions play',\n",
              " 'disturb best yet let review tell story album opinion one best albums year disturb change sound little album songs completely powerpacked stricken nice single disturb write guard good face sound right getgo enough say buy album waste precious time read review',\n",
              " 'one best cognitive book ive read must familiar lurias work assessment cognitive process wonderful book explain best intelligence theory date pass theory intelligence focus abilities capacities mere base knowledge pass stand plan attention simultaneous successive process use lot theory conceptualize cognitive neurocognitive case pass remedial pogram prep stand pass read enhancement program useful children read disorder train develop succesive simultaneous strategies wonderful addition field cognitive psychologist school psychologist lot work children right book introduction remedial instruction',\n",
              " 'win friends influence people receive product time condition bite surprise new expect book make easy interest read certainly book time personal collection masterpiece term reshape ones attitude perspective etc relate people behaviour feel etc product highly recommend book middle senior managers persons work public sphere',\n",
              " 'book will leave spellbind years old still read book s pikes book harry potter back england state many turn twist couldve make movie want read book will keep read till day die',\n",
              " 'enough research part book truei do lot research storythe story publish years happenedauthor take folk tale make fortune tell half truthsi great nephewi record back',\n",
              " 'last months nice work use dozen time turbin start chafe house stop work open conclude poor design',\n",
              " 'good insight real paul williams good insight man behind much good musici grow southern early s use see paul williams often breakfast mornings week call old world restaurant corner sunset horn right across street original spago alway say hello one another idle chitchat pleasant always alone remember big star previous decade wonder happen success see film understand happenedglad see back still work',\n",
              " 'best routines think one funniest abbott costello dvds see funniest popular routines abbott costello must',\n",
              " 'good enough troubleshoot options router good network range signal strength strong problems whatsoever use till now except minor glitch fail install properly able setup secure wifi network',\n",
              " 'great product fair price product ship receive describe might worth exactly want use photograph document quality materialswall mountglass overall please product',\n",
              " 'bless everyday one important gift give children introduce word god bring book year old daughter love much bless everyday another devotional book page give hope child will grow become woman godthere another book happen dicover browse amazoncom prophetic promise bless children felt book useful year old son indeed treasure find highly recommend book',\n",
              " 'gem video pretty tough gemrealise live tvit rare live performance great noel cowardand great pair mary martinthis real charm watcheven though poor video qualityoverlook video enjoy programits wonderful',\n",
              " 'attempt classic book divide almost arbitrarily four section hook pitch clincher close major theme sell one come wonder book try sell character suppose endearingly innocent turn simply character development repetative frustrate read',\n",
              " 'care im way thing id do now werent incessant fashion descriptions favor ellis really old first page care batemans testoni loafers point suppose ill finish book see happen cant recommend anyone waste time contrast review back cover book neither important seminalok finally finish throw trash couldnt even consider use recycle bin nothing subject material poorly write',\n",
              " 'relax love wind chime back yard leave window open wind chime relax decide try wind chime best one listen headphones never make end fall asleepvery relax',\n",
              " 'didnt work right box foodsaver v advance design vacuum food sealerit didnt work right box ship something sound frieght train run obviously bad motor nice quality control',\n",
              " 'intex supreme airbed bed look pretty good higher first love learn require air almost every nighti buy permanent bed comfort airbed versus standard mattressesso im please particular product',\n",
              " 'cohesive electronic statement album huge departure sea cake previous album oui oui songs warm synthesizers use support traditional rock instrument one bedroom songs still engage electronic alien guitar step aside synthesizer drum machine seem appear drum set division songs center traditional rock arrangements electronic compositions actually pretty equal whats amaze album cohesive enough make instrumental songs flow seamlessly heavily electronic songs songs flow well album cover david bowies sound vision make sense next original compositions youre interest chicago music scene electronic music youre fan tasteful light rock listen album now',\n",
              " 'quite pink huge fan floyd theyre favorite band trouble deal syd find lyric odd tedious lack mean album flow songs didnt blend direction actually find wait album end syds sing lack melody guitar play match gilmours album valuable step stone nothing',\n",
              " 'excellent lose proto metal south america flower travellin band tarkus come land doesnt seem make impact power zep sabbath hit corner world tarkus hail south america take name elp album though sound nothing great record proto metaldoom zepsabbath feel sing spainish know little doesnt take away music almost poppy timesbut guitar work sound awesome iommilike songs clock minutesits bad never anything thisi love see take apparently still version band sans singerwho religious cult still play south americasomeone record',\n",
              " 'long mobile stay music anyone know long mobile stay music daughter like hear noise curious worth buy know graco good becuase battery operate music stay night thank',\n",
              " 'date material years old look topical discussion technical business write think betterthat say book quick informal benign read though purport update essay back early ssome techniques discuss dont quite agree methods discuss mike markels technical communication carolyn rudes technical editingif instructor require course buy use youll likely sell someone youre do will make sense lose much value resale',\n",
              " 'mama come home use book child development center years love book buy one month old granddaughter red head mom live haiti missionariesthe illustrations pretty write',\n",
              " 'string attach first time give terrible review watch movie approc turn offto news trillion dollar defcit blizzard part country lunatic loose california sad events interest movie maybe younger might seem funny age know sense humor star rat movied amazon prime able watch free pay recommend forget',\n",
              " 'struggle start finish extremely disappoint read struggle finish book unfortunatley buy book advertise campaign huge display local booksore add usa today along headline include word jurassic park sucker punch book one thrill tense moment judge review im alone wish take heed everyones thoughts wisdom youve warn worth trip',\n",
              " 'watch beware ultraviolet say digital copy itunes code ultravioletflixster code really want deal entirely new separate movie app player drm system etc didnt think nuff say',\n",
              " 'worth wait cant believe take years need best song downhill sure album suppose appeal look success availability guess many seem obviously minority still huge fan songs doobies ie nothing heartache dedicate heart make way losin end etc like thats take songs blue obssession nothing easy listen music thats easy listen upbeat songs sound force build upon takin streets rip song even open set tone already chorus michaels first album never buy second',\n",
              " 'awful lot hype lousy event wasnt much good ppv defintely buy ppv dvd recommend buy vengence instead superior every aspect much better wrestle entertain show worst ppv far hell cell match even pathetic',\n",
              " 'amaze book suzanne zuercher put enneagram center christian spirituality open new prespective give reader sense belong accept personality love benedictines teach christian path',\n",
              " 'foul language obliterate plot read enjoy hoags novelsuntil kill messenger vulgur language crude descriptions character really spoil book get first page wince cringe read take book back tami without vulgarity really turnoff',\n",
              " 'portraits life look back adult child alcoholism order book adult child alcoholic book collection letter write author relationship father alcoholic relationship mother woman marry dont know find book book store fiction biography autobiography certainly self help book subject book spike interest write',\n",
              " 'great look fit quality brush nickel finish heavyweighted handle work smoothly use require grohe pressure balance valveexactly expect german product look great solid metal components except plastic mount plate',\n",
              " 'dont waste second roadpro unit try first one come previous return another customer now know returneddont waste hard earn money piece junk although temperature part unit seem work fine never able calibration compass try several time try replacement battery try different mount position work end go old school mechanical bubble type compass',\n",
              " 'great little radio second sangean dt amfm radio purchase need second one wife always take mine use work great little radio use motorcycle work long battery life pick station listen happy radio suggest buy earphones ones radio odd',\n",
              " 'fire ice format hard follow print small hard read find helpful plan trip iceland book useful next time purchase travel book will select bookstore book fine purchase online something hop provide detail plan trip iceland tour guide self guide',\n",
              " 'beautiful gift dragonfly turquoise gemstone ring pretty originally buy gift sister receive like much keep give butterfly ring buy instead make beautiful gift',\n",
              " 'dog day afternoon take hour read bizarre story throw book trash fan patricia cornwells ive always look forward read new title one disappoint isle dog might appeal enjoy talk fish conversations crab dog thoughts computer skills seeingeye minihorses sort thing prefer peter rabbit uncle wiggly winnie pooh science fiction',\n",
              " 'jak horrible game years old rent jak like ratchetand clank arsenal lot jak thoughtjak hard bad fun play five days past first battleyou definitely rent jak buy',\n",
              " 'downright silly funny chris farley play role clumsy ninja ridiculous extent feel insult ninjas movie plain silly funny guy worse jarjar binkshard imagine anybody find show funnythis worst comedy come across far',\n",
              " 'wellacted hard understand movie beautiful act cinematography difficult pick various thread make sense particularly unfamiliar virginia wolfe novel mrs dalloway movie center around three women virginia wolfe play hardtorecognize nicole kidman unhappy young housewife s play julianne moore modernday woman play meryl streep stories interweave one another common theme mental illness lesbianism unhappy women death wish exactly light entertainment time want tell main character snap life rather wallow melancholy selfpity display movie design art entertainment forewarn',\n",
              " 'technicality overshadow feel although hit consistent adolescent angst showcasing band funkmetal skills certainly hint promise things come without impend melodics develop next incubuss sophomore sound little glorify local music date biscuits limp',\n",
              " 'pardon special interest movie lovers haters let acknowledge woodys intelligence appreciate many worship product bear always felt slap guy react even way artist want god give need chip',\n",
              " 'dead sorry say love scale doesnt sevive post office toss around two scale niether one make work condition locally great productkathy',\n",
              " 'great camera buy camera use husband deploy picture terrific inline mike catch sound house hear see hear bird sing background nieces laugh teenage son leave work etc great price great quality id recommend anyone look webcam waas super easy install well',\n",
              " 'game stink game soooooo bore waist money never make game',\n",
              " 'buy complete waste money thing work software good computer recognize drive bottom line buy something',\n",
              " 'phony washington post report eightsix years scam first surface judge nov iowa put kibosh see clearly method promote national ads claim save consumers wear eyeglasses contact lenses court order vision improvement technologies inc stop sales natural vision improvement kit sell see clearly method nov cease business altogether dec fairfield iowa company ship many kit month cost consumers piece require pay restitution',\n",
              " 'nice love content magazine cover cover reason iam give star copy receive non acceptable damage cover yet may fault either company delivery agency back info next copy arrive',\n",
              " 'terrible design noisy bad electronics buy item replace another air cleaner use unit didnt work correctly begin turn wouldnt turn back unplug hit sleep button push button effect extremely noisy even low mode keep lowest set result mean ceirculated little air less uselessi live months now timer screen indicate filter need clean clean filter follow directions reset counter push reset button doesnt return screen show % clean filter two days try screen still flash indicate filter replacednow unit refuse turn back guess go trash',\n",
              " 'good find think cast lady jane eyre attractive movie go find really want come top must work really enjoy actors actresses great',\n",
              " 'good read book well write entertain even never play fantasy baseball nice contribution current debate traditional approach baseball new sabrmetrics way think game',\n",
              " 'rescue read book slow seem halfwritten think end terrible finish book felt cheat dont think character fully explore story sometimes muddle end felt begin real story say pass take something beach read',\n",
              " 'bad price pay silicone bite thinner expensive brand need slightly careful handle cover easily tear controller job',\n",
              " 'horrible horrible horrible waste time sonic produce blinkware software use mean blink nothing sometimes crash sonic software business please give bad name software buy product extra time spend',\n",
              " 'destroy band really curious one love rage machine start listen itf*** soundgarden stuff lyric mean supersolos morello rip apart kind agressivefree music lighterasking songsi cant believe chris cornell change work lifetime rage machine now legend audioslave regular band garage band elements werent vipsjust buy battle la want real stuff',\n",
              " 'engine fail waterject fail operate time less engine dead water come',\n",
              " 'socalled childrens book really children find book rather sentimental unsubtle least much taste importantly dont think book really children dont think kid will relate father emotion daughter simply may perceive smile may enough kid doesnt help father never depict make harder still identify understand important character girl become woman im afraid kid will feel separate feel deep emotion many adults feel author lot fan many will enjoy book matter opinion childrens book flaw',\n",
              " 'cheaply make thin backboard crack begin bend first time support piece pull away hold together cheap staple pull really easilyi take mine apart replace thin wood piece thick plywood screw everything together now happy trouble id build next time see rebuild one pay top',\n",
              " 'olive oil buyer beware im certain olive oil definitely extra virgin olive oil smell taste olive oil im try back somehow',\n",
              " 'hear hit stephen put sum hes come hes',\n",
              " 'drum candle live rio janeiro years teach coach english portuguese book suggest primer arrive first time understand wild religion know umbanda macumba saw ceremonies note book first hand years rio often knifepoint often white guy crowd stunningly realistic return rio many years later practice disappear anyways travel back time sunday % population visit catholic church light macumba candle way case easy read highly recommend interest develop brazilian society',\n",
              " 'paslode quality usual own nailer year now definitely live expectations trim house cabinets various small project problems quick release jam mechanism great idea ive use ive nailerthis thing wont jam good power wont send nail spiral wood course swivel exhaust port come handy remember use imprint nailer leave wood virtually none except nail entry hole much better finish nailers ive see make long story short want good nailer buy bostitch craftsman want great nailer buy paslode',\n",
              " 'cable connect cable hdmi sit receiver work fine begin color go crazy stay wrong color bad image cable well construct something cause problems things go funny audio go come back cable',\n",
              " 'disappointment year old daughter already adorable strawberry shortcake set lot piece lot room imaginary play love come one doll ive search individual dolls avail exasperation buy set friend extra dolls exactly look rest set complete disappointment two piece addition dolls hat nothing kid meals toy disappoint none piece come apart play almost cry end take scooter cake platforms play throw rest away',\n",
              " 'corelle apricot grove set christmas gift displease set almost return dinner desert plat corelle apricot grove coffee mug stoneware bowl corelle totally different pattern yes product description say im use search product get exact match go walmart purchase itthere less',\n",
              " 'nash bridge first season discs damage possibly actual manufacture burn discs large swirltype pattern around read face discs will polish micro fiber cloth part episodes freeze discs skip next undamaged chapter usually multiple chapters amazon replace discs wont exchange season another title open may try buff wheel im sure will help mark dont appear scratch defect discs buy season damage play without incident',\n",
              " 'good potentialvery disappoint give brother birthday excite playingbut within one nights play repeat question sometimes many four time anyone buy first version entitle free update',\n",
              " 'massacre excite finally find piece torroba twelve interlude guitar string quartet never hear look long time unfortunatly performers totally massacre work sloppy play record dead acoustically disapointment',\n",
              " 'lizzie fun buy game year old love many hours fun seem old',\n",
              " 'read baby weeks old love timeline drop night feed around weeks forgive spirit youve already miss window lose youre idiot parent wish shed little explicit language sometimes rarely use term cry imply statements let baby work someone come cry approach might miss helpful guidance direct enough',\n",
              " 'cant tell guy naive stupid team lump coalwritten style seem interest companycentric style diatribe ode corporate short sit bottom line take wishful think view wholesale retail process send tens thousands job countrythe author give brief lip service human toll process take always set verbal best case scenario include better local job mystically appear displace workers effectshey tom real world process lead double digit unemployment across country take reality check pull head th point contactcongratulations company shave point bottom line cost former employees long term well country send young men women fight die keep free',\n",
              " 'hunger book will satisfy wonder kevin costner even realize artistic historic contribution make film artist find book satisfy graphic appetite romantic allow travel back time mr costner show artistic brilliance many ways thank efforts enjoy book treasure',\n",
              " 'maybe good health hair loss buy product mainly want year old labrador stop loose hair really loose lot sick anything normal kind dog read oil help diminish hair loss dont think recommend ask veterinarian product good pet purpose take',\n",
              " 'great truly allnatural conditioner use aubrey hair products ingredients truly safe enough eat hair thick wavyslightly curly tend frizzy use conditioner gym use hard water one work best ive try dry hair products island naturals white camellia leave hair soft oily didnt smell desert herb much honeysuckle rise use gpb conditioner home soft water honeysuckle rise make hair soft recommendation problems select shampoo conditioner bear water hardness mind try several especially shampoo one place thank aubrey develop produce wonderful products',\n",
              " 'ralphie may ralphie may dont think one best see much better thisi happy',\n",
              " 'funny movie mila kunis russian goddess pretty funny movieif seth mcfarlanes humor least didnt try political unlike type theme comedy didnt old first half hour yeah mila kunis russian goddess',\n",
              " 'wrong disk unopened package package correct disk volume onewe already vol onecan send back one order',\n",
              " 'historical fiction baseball s japan really enjoy book thing change move historical information end book front book idea novel historical fiction finish read iti purchase extra copy give baseballsoftball play grandchildren',\n",
              " 'creative travel dock great little product buy take vacation wow sisters sound bose sound dock home want portable dock believe tiny speaker system fit tote bag produce big sound well worth money glad purchase',\n",
              " 'pedagogy genius paulo freire one unsung heros field education write terse sentence reread several time absorb nutrients brilliant pedagogy oppress education critical consciousness antidote current us crisis ignorance consumerinsanity',\n",
              " 'think provoke book book will leave examine whats important life find wonder family situation humble think lord control seek will brief mention felt tasteful appropriate happen short years ago part history let forget tragedy let mind wander wonder something really cause power outage entire earth survive',\n",
              " 'excellent series stories act highest caliber unlike dramas today difficult anticipatepredict outcome stories full surprise generally realistic cold war spy thrillers contemporary showsthe reason four star instead five disappointment a&e decide show british introduction instead johnny rivers secret agent man song open show audience help set tone show guess a&e think british audience bigger audience hmmmm wonder use think',\n",
              " 'don omar love album especially wit songs scandalous reggaeton latino remix cant stop playin gotta keep wit reggaeton don omar hit maker',\n",
              " 'nice game yet homer common game really good game except homeruns common score high detroit computer tampa bay pitcher wilson alvarez st inning score run inning players hit homeruns row trade players ken griffey jrsammy sosa bob higginson mark mcquire mike piazza deivi cruz hit run homeruns order game win graphics great homerun derby mike piazza computer todd helton score homer helton score homersanother thing hate crush homer randy johnson pedro martinez cant crush mike magante crazy everything grreattt',\n",
              " 'frustrate annoy piece hardware usedpointer trackingthe important mouse function worse job',\n",
              " 'strictly confidential attraction good book quick read something different book day kinder story love shoot cheat',\n",
              " 'touch beautiful word say movie greatest actor film direct one greatest niro manage let look deep soul insomniac vietnamveteran travis good ingredients really breathtaking classic watch twice year except first year course never tire truly extraordinary good movie',\n",
              " 'lousy master complaints poor master sum trade mark example rush sound quality come know love company need pay way attention sound quality detail especially consider expect pay final product furthermore rush pay attention frankly surprise let one bag modulate state polutes excite track digital technology isnt whats crack folks dont let company away contact demand quality',\n",
              " 'tubular bird cage stand bird cage stand work hop problem scratch section stand still wrap paper arrive think damage happen ship cage stand scratch will order place will recommend anyone',\n",
              " 'titans back comeback teen titans starfire invite teen sidekicks universe reform teenpowered super team expect teen sidekicks anxious shadow mentor course teen titans return nemesis deathstroke will show fact battle teen titans deathstroke highlight book young heroes pit skills wily mercenary surprisingly teen titans jla wonder girl join titans without wonder womans approval wonder woman show enforce wish course get hand two team support members teen titans kid game fun read recommend fan teen titans',\n",
              " 'good film children adopt child good experience back time chance will see mother turn away last minute pin moment entire childhood whole concept stinksthat bounce around little plotline stink',\n",
              " 'real thing theres little brazil nights good musicianship enormous eagerness sell bad per produce something make virtually decent pop star around',\n",
              " 'slowmoving movie badly write character minutes movie hop tom hanks starve suffer eat something poisonous movie didnt engage respect main character feel connect tvshow survivor drama now something really bother hell hold last box long save movie open box come back civilise world contain letterbomb tom hanks ashamed play role play others loose pound doesnt make good actor mr hanksif want see good spiritual zemeckis film try forrest gump contact',\n",
              " 'better zune own ipod video worth moneyits battery life poor small screen click wheel might slick work run gloves user interface annoy sound quality highwhen switch another player sansa better yet zune will see hear difference',\n",
              " 'kind creepy give star free illustrations poor poems pretty awful say back cover capswhat go around come around think thats pretty creepy preschoolers book clearly traditional family value kind book doesnt come across accept favor easy read concepts clear though sometimes little weird',\n",
              " 'easy think pad actually real pain put mop theory find avoid clean floor get pad thing frustration',\n",
              " 'dream come true dictionary everything wish yes first many every original clear old english definitions todays complex excess baggage term define even contain source many instance use bible reader find understand almost everything look kjv bible size bite bulky get pay one look search dictionary httpwwwonelookcom free online seem less complete book disappoint',\n",
              " 'classic game classic work artthese things awesome game spoilers vultures freaky giant spider grues will defecate pant seriously scary cliffs comedy club minecart ride headache commercial hotel room wall screen guy show kill someone youre suppose',\n",
              " 'lot question review book high school biology great review resource fill hundreds practice question load diagram chart make study material much easier less time consume',\n",
              " 'want want big shelly crispy rice crackers sugar one favorite snack love crackersto perfect blend salty sweet great peanut butter happy find amazon drive miles asian market',\n",
              " 'amigo standard uke amigo standard uke descent uke sound great good tune bad uke probably good choice beginners first uke purchsed',\n",
              " 'shockumentary extreme collection dissatisfy purchase receive product find different language couldnt understand anything cds',\n",
              " 'good book many funny part story story overall great book read expect people read book will bet read willingly read know finish hadnt grade requirement school story become interest chapter chapters seem take forever read',\n",
              " 'couldnt stupid thing run try two computer luck keep freeze begin even get anything',\n",
              " 'dead piece plastic red light receive item nothing include mini sit nothing happen error message windows access specify device path file may appropriate permissions access itemis info item throw away use sp try play assassins creed ps controllerplease let know page try driver heck dont even know company make thing instructions info itgot quickly though',\n",
              " 'frindle d book absolutely put frindle andrew clements book book boy name matt homework assignment word dictionary make report learn word make particular reason make word instead pen call frindle weeks whole town say word like book funny realistic book better people thirteen dont think people thirteen will think funny say will take adults min read book kid will take longer read book will understand better really enjoy book read slowly highly recommend book',\n",
              " 'product didnt work radio modulate cars radio delphi radio problems follow directions letter',\n",
              " 'friendly persuasion one great movie gary cooper best dorothy mcguire charm anthony perkins typecast psycho superbif jam stewart shenandoah friendly persuasion two great movies similar theme',\n",
              " 'terrible transfer remember back day devil holy grail wait copy completely thrill still vhs copy know quality better source transfer use make dvdapprehensive film ashamed put trash transfer something right lose customer apprehensive',\n",
              " 'completely useless chicago great la pay attention earlier review activate subscription set show type event weeks drive rout around chicago metro sit icon say apparently active yet show single warn set rout freeways radio station say stationary nothing totally uselesstook la traffic kit least provide good charge stand guess pick alert act within minutes although traffic status display identical see chicago never receive anything',\n",
              " 'adorable everyone fell love costume nice warm rain snow night problem huge collar never want stay people ask soon hold know exactly suppose try iron didnt help think lay long wrong way package great people love original small age son look majorly snazzy almost wish cape come wear suit around look cute',\n",
              " 'much fluff songs fun theres much go instrument make songs lyrical sing music instead good old fashion camp style',\n",
              " 'like like way book didnt bogged much math capital budget chapters clear much point textbooks try read',\n",
              " 'simple work fine best suit hang show rather floor flat surface imho mine work well test bite louder decent value price think design bite different others well suit hang tub basin whatever prevent overflow use leak detection wire stiff situations simpler sit floor design easier use better need fee detector enclose area pan',\n",
              " 'comfortable shoe purchase boot daughter wear around house time theyre wear slippers theyre comfortable now daughter want pair',\n",
              " 'tad messy start read completly open mind new writer new style really book felt rush dry little messythe plot move along fast keep character werent introduce well didnt really feel anything romance seem real sex scenes dry character story bounce around much really suck itoverall certainly care book way say disrespect writer utmost respect author matter think book way turn read one book one catch eye',\n",
              " 'yet another repackage feak another repackage toronto concert bootleg release without alices involvement dozens title apparently science fiction title attempt cash new release brutal planet buy youre completist dont one titlesyoud think now record company excise two songs uncredited open band',\n",
              " 'dont waste money polarizer horrible cause severe blur every camera ive try matter whether use auto focus manually focus polarizer simply ruin photos wits end thing ive experiment endlessly polarizer cant life decent clear shoot shouldnt call polarizer call bluririzer guess true pay keep money youd spend clunker apply better filter',\n",
              " 'first new series surprise mysterythriller well write nikki hill great promise continue character several others story interest plot office set even expandedid know much write darden much lochte',\n",
              " 'pleasant recommend read plot better elegant write wellpaced daily life main character book make pleasant reward read descriptions place people niceits good learn ron ely grace tvs tarzan stories produce nice write work thisi find plot bite weak show especially end give book half star possible',\n",
              " 'fantastic follow collegium little daunt recent trend bring contemporary composers now believe fantastic idea listen disc discovery oregan iswell do collegium want hear',\n",
              " 'eliza eliza dushku run woods shapely tank top alone worth purchase price reason buy jay silent bob strike back',\n",
              " 'trigger happy totally love album trigger happy jack another world best songs poes sound differenent harevey tori amos fiona apples compare dont know poe really pretty voice play piano well good album everyone radio play',\n",
              " 'dont waste time dont know point book take page develop call mystery know stop read review say good writer author stick now regret simple book lot things need happen cetain way course character seem live s even though take place current time naive people second book author will make mistake read third book shouldnt either',\n",
              " 'cool get unique sound make feel cloud make wanna tap toe buy ego land will great addition collection',\n",
              " 'describedneeds description know bike rack dont instructions come onwe need least specificationswhat bike fit ones doesnt btw ladies fit small giant cypress like lot thoughon bike rack',\n",
              " 'toddlertough daughter get nd birthday within minutes cover drum break extrarough poorlymade surprise melissa doug',\n",
              " 'great camera ive olympus camera mp good ol time sony cybershot mp canon powershot one beat morethe screen great take great photos autofocus come handy especially lazy guy want take manual picsthe drawback camera negative feature canon cameras canon hear doesnt show battery status almost do batteries guess live ive nice battery meter know expect',\n",
              " 'lids look little medieval torture device little con underside lid allow moisture drop back pan doesnt everyone plus lids two little tabs fit pour spout pan perfect nice tight fit great anything need stew awhile',\n",
              " 'give star option lay person read great deal book time generalspecial relativity unfortunately dupe buy book review back book snazzy coverhowever author simply ramble never present scientific mathematical proof theory correct quite simply worst book subject read end time reinforce position will never buy another book bookstore without first read review amazoncom',\n",
              " 'major disappointment big fan christine feehan discover early wait impatiently new book think dark series sexytautdifferent totally consume enjoy scarletti curse almost much lair lion now shadow game almost seem write somebody elseagain major disappointment',\n",
              " 'bad video absolutely awful complete waste money im embarrass spend money please beg save money',\n",
              " 'man baaad bad course mean goodthese things terrific ive use month straight push up already see improvement upper body motion wideranging appreciate handle thicker studier similar push grip class youll glad',\n",
              " 'feminist propaganda go nowhere bad zero rat arent allowedthis movie another piece feminist propaganda late s regurgitate usual antimale spiel nothing substance offer fact heroine sort wander screen end tell individuality thats george harrisons song mine play background pointblecch',\n",
              " 'hide envy fuel pen christopher byron barelycontained little nut rage whose transparent drive make fun denigrate powerful seem way touch hem powerful successful people appear great need vent envy impotence worthless read',\n",
              " 'terrible colorization version movie vhs recommend collectors movie colorize apparently kindergartener crayon blotch pink orange face torch burn green orange yellow flame evidence colorize process do haphazard manner concern quality job movie quite good although personnaly prefer richard chamberlain version star really bad print good movie',\n",
              " 'altogether great cd think fair say orbital rarely disappoint find latest effort excellent within minutes oflistening first track hook altogether will definitely rotation whilefrom perspective orbitals past work find better middle knowhere nearly par andsoon supersede side youve enjoy orbitals past work enjoy cd ofyou dont orbital believe acquire taste may begin change mind hearingwhat theyve do altogether',\n",
              " 'good purchase make daughter caillou favorite character much worth buyingi recommend',\n",
              " 'nice earrings amazon buy earrings daughter adore small bright look great go view float night rise parade couple friends comment love',\n",
              " 'better diaper bag use instead diaperbag hold organize things better dont dig around need complaint seem fabric jansport use doesnt seem sturdy thick use well see hold',\n",
              " 'nice gadget overall headphone serve purpose radio pretty clear remote control neat feature one bad thing cord adapter remote control long hard manage get tangle easily',\n",
              " 'recall buy computer nothing problems one recently take best buy thank god buy extend warranty screen malfunction get call today laptop recall thats funny phone toshiba support weeks ago didnt mention recall',\n",
              " 'great six year old get christmas love really help fine motor skills plus lot fun',\n",
              " 'good story line nice lesson preschoolers good story line nice lesson preschoolers remind toddler situation little foot friends handle',\n",
              " 'perfectly name film film much fun didnt want end amy adams transcendent role princess giselle shouldve get oscar performance one enjoyable delightful performances ive see long timei practically force watch film seem surface kid film didnt want see wrong film everyone funny touch scary moments great sing dance beautiful film behold every wayi love film',\n",
              " 'best best action pack movie base episodes call third element buyer beware stormy weather must see movie great video come july',\n",
              " 'truly gnarly gnarl companion volume seek probably one best story collections ive read feature almost entirety ruckers professional shortstory output gnarl include hysterical visionary piece reminiscent author range kurt vonnegut bruce sterling whose collaborative effort big jelly feature alongside gems cowritten marc laidlaw paul fillipo far collections go gnarl becomingly introspective read transrealist autobiography rucker create grim futures funny scenarios cover spectrum human emotion pacman addiction religious fervor microgravity sex beatniks hydrogen bomb time warp derange alien gnarl get cant come away experience unmoved',\n",
              " 'great headphones great value think get best headphones money ive mine year super please great sound great comfort happy mainly get use flight sick engine noise break music use ear headphones need something smaller much smaller enter sonysi will concur one review read rubber house wire break expose wire annoy sure im get another pair take year half daily use happen concern',\n",
              " 'yet another star use many years now still best overallconditioner use leave minutes youcan per directions years ago therapeutic result hairand scalp downside will take toll color color hair may want rotate usage another favorites',\n",
              " 'disappoint kid purchase female friends birthday present needle day wasnt think want live performance kid rock instead receive video flash tities music unrecognizable songs now sit bureau collect dust',\n",
              " 'suprisingly good book purchase book satisfy curiosity expect learn much ive invest time wrong book cram useful information easy read abundant graphics humori recommend book beginner experience investor',\n",
              " 'west virgiania libraian think hilarious movie eddie murphy play dr dolittle discover ability talk animalshilarity ensue',\n",
              " 'great show wide order shoe wear capoeira street rodas seem great wide able give friend wider feet think theyre great really disappoint didnt fit although look unisex width may better men',\n",
              " 'funny potty humor really funny dont mind encourage child direction potty humor better read english accent',\n",
              " 'love dvd excellent dvd love teach girls little princesses still things little girl love highly recommend',\n",
              " 'great cd listen album will transport back andalucia southern spain study abroad seville year ago band make thier debut ponga colorada hear everywhere great blend flamenco pop music moroccan flavor wont find spanish cd wait next album',\n",
              " 'cheesy ive never fan katzens cookbooks original recipes drench cheese cream butter ethnic recipes except perhaps draw heritage tend bland inauthentic although newer edition promise correct fault dont find food substantially different bleah',\n",
              " 'reality fiction keep think true koontz always get things go never let go case descriptions far fictional character often keep ponder type sick character real day present day',\n",
              " 'wellshod book execellent tool keep hand youre hosre owner helpful time farrier appointments',\n",
              " 'waste money half time stupid taxi driver cars really slow limitid weapons load time slow wery bad game',\n",
              " 'really great plastic measure beaker pour stuff pour back againthen clean next timeand pay forperfectly good choice',\n",
              " 'great service havent read book children grandchildren miss something special fun adventurous ways teach alphabet',\n",
              " 'please skip one piece junk cars suppose hook together able drag along month old problem cars dont latch together dont click place set one car upon another mean child try pull cars end pull front car dump winnie pooh character floor swing front car air way roll along floor pull string along parallel floor child convince older point toy little beneath themterrible stupid design im glad get gift hat spend money',\n",
              " 'safety seal purchase item help ease daughter away fingersucking habit product come safety seal outside box safety seal bottle cap result im afraid use product fear tamper taint shock product aim fingersuckers nailbiters box state effective deterrent adults children absolutely safety seal ensure product cant taint tamper long line distribution manufacturer consumer disappoint',\n",
              " 'dont buy return item twice tray pull suck water doesnt hold type coffee sometimes water come side straight tray suspect pressure sustainable im get different result sometimes coffee good sometimes cant drink',\n",
              " 'scam person buy actually ship one pad even though title ampad evidence dual pad legal size canary yellow legal rule sheet per pad pad per pack',\n",
              " 'dont waste money agree reviewer buy book series shock much advice take previous author topics copy classics emily post simply reword text except cute draw series waste money want know things correctly read letitia baldridges new manners s cover everything write woman education experience know speak someone use fashion connections flood magazines talk show discovery information',\n",
              " 'best way series get spirit camera say nice way crash course series seriously scary even though sister near unnerve anyway youll enjoy look scary story play',\n",
              " 'professional java enterprise edition bea weblogic server start work book hop good idea todeploy applications bea product simple toinstall deploy server wont stay startaccessing sitethe book ok much hype theserver',\n",
              " 'piece crap buy item use poodle skirt well didnt anything expect poofier underskirt get basically skirt make tulle even slightly poofy put skirt wasnt even even make hips look uneven bumpy cant send back im stick stretchy part make kind crappy pseudo silk super cheap super unsexy pass item something',\n",
              " 'bore inexact recipies book plain uninspired inexact recipie tuna noolde casarole call bag pasta type pasta big bag put bag egg noodles try put recomended size container didnt fit sauce nearly enough quantity use egg noodles',\n",
              " 'doesnt work read review purchase product expect fix use empty kcup recommend others even save prepare empty kcup unfortunately waste time money follow directions fix carefully coffee still weak ground still coffee recommend product',\n",
              " 'power failure poor focus low light new dimage z suffer power failure purchase apr th konincaminolta local service center accord customer service repair volume high camera turn around time weeksyou pay ship camera will send similarly grind add cost purchase camerabesides find auto focus fail low light auto focus really work manual focus procedure cumbersome may well therei regret buy minolta better stick cannon better product better value long time minolta user si si slr cameras',\n",
              " 'horrible movie one worst movies see ive see lot movies even tom green fan go open mind expect green ususal antic movie unfunny want turn less thirty minutes open credit dont waste hour half life piece garbage',\n",
              " 'best gift receive husband give kindle birthday best gift give birthday even better laptop arthritis hand hold book painful kindle lighter easier hold book happy able read read read thank honey wonderful th gift youve give birthday now figure meet husband old',\n",
              " 'purchase several hours devote set screw fit predrilled hole luckily proper size tool kit seat put together hours put aside will tackle step another time wish go purchase one already assemble money still kitchen stool heavy think return people totally tear package box cant return sit corner run screw fit hole ones come stool maybe will find use will screw boltshave screw ready begin save bolt another job',\n",
              " 'awesome comedy one funniest movies see begin end never dull moment definetly worth watch',\n",
              " 'good good good good good good typical big beat stuff rather electronic sort much expansive artists techpopular genre',\n",
              " 'extremely bore plot move along slowlypages page without much happeninga lot repetitions author keep repeatingthe thing say thing even though say earlier see annoy',\n",
              " 'effective low feature buy product look lowcost solution dataloss issue find pretty effective retrieve many delete file better job many lowcost free program type even allow preview file restore quite disappoint fact program restore original file folder structure even original name file create great deal confusion come sort restore file issue concern recommend spend bite necessary buy software provide feature',\n",
              " 'miss pattycake great little girl two cant enough miss pattycake bless see jump clap praise lord songs watch',\n",
              " 'worth watch diane lane diane lane reason watch movie actor know create meat pie potatoes unfortunately reason trip gore lane pass serious film first glance another exercise far filmmaker push envelope theme cruelty mayhem murder favorable point possibly give producers shy away use actress thankfully try hide age accept cycle life grace make even lovelier',\n",
              " 'ugly job although unsightly provide sturdy base umbrella permenantly will retract even breeze',\n",
              " 'steal budgetpriced laser printer quiet deliver document expeditiously note macintosh users latest driver download manufacturers website wont revert whenever need print hopefully will save time trouble editorial comment customer review purchase select four star slight pause issue command print pause negligible hardly worth mention',\n",
              " 'great book musthave dog owners fanciers alike buy birthday money humorous text urge snatch shelve book read bowels dog ownwer despair love dog book need',\n",
              " 'one first best girl band four women ahead time album fanny hill favorite songs rendition bulldog almost better beatles home one beautiful songs message poignant single mother relate listen aint peculiar bet become fan',\n",
              " 'bad choice drape dull show website get sons room disappoint purchase color drape really dull didnt cover window fully things use hold drape together didnt good design',\n",
              " 'worth big money favorite band s poor sound quality make disc worth pay itbut big blue cheer fan something many people ownif dont anything groundbreaking groupbuy vincebus eruptumyou wont disappoint',\n",
              " 'audio work audio work pioneer sc receiver pioneer bdp bluray player update softwareany advice fix',\n",
              " 'miracle maryland chesapeake bay area surround annapolis wonderful place live author medical fantasy story describe local neighborhoods live experience focus accuracy much learn pilot airplane reveal author vast knowledge subject relevance whole story escape perhaps one must rise detail surface earth see whole picture make seemingly simple amaze medical discovery greatest asset book remind readers help mankind much important potential monitary reward associate invention discovery second important asset book pure learn experience historical facts learn author',\n",
              " 'inaccurate sometimes contradictory book claim introduction worlds religionsspends time discuss development christianity even potential reader nonchristian christian seek rationalize christianity reason book many errors offthewall remark mislead christian basically hold truth bible much better consult book knowledge religions world',\n",
              " 'disappoint disappoint open box amazon today actually order different color think actual blank booktype notebooks include gift think specialpriced clearance price actually print back really small kind chintzy look definitely think get definitely list notepads notebooks',\n",
              " 'okay okay book suppose sag middle andreas fiction writers support group nice person put others may cast shadow',\n",
              " 'garmen streetpilot c garmin streetpilot c sure one neat little invention use around town long road trip will disappoint need lengthy instructions people figure use right box set require set find address find name restaurant hotel ask find food category italian fast many choices will give list closest furthest away lodge will give phone number choices trucker find invaluable daily job awhile might house number problem get right street great buy',\n",
              " 'important background info book arm america origins national gun culture receive prestigious bancroft prize american history columbia universityin october author michael bellesiles resign professor emory university independent panel scholars strongly critized research say guily unprofessional mislead workin december columbia rescind award bellesiles statement issue school trustees say bellesiles book meet standards establish bancroft prizean online search will quickly easily verify information true something sadly say many facts contain bellesiles bookwhatever view gun control may avoid arm america origins national gun culture plague clearly widely discredit bad bad bad history',\n",
              " 'really hope retire weak cd hope retire good time get tire look ugly face weak musicthis really weak pathetic sound bore rest albumsthe music pop accompany weak beat weak rappinghe rap thing rappers rap moneyclothescarshoesall hope stay retire one weak rapperdo buy garbage',\n",
              " 'product never arrive never get purchase never get mail tell return slide think serious shop amazon lose point clients',\n",
              " 'good quality happy purchase wife try size width perfect amaze amount work go boot company use quality material workmanship yet charge awesome price make easy anyone pair boot propet happy purchase happy wife mean happy life lol',\n",
              " 'poorly make peeelers peelers market today poor quality happy see sturdy design disappoint bearly peel carrots try different angle sure',\n",
              " 'gift love wonderful little book offer many choices mealtime bless especially appropriate thank provider source daily bread grace table increase connection divine spirit one will find bless suit occasion whether eat alone others restaurant collection bless gift love',\n",
              " 'awesome subject always interest think book cover struggle city well grewsome deaths starvation breakdown food supply fight',\n",
              " 'price high different color different pricesrip items sell different pricesit seem whatever popular color jack pricewhat cheat',\n",
              " 'ugh mas good writers suppose contrive plot cardboard character stupid dialogue will love movie alright scenary wonderful two star',\n",
              " 'terribly bore unfunny find movie extremely dull laugh exactly one time comedy really want call beyond juvenile even funny juvenile humor make movies good overuse accent rarely funny especially theyre accentuate film get annoy many people like movie beyond make think bad society become',\n",
              " 'lifesaver seven hours way thanksgiving yes love headphones much different trip without',\n",
              " 'pattern pattern match dish set durable lids stay wash mine dishasher lids sometimes plastic warp want lids keep fit stack store nicely inside spacesaver',\n",
              " 'anti piracy encode intrusive side dual disc play computer stanard players include original sony player early s dvd side work work flawlessly',\n",
              " 'sound fascinate bookbut one land moon many years ago current space program never repeat thisand radiation belt around planet',\n",
              " 'million dollar video poker think book play video poker instead author brag good game bore',\n",
              " 'captivate first koontz novel read put depiction character image see eye chris snow incredible book near end find wish felt right go ordeal koontz pull let go read several great book none hook seize night',\n",
              " 'terrific book find book hop syllabus smart highly organize professor flesh subject enough let know exactly look concise intelligent informative save lot time work outline subject im art professor cynthia freeland thank clarity',\n",
              " 'learn edit basis story good edit awful chronological order didnt see every scene time didnt commercial every min maybe wouldnt part winner',\n",
              " 'good beginners buy small kid easy assembly good look kid love small kid may last years grow kid although adjustable seat balance much height rather little bigger one',\n",
              " 'want smash machine fax machine need babysitter trust fax without try eat page jam constantly stand guide page straight dont pull crook loud loud dream take machine field pull baseball bat go office space',\n",
              " 'dim disappoint waste money lead light come close performance lead light half price guess pay name lifetime warranty one will easily last lifetime sit unused drawer buy medical career wife like purple clumsy turn concentrate beam turn one hand buy cent teardrop shape keychain lead light whim perfect brighter easier use replaceable battery cost really expect company light customer perspective obsolete complaint quality construction solid aluminum orings usual minor flaw cast weak scatter beam way performance modern lead technology light yellow full shadow artifacts prevent clean illumination good buy dont repeat mistake',\n",
              " 'boogie nightsregion see movie enjoy thats order add collection view get say invalid region code play dont know mean ive never problem view movie waste money cant watch',\n",
              " 'didnt work promise ive week now im go stop take help softer im go day nowinstead usual take promise good clean im get opposite cant good give star pills easy swallow notice sleep better night something must cause overall waste money',\n",
              " 'please waste money terrible slow bore extremely disappoint',\n",
              " 'cast iron cookbook think nice cookbook new cast iron cook find really use thoughi seem make things couple recipes id try sometime',\n",
              " 'buy buy refurbish phillps outlet look great great picture work days others will turn flash red light nothing work call factory service wait back touch repair sit within miles cant anyone come fix operate radius buy spend extra money better tv',\n",
              " 'musical kleenex joss stone decent singer shouldnt write songs release couldnt find single memorable tune think sing flamboyant perhaps keep heavy production overcook insufferable next time joss try lose rappers big beat overkill one critic write sometimes take ball alone whole crew couldnt agree album musical kleenex use lose better luck next timeon side coin theres orange album stefy rae stun debut gwen stefani make journalists call pop masterpiece new artists stefy keep music business afloat listen ms stone',\n",
              " 'disappointment daughter love science experiment get kit think excellent teach tool boy wrong kit come everything need experiment random things include kit even use experiment big waste money mention disappoint daughter definately recommend kit anyone',\n",
              " 'interest werewolf first introduction world darkness enjoy read book point werewolves definitely better platform storytellers players theyre either weak powerful new players will find dart away vampire hunter kind experience someone actually find stand garou nation will able kill justicars femorachs without break sweatyou play campaign course itll take effort make highleveled character keep interest buyer beware',\n",
              " 'review controller terrible positive thing say controller throw wall wont break stick hard move dont allow pressure sensitivity require enjoyable game button stiff handle big uncomfortable include headset uncomfortable grow adult didnt use include headset first night overall say move next market controller',\n",
              " 'wonderful give reader wonderful clear picture egypt change throughout history send thank author',\n",
              " 'ultra cheese really good way one great show childhood lot fun revisit years really good price drop half mean seriously sure isnt hamlet show cheesy cheap bad way find quite entertain still really treat see eternally classy beautiful lee meriwether perhaps pinnacle elegance gracethe show serious far less classic lose space batman provide type wholesome campy entertainment make show legends dont cheese look elsewhere',\n",
              " 'good price nicely build fast thank f smooth quite autofocusas review note soft corner stop kind lens dont really care edge especially wider angle competitors categoryi please look good portrait lens recommend canon mm f insteadit will much sharper corner will cost less',\n",
              " 'music protector musician actually buy use play outdoor concert keep music stand instead use paper clip windy days work charm',\n",
              " 'shower curtain line purchase liner match shower curtain inch liner come shorter good quality plastic nice thick gromlets strong short',\n",
              " 'best rpg never really get rpgs friends get play vampire twice bore play wraith whcih cool great war expansion best rpg friends love card game develop storyline campaign form card game fun huge battle beiden pass rival scorpion clan coup game great',\n",
              " 'use year still go strong come amazon send product link friend decide write reviewlove product work never give problems',\n",
              " 'theres problem purchase recd shortly thereafter wash blender get ready use day today attempt use first time will start insane pricey blender now must start process return',\n",
              " 'toner cartridge problem cartridge faulty leave ghost image transfer paper call request refund exchange say send return instructions within hours im still wait days later',\n",
              " 'begin yeah right book utterly useless beginner someone know c++ well explain function rather teach use nd chapter alone theres line program opengl function youre expect understand page explanation im begin programmer know lot everything book isnt help tell doesnt teach much end book game example slow buggy learn c++ online tutorial reference page dont waste money book',\n",
              " 'let honestnot great im little trouble review ive see groundation seem real reggae fan overlook fact album average best bob steel pulse midnite luciano don carlos forever much good reggae unfortunately free everything ive hear groundation live hype youll see review seriously even john brown body better check midnites ras mek peace want hear real reggae mean groundation youll wet pant hear midniteif want real thing',\n",
              " 'silly silly fun highbrow comedy neither typical lowbrow stuff produce today focus bodily function groin punch british comedy mean actually wit sight gag comedy peter sellers absurdity monty python sheer outlandishness rocky horror picture show appeal movie will tickle least one funny bone',\n",
              " 'excellent resource teachers parent caregivers book many helpful fun task specific activities work children formative years find book invaluable game beneficial teach reinforce specific skills entertain enough keep kid interest game really work game dont take much time extreme effort pay extremely well parent teacher young children will find refer book',\n",
              " 'let confuse things actually find argument book judge simply term absurb especially fabrication leroy use lure readers book first place word book fiction market device read lie pure simple thats write laura albert understoodnot standalone work fiction market tool fool public buy hoax leroy shouldnt matter regard book wonder use first place',\n",
              " 'plastic stick plastic wrapper melt onto item notcome please wouldnt item ship thesummer',\n",
              " 'replacement strap old lamp price good delivery excellent reason buy item old strap look failure imminentalways prepare ps simple design kick behind creative guy build mount system number things strap elevate head lamp use work enduro rider steer dampener',\n",
              " 'starsehhhhhhh dont really thisit good songstrackslets stratedlean backgoodiesi thatchcheck outmy placesunshineyou mewhyloced upbaby youangelsone thingdare movecoldpieces metake outhere partydays byi listen begin part end',\n",
              " 'th anniversary long time wasnt lot asia video come bootleg music videos concert russia europe finallya concert span entire musical career members nice see hear songs yes king crimson elp eventhe buggles highlight asia monster version fanfare common man band truly seem enjoy variety material well classic asia songs like see go play cover collections steve howe pat thrall actually nice job asia stint palmer palmerthe king down creative force wetton one favorite vocalists s asia fansthis must buy',\n",
              " 'helpful well lay book theodora philcox create helpful book still life wide range style several fine artists philcox take artists explanations techniques add helpful comment observations style art juxtapose give reader good view different approach art special interest work artist timothy tyler whose realistic brushy artwork steal show',\n",
              " 'best dance album buy lot dance trance electronic favorite album good beat vocal good choice club hit fan',\n",
              " 'market worst fairly well know many fan show little kid outrage continue point release dvd without widescreen format wont even buy mockery release release bhorror movies widescreen powerpuff girls movie',\n",
              " 'disappoint im disappoint product difficult calibrate accurate calibrate last months advice spend ten buck meat thermometer',\n",
              " 'scary scare month old wake cry hysterically bc trap ultimate crib sheet realize likely suffocate fabric high tech breathable fabric prevent suffocation still remove crib sheet',\n",
              " 'worth money mat definately worth extra money practice yoga five days week months blow one cheaper mat cause significant sign wear second one mat break find quite sticky provide excellent cushion knees larger mat less need read position mat frequently avoid contact others crowd yoga classthis mat excellent want practice yoga home carpet mat always slide around carpetted floor one heavy enough stay put commit yoga practice invest mat wont regret negative heavy necessarily recommend yogis walk bike classnamaste',\n",
              " 'accurate durable weight accurate durable weight read numerous article free weight weigh mine accurate thing keep get five star bulky side likely due neoprene coat female long thin finger finger longer side may hard grip well work careful tiny hand',\n",
              " 'ncv audio review set nice carry case magnetic clasp sound clear unfortunately background music ocassion drum beat etc distract personally person narrate southern preacher sound dont care prefer southern preacher read background music will really enjoy im use alexander scourby musicdramatization let',\n",
              " 'best cheap stereo design nice mechanics little awkward tape drive funky remote flimsy sound oh sound wonderful far better sony better overall stereo ive ownedi know know hard believe stereo sound great one try store im sure sound much better everything available less',\n",
              " 'worst plot writer try make issue main character perfect moment realize important give break write good movies step box write plot time',\n",
              " 'oye think great little camera show new house well wrong first batteries run constantly second software compatible xp helpful guess adage pay apply',\n",
              " 'mustread bud geographer im work phd geography require text firstyear graduate seminar history theory geography book give biographical sketch numerous recent luminaires geography book easy read break nice nuggets information specific geographer make mention work relate geographers book grant comprehensive give good foundation theories behind modern geographyif geography capitalg geography buy book even dont read right away itll find comfortable spot bookshelf',\n",
              " 'vince vaughn vince vaughn pete tyler keanu reeve might okay vince vaughn better john cusask already play guy high fidelity loser way pete tyler much cooler better boyfriend material everyone read book cause great write vince vaughn tell movie',\n",
              " 'best western gritty dirty downright manly overgrow adolescents today need study film learn act man tattoo earrings pierce smother gene little music use s s flick embellish top histrionic score combat rather compliment plot dialogue short cut point especially hegirl comment another william wellman masterpiece film dvd transfer superb',\n",
              " 'pretty poor quality handle kettle connect well allow lot bounce lift kettle traditionally instability something look pore boil water lift lid need lift top kettle immediately move leave right isnt enough clearance bc handle remove lid naturallythe color nice nice job ombre effect expect creuset',\n",
              " 'excellent presentation efforts towards peace documentary coproduced direct israelis palestinians present indepth view efforts people side toward mutual understand full stories hear dont mustsee anyone interest peace region',\n",
              " 'coffeemaker rule truly enjoy great coffee coffeemaker one never taste good coffee make someones home rarely even fine restaurants feel im starbucks everyday even dont grind bean almost buy regular mill brew im glad wait get carafe minus heat element may tweak coffee water ratio patient grasshopper worth',\n",
              " 'newbies want know stop movie loop get transition run smoothly nahif havent clue director walk away book will help assume much much reader hand idea director paradigm make movie two add bookshelf',\n",
              " 'ill stick house although laurie grab begin take wild ride soon lose interest book dont know cast character show page hiatus way story tell eventually send book never finish',\n",
              " 'clever easy clever layout easy understand recipes beautiful photos make snap imagine cook things highly recommend',\n",
              " 'fantastic get open minutes ago bite unsure get star review think hell take chance say glad star reviewers must strange ears well comfortable great sound pretty low volume cant hear key type design great fit fine almost unnoticable',\n",
              " 'good book think book right type book know life struggle nothing worth run away believe couldnt keep book group believe nothing worth run away',\n",
              " 'best iron market iron cut ironiong time half easy use outperform every iron ive use make task iron fun reward small appliance say',\n",
              " 'first professional package book look analised book compare peppin press book book need learn study package designthis book will teach maybe design packagingall cash deserve',\n",
              " 'best choice think work conduct klempeler philharmonia orchestra famous promise live record better best one ive heardincluding walterbernsteinrattlemehtakaplan klems one klempelers read insightful bavarian radio symphony orchestra play warm powerful think better philharminia orchestra especially brass remastering disc succesfulthe sound rich version though theres several coughsoundits never mindill give star',\n",
              " 'good history informative well write start read idea excite cereal comparable personal computer revolution s true history americana seem forget time',\n",
              " ...]"
            ]
          },
          "execution_count": 28,
          "metadata": {},
          "output_type": "execute_result"
        }
      ],
      "source": [
        "lis"
      ]
    },
    {
      "cell_type": "code",
      "execution_count": null,
      "metadata": {
        "id": "0rhgY2DK9JiC"
      },
      "outputs": [],
      "source": [
        "df['text'] = lis"
      ]
    },
    {
      "cell_type": "code",
      "execution_count": null,
      "metadata": {
        "colab": {
          "base_uri": "https://localhost:8080/",
          "height": 87
        },
        "id": "4nEe1w32Dafa",
        "outputId": "9f0f9daf-efb3-4d3d-d31f-3f51b067f733"
      },
      "outputs": [
        {
          "data": {
            "application/vnd.google.colaboratory.intrinsic+json": {
              "type": "string"
            },
            "text/plain": [
              "'expensive junk product consist piece thin flexible insulate material adhesive back velcro white electrical tapeproblems instructions three picture little information velcro crumple receive stronger adhesive try disengage velcro piece come paint ceiling white electrical tape horrible cheap narrow fell less hour price ripoffi build easier use cheaper attractive higher rvalue surprise amazon even list junk'"
            ]
          },
          "execution_count": 30,
          "metadata": {},
          "output_type": "execute_result"
        }
      ],
      "source": [
        "df['text'].iloc[0]"
      ]
    },
    {
      "cell_type": "code",
      "execution_count": null,
      "metadata": {
        "id": "sne5oGIgDl8Z"
      },
      "outputs": [],
      "source": [
        "X = df.text.values\n",
        "y = df.label.values"
      ]
    },
    {
      "cell_type": "code",
      "execution_count": null,
      "metadata": {
        "id": "c0ISyREMwRvQ"
      },
      "outputs": [],
      "source": []
    },
    {
      "cell_type": "code",
      "execution_count": null,
      "metadata": {
        "colab": {
          "base_uri": "https://localhost:8080/"
        },
        "id": "RPD5DTi4Dl53",
        "outputId": "4fab2b2d-3f63-4703-cca7-26a7fbc1cec1"
      },
      "outputs": [
        {
          "name": "stdout",
          "output_type": "stream",
          "text": [
            "['expensive junk product consist piece thin flexible insulate material adhesive back velcro white electrical tapeproblems instructions three picture little information velcro crumple receive stronger adhesive try disengage velcro piece come paint ceiling white electrical tape horrible cheap narrow fell less hour price ripoffi build easier use cheaper attractive higher rvalue surprise amazon even list junk'\n",
            " 'toast dark even lowest set toast dark like light stay light unplug avoid waste electricity quality expect cuisinart'\n",
            " 'excellent imagerydumbed story enjoy disc video stun agree others story dumbed take childish approach actually seem little one side proenvironmental nevertheless enjoyable say amazon wmv disc better story better sharper image interest things look'\n",
            " ...\n",
            " 'great chew toy toy chew toy dog destroy week arent even teeth mark really worth money guarantee manufacturer cant lose dog kobe love way bounce make kong material bone shape keep occupy much longer complaint little small lb labrottshepherd mix shape material make'\n",
            " 'dent baby head get one gift bite annoy buckle every time difficult level often time put extra pillow underneath itafter month use notice theres dent baby head baby nurse min per feed time day thats significant amount time baby spend hard bumpy raise head rest friends baby dent head start use bottom part instead thickness back belt doesnt allow lean comfortably couch upset bump dent baby head'\n",
            " 'recommend arctic twister day technology fact black decker suppose reputable company piece garbageif arthritis definitely recommend two people operate worth effort call black decker aka applica claim theyve never receive complaints civil offer help give supervisor speak']\n"
          ]
        }
      ],
      "source": [
        "print(X)"
      ]
    },
    {
      "cell_type": "code",
      "execution_count": null,
      "metadata": {
        "colab": {
          "base_uri": "https://localhost:8080/"
        },
        "id": "vjaZD74nDl3c",
        "outputId": "0005ea34-7f40-4dcc-8de1-890d829ce9a5"
      },
      "outputs": [
        {
          "name": "stdout",
          "output_type": "stream",
          "text": [
            "[0 0 1 ... 1 0 0]\n"
          ]
        }
      ],
      "source": [
        "print(y)"
      ]
    },
    {
      "cell_type": "code",
      "execution_count": null,
      "metadata": {
        "id": "H7jvefulDl1B"
      },
      "outputs": [],
      "source": [
        "import tensorflow as tf\n",
        "from tensorflow.keras.preprocessing.text import Tokenizer\n",
        "from tensorflow.keras.preprocessing.sequence import pad_sequences"
      ]
    },
    {
      "cell_type": "code",
      "execution_count": null,
      "metadata": {
        "id": "uYGtDUYXET8Q"
      },
      "outputs": [],
      "source": [
        "tokenizer = Tokenizer(num_words=1000)\n",
        "tokenizer.fit_on_texts(X)"
      ]
    },
    {
      "cell_type": "code",
      "execution_count": null,
      "metadata": {
        "id": "V3pmglIVEHSO"
      },
      "outputs": [],
      "source": [
        "X = tokenizer.texts_to_sequences(X)\n",
        "\n",
        "max_len =  1000\n",
        "X = tf.keras.preprocessing.sequence.pad_sequences(X, maxlen=max_len, padding='post')"
      ]
    },
    {
      "cell_type": "code",
      "execution_count": null,
      "metadata": {
        "colab": {
          "base_uri": "https://localhost:8080/"
        },
        "id": "oFOu32jUEMEz",
        "outputId": "1177315f-29f2-4ed3-d83b-f9f458bdefbe"
      },
      "outputs": [
        {
          "data": {
            "text/plain": [
              "253865"
            ]
          },
          "execution_count": 37,
          "metadata": {},
          "output_type": "execute_result"
        }
      ],
      "source": [
        "vocab_size = len(tokenizer.word_index)+1\n",
        "vocab_size"
      ]
    },
    {
      "cell_type": "code",
      "execution_count": null,
      "metadata": {
        "id": "VmPwIgVQEZkR"
      },
      "outputs": [],
      "source": [
        "X_train, X_test, y_train, y_test = train_test_split(X, y, test_size=0.2, random_state=42)\n",
        "\n"
      ]
    },
    {
      "cell_type": "code",
      "execution_count": null,
      "metadata": {
        "id": "nHyrGVHYaGGk"
      },
      "outputs": [],
      "source": [
        "embed_dim = 300\n",
        "max_length = 1000"
      ]
    },
    {
      "cell_type": "code",
      "execution_count": null,
      "metadata": {
        "id": "20lNMPlhEZhc"
      },
      "outputs": [],
      "source": [
        "from tensorflow.keras.models import Sequential\n",
        "from tensorflow.keras.regularizers import l2\n",
        "from tensorflow.keras.layers import Dense, Dropout, Embedding, LSTM, Bidirectional,GRU,SpatialDropout1D,SimpleRNN,BatchNormalization"
      ]
    },
    {
      "cell_type": "code",
      "execution_count": null,
      "metadata": {
        "id": "Z4rseGwQEZfa"
      },
      "outputs": [],
      "source": [
        "bilstm_model = Sequential([\n",
        "    Embedding(input_dim=vocab_size, output_dim=128),\n",
        "    Bidirectional(LSTM(64,return_sequences=True)),\n",
        "    Dropout(0.2),\n",
        "    Bidirectional(LSTM(32, return_sequences=True)),\n",
        "    Dropout(0.2),\n",
        "    Bidirectional(LSTM(16)),\n",
        "    Dense(1, activation='sigmoid')\n",
        "])"
      ]
    },
    {
      "cell_type": "code",
      "execution_count": null,
      "metadata": {
        "colab": {
          "base_uri": "https://localhost:8080/"
        },
        "id": "oy0E-oo6szam",
        "outputId": "e39dc2a9-7002-46c7-bd87-5ce7adedc87a"
      },
      "outputs": [
        {
          "name": "stdout",
          "output_type": "stream",
          "text": [
            "Model: \"sequential\"\n",
            "_________________________________________________________________\n",
            " Layer (type)                Output Shape              Param #   \n",
            "=================================================================\n",
            " embedding (Embedding)       (None, None, 128)         32494720  \n",
            "                                                                 \n",
            " bidirectional (Bidirection  (None, None, 128)         98816     \n",
            " al)                                                             \n",
            "                                                                 \n",
            " dropout (Dropout)           (None, None, 128)         0         \n",
            "                                                                 \n",
            " bidirectional_1 (Bidirecti  (None, None, 64)          41216     \n",
            " onal)                                                           \n",
            "                                                                 \n",
            " dropout_1 (Dropout)         (None, None, 64)          0         \n",
            "                                                                 \n",
            " bidirectional_2 (Bidirecti  (None, 32)                10368     \n",
            " onal)                                                           \n",
            "                                                                 \n",
            " dense (Dense)               (None, 1)                 33        \n",
            "                                                                 \n",
            "=================================================================\n",
            "Total params: 32645153 (124.53 MB)\n",
            "Trainable params: 32645153 (124.53 MB)\n",
            "Non-trainable params: 0 (0.00 Byte)\n",
            "_________________________________________________________________\n"
          ]
        }
      ],
      "source": [
        "bilstm_model.summary()"
      ]
    },
    {
      "cell_type": "code",
      "execution_count": null,
      "metadata": {
        "id": "1ynIAuJ1EZcy"
      },
      "outputs": [],
      "source": [
        "# Compile the model\n",
        "bilstm_model.compile(loss='binary_crossentropy',\n",
        "              optimizer='adam',\n",
        "              metrics=['accuracy'])"
      ]
    },
    {
      "cell_type": "code",
      "execution_count": null,
      "metadata": {
        "colab": {
          "base_uri": "https://localhost:8080/"
        },
        "id": "Q0VxmCK3EZah",
        "outputId": "c6c08ba8-a49c-45c3-dbdc-e19148e3bd14"
      },
      "outputs": [
        {
          "name": "stdout",
          "output_type": "stream",
          "text": [
            "Epoch 1/5\n",
            "2250/2250 [==============================] - 429s 186ms/step - loss: 0.3447 - accuracy: 0.8483 - val_loss: 0.3172 - val_accuracy: 0.8629\n",
            "Epoch 2/5\n",
            "2250/2250 [==============================] - 406s 180ms/step - loss: 0.3065 - accuracy: 0.8681 - val_loss: 0.3090 - val_accuracy: 0.8673\n",
            "Epoch 3/5\n",
            "2250/2250 [==============================] - 407s 181ms/step - loss: 0.2908 - accuracy: 0.8752 - val_loss: 0.2998 - val_accuracy: 0.8715\n",
            "Epoch 4/5\n",
            "2250/2250 [==============================] - 407s 181ms/step - loss: 0.2781 - accuracy: 0.8819 - val_loss: 0.2966 - val_accuracy: 0.8718\n",
            "Epoch 5/5\n",
            "2250/2250 [==============================] - 406s 180ms/step - loss: 0.2655 - accuracy: 0.8876 - val_loss: 0.3024 - val_accuracy: 0.8721\n"
          ]
        }
      ],
      "source": [
        "bilstm_history = bilstm_model.fit(X_train, y_train , validation_data=(X_test, y_test), epochs=5, batch_size=64)"
      ]
    },
    {
      "cell_type": "code",
      "execution_count": null,
      "metadata": {
        "colab": {
          "base_uri": "https://localhost:8080/"
        },
        "id": "OxZdDFMtHj39",
        "outputId": "8c9bf64c-810f-48a2-a6bf-11eedc1c4671"
      },
      "outputs": [
        {
          "name": "stdout",
          "output_type": "stream",
          "text": [
            "1125/1125 [==============================] - 78s 67ms/step\n"
          ]
        }
      ],
      "source": [
        "\n",
        "# Get predictions on test data\n",
        "y_pred = (bilstm_model.predict(X_test) > 0.5).astype(\"int32\")\n",
        "\n"
      ]
    },
    {
      "cell_type": "code",
      "execution_count": null,
      "metadata": {
        "colab": {
          "base_uri": "https://localhost:8080/"
        },
        "id": "q6Xgx9rys3-O",
        "outputId": "989970c8-2cd8-409c-9d1e-133924fab860"
      },
      "outputs": [
        {
          "name": "stdout",
          "output_type": "stream",
          "text": [
            "Accuracy: 0.8721388888888889\n",
            "F1 Score: 0.8723056010208893\n",
            "Confusion Matrix:\n",
            "[[15675  2399]\n",
            " [ 2204 15722]]\n",
            "Classification Report:\n",
            "              precision    recall  f1-score   support\n",
            "\n",
            "           0       0.88      0.87      0.87     18074\n",
            "           1       0.87      0.88      0.87     17926\n",
            "\n",
            "    accuracy                           0.87     36000\n",
            "   macro avg       0.87      0.87      0.87     36000\n",
            "weighted avg       0.87      0.87      0.87     36000\n",
            "\n"
          ]
        }
      ],
      "source": [
        "# Accuracy\n",
        "bilstm_accuracy = accuracy_score(y_test, y_pred)\n",
        "print(f'Accuracy: {bilstm_accuracy}')\n",
        "\n",
        "# F1 Score\n",
        "bilstm_f1 = f1_score(y_test, y_pred)\n",
        "print(f'F1 Score: {bilstm_f1}')\n",
        "\n",
        "# Confusion Matrix\n",
        "bilstm_conf_matrix = confusion_matrix(y_test, y_pred)\n",
        "print(f'Confusion Matrix:\\n{bilstm_conf_matrix}')\n",
        "\n",
        "# Classification Report\n",
        "bilstm_class_report = classification_report(y_test, y_pred)\n",
        "print(f'Classification Report:\\n{bilstm_class_report}')\n"
      ]
    },
    {
      "cell_type": "code",
      "execution_count": null,
      "metadata": {
        "colab": {
          "base_uri": "https://localhost:8080/",
          "height": 449
        },
        "id": "AfOs_-pBkgGi",
        "outputId": "247377a5-095c-44a1-a555-f4b760f92fb1"
      },
      "outputs": [
        {
          "data": {
            "image/png": "[encoded data removed]",
            "text/plain": [
              "<Figure size 640x480 with 1 Axes>"
            ]
          },
          "metadata": {},
          "output_type": "display_data"
        }
      ],
      "source": [
        "plt.plot(bilstm_history.history['accuracy'], label='Train Accuracy')\n",
        "plt.plot(bilstm_history.history['loss'], label='Train Loss')\n",
        "plt.plot(bilstm_history.history['val_accuracy'], label='Validation Accuracy')\n",
        "plt.plot(bilstm_history.history['val_loss'], label='Validation Loss')\n",
        "plt.legend()\n",
        "plt.xlabel('Epochs')\n",
        "plt.ylabel('Metrics')\n",
        "plt.show()"
      ]
    },
    {
      "cell_type": "code",
      "execution_count": null,
      "metadata": {
        "id": "xp8K--LnvMLR"
      },
      "outputs": [],
      "source": [
        "# Save the model\n",
        "# bilstm_model.save('/content/drive/MyDrive/Datasets/AmazonReview/bilstm_model.h5')"
      ]
    },
    {
      "cell_type": "code",
      "execution_count": null,
      "metadata": {
        "id": "UP4scapF0l9D"
      },
      "outputs": [],
      "source": [
        "model = Sequential([\n",
        "    Embedding(vocab_size, embed_dim, input_length=max_length),\n",
        "    Conv1D(64, 4, activation='relu', padding='same'),\n",
        "    MaxPooling1D(2),\n",
        "    Dropout(0.1),\n",
        "    Conv1D(64, 4, activation='relu', padding='same'),\n",
        "    MaxPooling1D(2),\n",
        "    Dropout(0.1),\n",
        "    Conv1D(64, 4, activation='relu', padding='same'),\n",
        "    MaxPooling1D(2),\n",
        "    Flatten(),\n",
        "    Dropout(0.1),\n",
        "    Dense(256, activation='relu'),\n",
        "    Dense(1, activation='sigmoid')\n",
        "])"
      ]
    },
    {
      "cell_type": "code",
      "execution_count": null,
      "metadata": {
        "colab": {
          "base_uri": "https://localhost:8080/"
        },
        "id": "3yRqLJIvaiji",
        "outputId": "1f70f886-cff7-4677-c6aa-7e0ed01d4be7"
      },
      "outputs": [
        {
          "name": "stdout",
          "output_type": "stream",
          "text": [
            "Model: \"sequential_1\"\n",
            "_________________________________________________________________\n",
            " Layer (type)                Output Shape              Param #   \n",
            "=================================================================\n",
            " embedding_1 (Embedding)     (None, 1000, 300)         76159500  \n",
            "                                                                 \n",
            " conv1d (Conv1D)             (None, 1000, 64)          76864     \n",
            "                                                                 \n",
            " max_pooling1d (MaxPooling1  (None, 500, 64)           0         \n",
            " D)                                                              \n",
            "                                                                 \n",
            " dropout_2 (Dropout)         (None, 500, 64)           0         \n",
            "                                                                 \n",
            " conv1d_1 (Conv1D)           (None, 500, 64)           16448     \n",
            "                                                                 \n",
            " max_pooling1d_1 (MaxPoolin  (None, 250, 64)           0         \n",
            " g1D)                                                            \n",
            "                                                                 \n",
            " dropout_3 (Dropout)         (None, 250, 64)           0         \n",
            "                                                                 \n",
            " conv1d_2 (Conv1D)           (None, 250, 64)           16448     \n",
            "                                                                 \n",
            " max_pooling1d_2 (MaxPoolin  (None, 125, 64)           0         \n",
            " g1D)                                                            \n",
            "                                                                 \n",
            " flatten (Flatten)           (None, 8000)              0         \n",
            "                                                                 \n",
            " dropout_4 (Dropout)         (None, 8000)              0         \n",
            "                                                                 \n",
            " dense_1 (Dense)             (None, 256)               2048256   \n",
            "                                                                 \n",
            " dense_2 (Dense)             (None, 1)                 257       \n",
            "                                                                 \n",
            "=================================================================\n",
            "Total params: 78317773 (298.76 MB)\n",
            "Trainable params: 78317773 (298.76 MB)\n",
            "Non-trainable params: 0 (0.00 Byte)\n",
            "_________________________________________________________________\n"
          ]
        }
      ],
      "source": [
        "model.compile(optimizer=tf.keras.optimizers.Adam(1e-4), loss='binary_crossentropy', metrics=['accuracy'])\n",
        "model.summary()"
      ]
    },
    {
      "cell_type": "code",
      "execution_count": null,
      "metadata": {
        "colab": {
          "base_uri": "https://localhost:8080/"
        },
        "id": "wuZ9EuZ7aoos",
        "outputId": "ccee9366-889f-4daf-a564-6da508332bab"
      },
      "outputs": [
        {
          "name": "stdout",
          "output_type": "stream",
          "text": [
            "Epoch 1/10\n",
            "2250/2250 [==============================] - 120s 52ms/step - loss: 0.3795 - accuracy: 0.8198 - val_loss: 0.3227 - val_accuracy: 0.8605\n",
            "Epoch 2/10\n",
            "2250/2250 [==============================] - 96s 42ms/step - loss: 0.3062 - accuracy: 0.8678 - val_loss: 0.3073 - val_accuracy: 0.8668\n",
            "Epoch 3/10\n",
            "2250/2250 [==============================] - 95s 42ms/step - loss: 0.2863 - accuracy: 0.8789 - val_loss: 0.3007 - val_accuracy: 0.8707\n",
            "Epoch 4/10\n",
            "2250/2250 [==============================] - 94s 42ms/step - loss: 0.2593 - accuracy: 0.8935 - val_loss: 0.3043 - val_accuracy: 0.8701\n",
            "Epoch 5/10\n",
            "2250/2250 [==============================] - 93s 41ms/step - loss: 0.2283 - accuracy: 0.9084 - val_loss: 0.3075 - val_accuracy: 0.8704\n",
            "Epoch 6/10\n",
            "2250/2250 [==============================] - 95s 42ms/step - loss: 0.1968 - accuracy: 0.9232 - val_loss: 0.3248 - val_accuracy: 0.8630\n",
            "Epoch 7/10\n",
            "2250/2250 [==============================] - 94s 42ms/step - loss: 0.1703 - accuracy: 0.9345 - val_loss: 0.3478 - val_accuracy: 0.8631\n",
            "Epoch 8/10\n",
            "2250/2250 [==============================] - 94s 42ms/step - loss: 0.1473 - accuracy: 0.9443 - val_loss: 0.3692 - val_accuracy: 0.8598\n",
            "Epoch 9/10\n",
            "2250/2250 [==============================] - 94s 42ms/step - loss: 0.1282 - accuracy: 0.9523 - val_loss: 0.3844 - val_accuracy: 0.8596\n",
            "Epoch 10/10\n",
            "2250/2250 [==============================] - 93s 41ms/step - loss: 0.1118 - accuracy: 0.9587 - val_loss: 0.4090 - val_accuracy: 0.8573\n"
          ]
        }
      ],
      "source": [
        "history = model.fit(X_train, y_train, validation_data=(X_test, y_test), epochs=5, batch_size=64)"
      ]
    },
    {
      "cell_type": "code",
      "execution_count": null,
      "metadata": {
        "colab": {
          "base_uri": "https://localhost:8080/"
        },
        "id": "Obo9xuaZkICA",
        "outputId": "05bcbc4c-cdf0-46f8-8074-2025c91d31d6"
      },
      "outputs": [
        {
          "name": "stdout",
          "output_type": "stream",
          "text": [
            "1125/1125 [==============================] - 5s 4ms/step\n"
          ]
        }
      ],
      "source": [
        "# Get predictions on test data\n",
        "cnn_y_pred = (model.predict(X_test) > 0.5).astype(\"int32\")"
      ]
    },
    {
      "cell_type": "code",
      "execution_count": null,
      "metadata": {
        "colab": {
          "base_uri": "https://localhost:8080/"
        },
        "id": "ZE1_4qeWs34m",
        "outputId": "d6b4a697-9ae2-4673-8fe2-ac76d3002cd2"
      },
      "outputs": [
        {
          "name": "stdout",
          "output_type": "stream",
          "text": [
            "Accuracy: 0.8572777777777778\n",
            "F1 Score: 0.8602741216142716\n",
            "Confusion Matrix:\n",
            "[[15045  3029]\n",
            " [ 2109 15817]]\n",
            "Classification Report:\n",
            "              precision    recall  f1-score   support\n",
            "\n",
            "           0       0.88      0.83      0.85     18074\n",
            "           1       0.84      0.88      0.86     17926\n",
            "\n",
            "    accuracy                           0.86     36000\n",
            "   macro avg       0.86      0.86      0.86     36000\n",
            "weighted avg       0.86      0.86      0.86     36000\n",
            "\n"
          ]
        }
      ],
      "source": [
        "# Accuracy\n",
        "cnn_accuracy = accuracy_score(y_test, cnn_y_pred)\n",
        "print(f'Accuracy: {cnn_accuracy}')\n",
        "\n",
        "# F1 Score\n",
        "cnn_f1 = f1_score(y_test, cnn_y_pred)\n",
        "print(f'F1 Score: {cnn_f1}')\n",
        "\n",
        "# Confusion Matrix\n",
        "cnn_conf_matrix = confusion_matrix(y_test, cnn_y_pred)\n",
        "print(f'Confusion Matrix:\\n{cnn_conf_matrix}')\n",
        "\n",
        "# Classification Report\n",
        "cnn_class_report = classification_report(y_test, cnn_y_pred)\n",
        "print(f'Classification Report:\\n{cnn_class_report}')\n"
      ]
    },
    {
      "cell_type": "code",
      "execution_count": null,
      "metadata": {
        "colab": {
          "base_uri": "https://localhost:8080/",
          "height": 454
        },
        "id": "-5CERzfls311",
        "outputId": "f3d21d32-b5b9-49bd-ecc1-e746a9b9fb90"
      },
      "outputs": [
        {
          "data": {
            "image/png": "[encoded data removed]",
            "text/plain": [
              "<Figure size 640x480 with 1 Axes>"
            ]
          },
          "metadata": {},
          "output_type": "display_data"
        }
      ],
      "source": [
        "plt.plot(history.history['accuracy'], label='Train Accuracy')\n",
        "plt.plot(history.history['loss'], label='Train Loss')\n",
        "plt.plot(history.history['val_accuracy'], label='Validation Accuracy')\n",
        "plt.plot(history.history['val_loss'], label='Validation Loss')\n",
        "plt.legend()\n",
        "plt.xlabel('Epochs')\n",
        "plt.ylabel('Metrics')\n",
        "plt.show()"
      ]
    },
    {
      "cell_type": "code",
      "execution_count": null,
      "metadata": {
        "id": "bcwHi3OgrQ1D"
      },
      "outputs": [],
      "source": [
        "# Save the model\n",
        "# model.save('/content/drive/MyDrive/Datasets/AmazonReview/cnn_model.h5')"
      ]
    },
    {
      "cell_type": "code",
      "execution_count": null,
      "metadata": {
        "id": "Jcwthnx9FPh8"
      },
      "outputs": [],
      "source": []
    },
    {
      "cell_type": "code",
      "execution_count": null,
      "metadata": {
        "id": "1gtprsrMrxNU"
      },
      "outputs": [],
      "source": [
        "gru_model = Sequential([\n",
        "    Embedding(input_dim=vocab_size, output_dim=128),\n",
        "    Bidirectional(GRU(64,return_sequences=True)),\n",
        "    Dropout(0.2),\n",
        "    Bidirectional(GRU(32, return_sequences=True)),\n",
        "    Dropout(0.2),\n",
        "    Bidirectional(GRU(16)),\n",
        "    Dense(1, activation='sigmoid')\n",
        "])"
      ]
    },
    {
      "cell_type": "code",
      "execution_count": null,
      "metadata": {
        "id": "DrKc3H9byBE1"
      },
      "outputs": [],
      "source": [
        "gru_model.compile(loss='binary_crossentropy',optimizer='adam',metrics=['accuracy'])"
      ]
    },
    {
      "cell_type": "code",
      "execution_count": null,
      "metadata": {
        "colab": {
          "base_uri": "https://localhost:8080/"
        },
        "id": "KFamXETIyBBM",
        "outputId": "947e16a5-88b6-4db9-d5a0-1f2586ce3694"
      },
      "outputs": [
        {
          "name": "stdout",
          "output_type": "stream",
          "text": [
            "Epoch 1/5\n",
            "2250/2250 [==============================] - 416s 181ms/step - loss: 0.3401 - accuracy: 0.8507 - val_loss: 0.3157 - val_accuracy: 0.8629\n",
            "Epoch 2/5\n",
            "2250/2250 [==============================] - 400s 178ms/step - loss: 0.3022 - accuracy: 0.8707 - val_loss: 0.3001 - val_accuracy: 0.8700\n",
            "Epoch 3/5\n",
            "2250/2250 [==============================] - 401s 178ms/step - loss: 0.2854 - accuracy: 0.8774 - val_loss: 0.2964 - val_accuracy: 0.8742\n",
            "Epoch 4/5\n",
            "2250/2250 [==============================] - 400s 178ms/step - loss: 0.2729 - accuracy: 0.8837 - val_loss: 0.2977 - val_accuracy: 0.8736\n",
            "Epoch 5/5\n",
            "2250/2250 [==============================] - 400s 178ms/step - loss: 0.2603 - accuracy: 0.8899 - val_loss: 0.2937 - val_accuracy: 0.8741\n"
          ]
        }
      ],
      "source": [
        "gru_history = gru_model.fit(X_train, y_train, validation_data=(X_test, y_test), epochs=5, batch_size=64)"
      ]
    },
    {
      "cell_type": "code",
      "execution_count": null,
      "metadata": {
        "colab": {
          "base_uri": "https://localhost:8080/"
        },
        "id": "aDhUq_XGyA98",
        "outputId": "ae131f92-acf4-495e-9db4-613183234931"
      },
      "outputs": [
        {
          "name": "stdout",
          "output_type": "stream",
          "text": [
            "1125/1125 [==============================] - 76s 66ms/step\n"
          ]
        }
      ],
      "source": [
        "gru_y_pred = (gru_model.predict(X_test) > 0.5).astype(\"int32\")"
      ]
    },
    {
      "cell_type": "code",
      "execution_count": null,
      "metadata": {
        "colab": {
          "base_uri": "https://localhost:8080/"
        },
        "id": "2N6_LIy4yA6g",
        "outputId": "2e1abebc-26d2-4e27-f305-cab3880237ec"
      },
      "outputs": [
        {
          "name": "stdout",
          "output_type": "stream",
          "text": [
            "Accuracy: 0.8740833333333333\n",
            "F1 Score: 0.8752648523706007\n",
            "Confusion Matrix:\n",
            "[[15563  2511]\n",
            " [ 2022 15904]]\n",
            "Classification Report:\n",
            "              precision    recall  f1-score   support\n",
            "\n",
            "           0       0.89      0.86      0.87     18074\n",
            "           1       0.86      0.89      0.88     17926\n",
            "\n",
            "    accuracy                           0.87     36000\n",
            "   macro avg       0.87      0.87      0.87     36000\n",
            "weighted avg       0.87      0.87      0.87     36000\n",
            "\n"
          ]
        }
      ],
      "source": [
        "# Accuracy\n",
        "gru_accuracy = accuracy_score(y_test, gru_y_pred)\n",
        "print(f'Accuracy: {gru_accuracy}')\n",
        "\n",
        "# F1 Score\n",
        "gru_f1 = f1_score(y_test, gru_y_pred)\n",
        "print(f'F1 Score: {gru_f1}')\n",
        "\n",
        "# Confusion Matrix\n",
        "gru_conf_matrix = confusion_matrix(y_test, gru_y_pred)\n",
        "print(f'Confusion Matrix:\\n{gru_conf_matrix}')\n",
        "\n",
        "# Classification Report\n",
        "gru_class_report = classification_report(y_test, gru_y_pred)\n",
        "print(f'Classification Report:\\n{gru_class_report}')"
      ]
    },
    {
      "cell_type": "code",
      "execution_count": null,
      "metadata": {
        "colab": {
          "base_uri": "https://localhost:8080/",
          "height": 449
        },
        "id": "NrZLy7PVyA21",
        "outputId": "c37fbb1f-aa82-4259-e29b-4e3545c74491"
      },
      "outputs": [
        {
          "data": {
            "image/png": "[encoded data removed]",
            "text/plain": [
              "<Figure size 640x480 with 1 Axes>"
            ]
          },
          "metadata": {},
          "output_type": "display_data"
        }
      ],
      "source": [
        "plt.plot(gru_history.history['accuracy'], label='Train Accuracy')\n",
        "plt.plot(gru_history.history['loss'], label='Train Loss')\n",
        "plt.plot(gru_history.history['val_accuracy'], label='Validation Accuracy')\n",
        "plt.plot(gru_history.history['val_loss'], label='Validation Loss')\n",
        "plt.legend()\n",
        "plt.xlabel('Epochs')\n",
        "plt.ylabel('Metrics')\n",
        "plt.show()"
      ]
    },
    {
      "cell_type": "code",
      "execution_count": null,
      "metadata": {
        "id": "8l8t2ceqyAzZ"
      },
      "outputs": [],
      "source": [
        "# Save the model\n",
        "# model.save('/content/drive/MyDrive/Datasets/AmazonReview/gru_model.h5')"
      ]
    },
    {
      "cell_type": "code",
      "execution_count": null,
      "metadata": {
        "colab": {
          "base_uri": "https://localhost:8080/",
          "height": 472
        },
        "id": "gnC7JA3CBSjG",
        "outputId": "1da63d97-4868-4c46-b48d-fcf60e2d7eb8"
      },
      "outputs": [
        {
          "data": {
            "image/png": "[encoded data removed]",
            "text/plain": [
              "<Figure size 640x480 with 1 Axes>"
            ]
          },
          "metadata": {},
          "output_type": "display_data"
        }
      ],
      "source": [
        "models = ['BiLSTM', 'CNN', 'BiGRU']\n",
        "accuracies = [bilstm_accuracy, cnn_accuracy, gru_accuracy]\n",
        "\n",
        "plt.bar(models, accuracies, color=['blue', 'green', 'orange'])\n",
        "plt.ylim(0.8, 1.0)\n",
        "plt.xlabel('Models')\n",
        "plt.ylabel('Accuracy')\n",
        "plt.title('Comparison of Model Accuracies')\n",
        "\n",
        "\n",
        "for i, accuracy in enumerate(accuracies):\n",
        "    plt.text(i, accuracy + 0.01, f'{accuracy:.4f}', ha='center', va='bottom')\n",
        "\n",
        "plt.show()\n",
        "plt.show()"
      ]
    },
    {
      "cell_type": "code",
      "execution_count": null,
      "metadata": {
        "colab": {
          "base_uri": "https://localhost:8080/"
        },
        "id": "CBJKwa8UBSfp",
        "outputId": "eaf32302-31c6-47a5-f070-4d1332a98d1b"
      },
      "outputs": [
        {
          "name": "stderr",
          "output_type": "stream",
          "text": [
            "WARNING:tensorflow:Layer gru_3 will not use cuDNN kernels since it doesn't meet the criteria. It will use a generic GPU kernel as fallback when running on GPU.\n"
          ]
        }
      ],
      "source": [
        "cnngru_model =Sequential([\n",
        "   Embedding(vocab_size, embed_dim, input_length=max_length),\n",
        "    Conv1D(64, 4, activation='relu', padding='same',kernel_regularizer=l2(0.03)),\n",
        "    BatchNormalization(),\n",
        "    Dropout(0.2),\n",
        "    GRU(128, activation='relu', return_sequences=True),\n",
        "    Flatten(),\n",
        "    Dense(1, activation='sigmoid')\n",
        "])\n"
      ]
    },
    {
      "cell_type": "code",
      "execution_count": null,
      "metadata": {
        "id": "_EoKjSbBBSU5"
      },
      "outputs": [],
      "source": [
        "cnngru_model.compile(optimizer='adam', loss='binary_crossentropy', metrics=['accuracy'])"
      ]
    },
    {
      "cell_type": "code",
      "execution_count": null,
      "metadata": {
        "colab": {
          "base_uri": "https://localhost:8080/"
        },
        "id": "Aci1C3LdBbTf",
        "outputId": "9288ad35-04a1-4728-ec61-c7a9cb27da12"
      },
      "outputs": [
        {
          "name": "stdout",
          "output_type": "stream",
          "text": [
            "Epoch 1/5\n",
            "2250/2250 [==============================] - 2887s 1s/step - loss: 0.4032 - accuracy: 0.8441 - val_loss: 0.4972 - val_accuracy: 0.7778\n",
            "Epoch 2/5\n",
            "2061/2250 [==========================>...] - ETA: 3:48 - loss: 0.3428 - accuracy: 0.8603"
          ]
        }
      ],
      "source": [
        "rnn_history = cnngru_model.fit(X_train, y_train, validation_data=(X_test, y_test), epochs=5, batch_size=64)\n"
      ]
    },
    {
      "cell_type": "code",
      "execution_count": null,
      "metadata": {
        "id": "t8_1Z11BBbN3"
      },
      "outputs": [],
      "source": [
        "# Get predictions on test data\n",
        "cnngru_y_pred = (cnngru_model.predict(X_test) > 0.5).astype(\"int32\")"
      ]
    },
    {
      "cell_type": "code",
      "execution_count": null,
      "metadata": {
        "id": "ROiMaTsuBbHF"
      },
      "outputs": [],
      "source": [
        "# Accuracy\n",
        "cnngru_accuracy = accuracy_score(y_test, cnngru_y_pred)\n",
        "print(f'Accuracy: {cnngru_accuracy}')\n",
        "\n",
        "# F1 Score\n",
        "cnngru_f1 = f1_score(y_test, cnngru_y_pred)\n",
        "print(f'F1 Score: {cnngru_f1}')\n",
        "\n",
        "# Confusion Matrix\n",
        "cnngru_conf_matrix = confusion_matrix(y_test, cnngru_y_pred)\n",
        "print(f'Confusion Matrix:\\n{cnngru_conf_matrix}')\n",
        "\n",
        "# Classification Report\n",
        "cnngru_class_report = classification_report(y_test, cnngru_y_pred)\n",
        "print(f'Classification Report:\\n{cnngru_class_report}')\n"
      ]
    },
    {
      "cell_type": "code",
      "execution_count": null,
      "metadata": {
        "id": "lpBmByoeBa-k"
      },
      "outputs": [],
      "source": [
        "plt.plot(rnn_history.history['accuracy'], label='Train Accuracy')\n",
        "plt.plot(rnn_history.history['loss'], label='Train Loss')\n",
        "plt.plot(rnn_history.history['val_accuracy'], label='Validation Accuracy')\n",
        "plt.plot(rnn_history.history['val_loss'], label='Validation Loss')\n",
        "plt.legend()\n",
        "plt.xlabel('Epochs')\n",
        "plt.ylabel('Metrics')\n",
        "plt.show()"
      ]
    },
    {
      "cell_type": "code",
      "execution_count": null,
      "metadata": {
        "id": "kO6bcAn5Ba16"
      },
      "outputs": [],
      "source": [
        "# Save the model\n",
        "# model.save('/content/drive/MyDrive/Datasets/AmazonReview/cnngru_model.h5')"
      ]
    },
    {
      "cell_type": "code",
      "execution_count": null,
      "metadata": {
        "id": "gFwCsaDNk3rz"
      },
      "outputs": [],
      "source": [
        "models = ['BiLSTM', 'CNN', 'BiGRU','CNN-GRU']\n",
        "accuracies = [bilstm_accuracy, cnn_accuracy, gru_accuracy, cnngru_accuracy]\n",
        "\n",
        "plt.bar(models, accuracies, color=['blue', 'green', 'orange','red'])\n",
        "plt.ylim(0.8, 1.0)\n",
        "plt.xlabel('Models')\n",
        "plt.ylabel('Accuracy')\n",
        "plt.title('Comparison of Model Accuracies')\n",
        "\n",
        "\n",
        "for i, accuracy in enumerate(accuracies):\n",
        "    plt.text(i, accuracy + 0.01, f'{accuracy:.4f}', ha='center', va='bottom')\n",
        "\n",
        "plt.show()\n",
        "plt.show()"
      ]
    },
    {
      "cell_type": "code",
      "execution_count": null,
      "metadata": {},
      "outputs": [],
      "source": []
    }
  ],
  "metadata": {
    "accelerator": "GPU",
    "colab": {
      "gpuType": "T4",
      "provenance": []
    },
    "kernelspec": {
      "display_name": "Python 3",
      "name": "python3"
    },
    "language_info": {
      "name": "python",
      "version": "3.9.15"
    }
  },
  "nbformat": 4,
  "nbformat_minor": 0
}
