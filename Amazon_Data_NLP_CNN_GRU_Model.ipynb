{
  "cells": [
    {
      "cell_type": "code",
      "execution_count": 3,
      "metadata": {
        "colab": {
          "base_uri": "https://localhost:8080/"
        },
        "id": "R9d9yY_7hmoS",
        "outputId": "0588a56a-f4c7-43ce-a47e-48b405b2524e"
      },
      "outputs": [
        {
          "name": "stdout",
          "output_type": "stream",
          "text": [
            "/content/drive/MyDrive\n"
          ]
        }
      ],
      "source": [
        "#%cd /content/drive/MyDrive"
      ]
    },
    {
      "cell_type": "code",
      "execution_count": 2,
      "metadata": {
        "colab": {
          "base_uri": "https://localhost:8080/"
        },
        "id": "dDlntuMH38z-",
        "outputId": "61ec50f5-ada0-48db-a414-6827e00bc28f"
      },
      "outputs": [
        {
          "name": "stdout",
          "output_type": "stream",
          "text": [
            "Mounted at /content/drive\n"
          ]
        }
      ],
      "source": [
        "#from google.colab import drive\n",
        "#drive.mount('/content/drive')"
      ]
    },
    {
      "cell_type": "code",
      "execution_count": 4,
      "metadata": {
        "colab": {
          "base_uri": "https://localhost:8080/"
        },
        "id": "zfUiPS4Jh0US",
        "outputId": "0fd40ee5-ca7b-4f2d-8e4e-dbb1a8e931a6"
      },
      "outputs": [
        {
          "name": "stdout",
          "output_type": "stream",
          "text": [
            "/content/drive/MyDrive/Amazon_data_cleaning\n"
          ]
        }
      ],
      "source": [
        "#%cd Amazon_data_cleaning"
      ]
    },
    {
      "cell_type": "code",
      "execution_count": 5,
      "metadata": {
        "colab": {
          "base_uri": "https://localhost:8080/"
        },
        "id": "RHqEGemAh9Yb",
        "outputId": "cf0e16db-6f08-4a93-bf3c-b882dde71256"
      },
      "outputs": [
        {
          "name": "stdout",
          "output_type": "stream",
          "text": [
            "Amazon_Reviews.csv  model.h5  model.json  train.ft.txt\tUntitled.csv\n"
          ]
        }
      ],
      "source": [
        "#!ls\n"
      ]
    },
    {
      "cell_type": "code",
      "execution_count": 6,
      "metadata": {
        "colab": {
          "base_uri": "https://localhost:8080/"
        },
        "id": "98c1aFgqkIMe",
        "outputId": "9f866254-4e3f-4992-b3a0-7f8682a0f658"
      },
      "outputs": [
        {
          "name": "stdout",
          "output_type": "stream",
          "text": [
            "tar (child): train.ft.txt.bz2: Cannot open: No such file or directory\n",
            "tar (child): Error is not recoverable: exiting now\n",
            "tar: Child returned status 2\n",
            "tar: Error is not recoverable: exiting now\n"
          ]
        }
      ],
      "source": [
        "#!tar -xjf train.ft.txt.bz2"
      ]
    },
    {
      "cell_type": "code",
      "execution_count": null,
      "metadata": {
        "id": "hBxkeHk9klfc"
      },
      "outputs": [],
      "source": [
        "#!bzip2 -d train.ft.txt.bz2"
      ]
    },
    {
      "cell_type": "code",
      "execution_count": 5,
      "metadata": {
        "id": "295zHcyklLjh"
      },
      "outputs": [
        {
          "ename": "KeyboardInterrupt",
          "evalue": "",
          "output_type": "error",
          "traceback": [
            "\u001b[1;31m---------------------------------------------------------------------------\u001b[0m",
            "\u001b[1;31mKeyboardInterrupt\u001b[0m                         Traceback (most recent call last)",
            "\u001b[1;32md:\\Project\\sentiment_project\\Amazon_Data_NLP_CNN_GRU_Model.ipynb Cell 7\u001b[0m line \u001b[0;36m2\n\u001b[0;32m      <a href='vscode-notebook-cell:/d%3A/Project/sentiment_project/Amazon_Data_NLP_CNN_GRU_Model.ipynb#W6sZmlsZQ%3D%3D?line=0'>1</a>\u001b[0m \u001b[39mimport\u001b[39;00m \u001b[39mpandas\u001b[39;00m \u001b[39mas\u001b[39;00m \u001b[39mpd\u001b[39;00m\n\u001b[1;32m----> <a href='vscode-notebook-cell:/d%3A/Project/sentiment_project/Amazon_Data_NLP_CNN_GRU_Model.ipynb#W6sZmlsZQ%3D%3D?line=1'>2</a>\u001b[0m df \u001b[39m=\u001b[39m pd\u001b[39m.\u001b[39;49mread_fwf(\u001b[39m'\u001b[39;49m\u001b[39mtrain.ft.txt\u001b[39;49m\u001b[39m'\u001b[39;49m)\n",
            "File \u001b[1;32mc:\\Users\\irene\\AppData\\Local\\Programs\\Python\\Python311\\Lib\\site-packages\\pandas\\io\\parsers\\readers.py:1393\u001b[0m, in \u001b[0;36mread_fwf\u001b[1;34m(filepath_or_buffer, colspecs, widths, infer_nrows, dtype_backend, **kwds)\u001b[0m\n\u001b[0;32m   1391\u001b[0m check_dtype_backend(dtype_backend)\n\u001b[0;32m   1392\u001b[0m kwds[\u001b[39m\"\u001b[39m\u001b[39mdtype_backend\u001b[39m\u001b[39m\"\u001b[39m] \u001b[39m=\u001b[39m dtype_backend\n\u001b[1;32m-> 1393\u001b[0m \u001b[39mreturn\u001b[39;00m _read(filepath_or_buffer, kwds)\n",
            "File \u001b[1;32mc:\\Users\\irene\\AppData\\Local\\Programs\\Python\\Python311\\Lib\\site-packages\\pandas\\io\\parsers\\readers.py:617\u001b[0m, in \u001b[0;36m_read\u001b[1;34m(filepath_or_buffer, kwds)\u001b[0m\n\u001b[0;32m    614\u001b[0m     \u001b[39mreturn\u001b[39;00m parser\n\u001b[0;32m    616\u001b[0m \u001b[39mwith\u001b[39;00m parser:\n\u001b[1;32m--> 617\u001b[0m     \u001b[39mreturn\u001b[39;00m parser\u001b[39m.\u001b[39;49mread(nrows)\n",
            "File \u001b[1;32mc:\\Users\\irene\\AppData\\Local\\Programs\\Python\\Python311\\Lib\\site-packages\\pandas\\io\\parsers\\readers.py:1748\u001b[0m, in \u001b[0;36mTextFileReader.read\u001b[1;34m(self, nrows)\u001b[0m\n\u001b[0;32m   1741\u001b[0m nrows \u001b[39m=\u001b[39m validate_integer(\u001b[39m\"\u001b[39m\u001b[39mnrows\u001b[39m\u001b[39m\"\u001b[39m, nrows)\n\u001b[0;32m   1742\u001b[0m \u001b[39mtry\u001b[39;00m:\n\u001b[0;32m   1743\u001b[0m     \u001b[39m# error: \"ParserBase\" has no attribute \"read\"\u001b[39;00m\n\u001b[0;32m   1744\u001b[0m     (\n\u001b[0;32m   1745\u001b[0m         index,\n\u001b[0;32m   1746\u001b[0m         columns,\n\u001b[0;32m   1747\u001b[0m         col_dict,\n\u001b[1;32m-> 1748\u001b[0m     ) \u001b[39m=\u001b[39m \u001b[39mself\u001b[39;49m\u001b[39m.\u001b[39;49m_engine\u001b[39m.\u001b[39;49mread(  \u001b[39m# type: ignore[attr-defined]\u001b[39;49;00m\n\u001b[0;32m   1749\u001b[0m         nrows\n\u001b[0;32m   1750\u001b[0m     )\n\u001b[0;32m   1751\u001b[0m \u001b[39mexcept\u001b[39;00m \u001b[39mException\u001b[39;00m:\n\u001b[0;32m   1752\u001b[0m     \u001b[39mself\u001b[39m\u001b[39m.\u001b[39mclose()\n",
            "File \u001b[1;32mc:\\Users\\irene\\AppData\\Local\\Programs\\Python\\Python311\\Lib\\site-packages\\pandas\\io\\parsers\\python_parser.py:250\u001b[0m, in \u001b[0;36mPythonParser.read\u001b[1;34m(self, rows)\u001b[0m\n\u001b[0;32m    244\u001b[0m \u001b[39mdef\u001b[39;00m \u001b[39mread\u001b[39m(\n\u001b[0;32m    245\u001b[0m     \u001b[39mself\u001b[39m, rows: \u001b[39mint\u001b[39m \u001b[39m|\u001b[39m \u001b[39mNone\u001b[39;00m \u001b[39m=\u001b[39m \u001b[39mNone\u001b[39;00m\n\u001b[0;32m    246\u001b[0m ) \u001b[39m-\u001b[39m\u001b[39m>\u001b[39m \u001b[39mtuple\u001b[39m[\n\u001b[0;32m    247\u001b[0m     Index \u001b[39m|\u001b[39m \u001b[39mNone\u001b[39;00m, Sequence[Hashable] \u001b[39m|\u001b[39m MultiIndex, Mapping[Hashable, ArrayLike]\n\u001b[0;32m    248\u001b[0m ]:\n\u001b[0;32m    249\u001b[0m     \u001b[39mtry\u001b[39;00m:\n\u001b[1;32m--> 250\u001b[0m         content \u001b[39m=\u001b[39m \u001b[39mself\u001b[39;49m\u001b[39m.\u001b[39;49m_get_lines(rows)\n\u001b[0;32m    251\u001b[0m     \u001b[39mexcept\u001b[39;00m \u001b[39mStopIteration\u001b[39;00m:\n\u001b[0;32m    252\u001b[0m         \u001b[39mif\u001b[39;00m \u001b[39mself\u001b[39m\u001b[39m.\u001b[39m_first_chunk:\n",
            "File \u001b[1;32mc:\\Users\\irene\\AppData\\Local\\Programs\\Python\\Python311\\Lib\\site-packages\\pandas\\io\\parsers\\python_parser.py:1135\u001b[0m, in \u001b[0;36mPythonParser._get_lines\u001b[1;34m(self, rows)\u001b[0m\n\u001b[0;32m   1132\u001b[0m rows \u001b[39m=\u001b[39m \u001b[39m0\u001b[39m\n\u001b[0;32m   1134\u001b[0m \u001b[39mwhile\u001b[39;00m \u001b[39mTrue\u001b[39;00m:\n\u001b[1;32m-> 1135\u001b[0m     new_row \u001b[39m=\u001b[39m \u001b[39mself\u001b[39;49m\u001b[39m.\u001b[39;49m_next_iter_line(row_num\u001b[39m=\u001b[39;49m\u001b[39mself\u001b[39;49m\u001b[39m.\u001b[39;49mpos \u001b[39m+\u001b[39;49m rows \u001b[39m+\u001b[39;49m \u001b[39m1\u001b[39;49m)\n\u001b[0;32m   1136\u001b[0m     rows \u001b[39m+\u001b[39m\u001b[39m=\u001b[39m \u001b[39m1\u001b[39m\n\u001b[0;32m   1138\u001b[0m     \u001b[39mif\u001b[39;00m new_row \u001b[39mis\u001b[39;00m \u001b[39mnot\u001b[39;00m \u001b[39mNone\u001b[39;00m:\n",
            "File \u001b[1;32mc:\\Users\\irene\\AppData\\Local\\Programs\\Python\\Python311\\Lib\\site-packages\\pandas\\io\\parsers\\python_parser.py:800\u001b[0m, in \u001b[0;36mPythonParser._next_iter_line\u001b[1;34m(self, row_num)\u001b[0m\n\u001b[0;32m    797\u001b[0m \u001b[39mtry\u001b[39;00m:\n\u001b[0;32m    798\u001b[0m     \u001b[39m# assert for mypy, data is Iterator[str] or None, would error in next\u001b[39;00m\n\u001b[0;32m    799\u001b[0m     \u001b[39massert\u001b[39;00m \u001b[39mself\u001b[39m\u001b[39m.\u001b[39mdata \u001b[39mis\u001b[39;00m \u001b[39mnot\u001b[39;00m \u001b[39mNone\u001b[39;00m\n\u001b[1;32m--> 800\u001b[0m     line \u001b[39m=\u001b[39m \u001b[39mnext\u001b[39m(\u001b[39mself\u001b[39m\u001b[39m.\u001b[39mdata)\n\u001b[0;32m    801\u001b[0m     \u001b[39m# for mypy\u001b[39;00m\n\u001b[0;32m    802\u001b[0m     \u001b[39massert\u001b[39;00m \u001b[39misinstance\u001b[39m(line, \u001b[39mlist\u001b[39m)\n",
            "File \u001b[1;32mc:\\Users\\irene\\AppData\\Local\\Programs\\Python\\Python311\\Lib\\site-packages\\pandas\\io\\parsers\\python_parser.py:1309\u001b[0m, in \u001b[0;36mFixedWidthReader.__next__\u001b[1;34m(self)\u001b[0m\n\u001b[0;32m   1307\u001b[0m         line \u001b[39m=\u001b[39m \u001b[39mnext\u001b[39m(\u001b[39mself\u001b[39m\u001b[39m.\u001b[39mf)  \u001b[39m# type: ignore[arg-type]\u001b[39;00m\n\u001b[0;32m   1308\u001b[0m \u001b[39melse\u001b[39;00m:\n\u001b[1;32m-> 1309\u001b[0m     line \u001b[39m=\u001b[39m \u001b[39mnext\u001b[39m(\u001b[39mself\u001b[39m\u001b[39m.\u001b[39mf)  \u001b[39m# type: ignore[arg-type]\u001b[39;00m\n\u001b[0;32m   1310\u001b[0m \u001b[39m# Note: 'colspecs' is a sequence of half-open intervals.\u001b[39;00m\n\u001b[0;32m   1311\u001b[0m \u001b[39mreturn\u001b[39;00m [line[from_:to]\u001b[39m.\u001b[39mstrip(\u001b[39mself\u001b[39m\u001b[39m.\u001b[39mdelimiter) \u001b[39mfor\u001b[39;00m (from_, to) \u001b[39min\u001b[39;00m \u001b[39mself\u001b[39m\u001b[39m.\u001b[39mcolspecs]\n",
            "File \u001b[1;32m<frozen codecs>:319\u001b[0m, in \u001b[0;36mdecode\u001b[1;34m(self, input, final)\u001b[0m\n",
            "\u001b[1;31mKeyboardInterrupt\u001b[0m: "
          ]
        }
      ],
      "source": [
        "import pandas as pd\n",
        "df = pd.read_fwf('train.ft.txt')"
      ]
    },
    {
      "cell_type": "code",
      "execution_count": 172,
      "metadata": {
        "id": "XcmgYVnoluIb"
      },
      "outputs": [],
      "source": [
        "df1=df[1:50000]"
      ]
    },
    {
      "cell_type": "code",
      "execution_count": 174,
      "metadata": {
        "colab": {
          "base_uri": "https://localhost:8080/"
        },
        "id": "Gzd1hZAHl8Bx",
        "outputId": "03f43a0f-cd54-4a34-8d8d-5c4359164977"
      },
      "outputs": [
        {
          "data": {
            "text/plain": [
              "<bound method DataFrame.reset_index of        __label__2  \\\n",
              "1      __label__2   \n",
              "2      __label__2   \n",
              "3      __label__2   \n",
              "4      __label__2   \n",
              "5      __label__1   \n",
              "...           ...   \n",
              "49995  __label__1   \n",
              "49996  __label__2   \n",
              "49997  __label__2   \n",
              "49998  __label__2   \n",
              "49999  __label__2   \n",
              "\n",
              "      Stuning even for the non-gamer: This sound track was beautiful! It paints the senery in your mind so well I would recomend it even to people who hate vid. game music! I have played the game Chrono Cross but out of all of the games I have ever played it has the best music! It backs away from crude keyboarding and takes a fresher step with grate guitars and soulful orchestras. It would impress anyone who cares to listen! ^_^  \\\n",
              "1      Amazing!: This soundtrack is my favorite music...                                                                                                                                                                                                                                                                                                                                                                                           \n",
              "2      Excellent Soundtrack: I truly like this soundt...                                                                                                                                                                                                                                                                                                                                                                                           \n",
              "3      Remember, Pull Your Jaw Off The Floor After He...                                                                                                                                                                                                                                                                                                                                                                                           \n",
              "4      an absolute masterpiece: I am quite sure any o...                                                                                                                                                                                                                                                                                                                                                                                           \n",
              "5      Buyer beware: This is a self-published book, a...                                                                                                                                                                                                                                                                                                                                                                                           \n",
              "...                                                  ...                                                                                                                                                                                                                                                                                                                                                                                           \n",
              "49995  Pit Bull 6\" LCD Digital Caliper: This Caliper ...                                                                                                                                                                                                                                                                                                                                                                                           \n",
              "49996  Good Quality for the Price: These aren't great...                                                                                                                                                                                                                                                                                                                                                                                           \n",
              "49997  A must have if your going to reload: I used it...                                                                                                                                                                                                                                                                                                                                                                                           \n",
              "49998  It measures stuff, better now!: Out of the box...                                                                                                                                                                                                                                                                                                                                                                                           \n",
              "49999  Excellent product: I'm not certain if some peo...                                                                                                                                                                                                                                                                                                                                                                                           \n",
              "\n",
              "      Unnamed: 2  \n",
              "1            NaN  \n",
              "2            NaN  \n",
              "3            NaN  \n",
              "4            NaN  \n",
              "5            NaN  \n",
              "...          ...  \n",
              "49995        NaN  \n",
              "49996        NaN  \n",
              "49997        NaN  \n",
              "49998        NaN  \n",
              "49999        NaN  \n",
              "\n",
              "[49999 rows x 3 columns]>"
            ]
          },
          "execution_count": 174,
          "metadata": {},
          "output_type": "execute_result"
        }
      ],
      "source": [
        "df1.reset_index"
      ]
    },
    {
      "cell_type": "code",
      "execution_count": 175,
      "metadata": {
        "id": "3wBWVxhXmo6h"
      },
      "outputs": [],
      "source": [
        "df1.columns = df1.iloc[0,:].values"
      ]
    },
    {
      "cell_type": "code",
      "execution_count": 176,
      "metadata": {
        "id": "8r_Hbk_Inq0_"
      },
      "outputs": [],
      "source": [
        "df1.columns = ['V', 'text', 'X']"
      ]
    },
    {
      "cell_type": "code",
      "execution_count": 177,
      "metadata": {
        "colab": {
          "base_uri": "https://localhost:8080/"
        },
        "id": "e3kF6gf6oB_u",
        "outputId": "4e1d2db2-73e0-486c-e292-1f392ca6f813"
      },
      "outputs": [
        {
          "name": "stderr",
          "output_type": "stream",
          "text": [
            "C:\\Users\\irene\\AppData\\Local\\Temp\\ipykernel_27396\\536711520.py:1: SettingWithCopyWarning: \n",
            "A value is trying to be set on a copy of a slice from a DataFrame\n",
            "\n",
            "See the caveats in the documentation: https://pandas.pydata.org/pandas-docs/stable/user_guide/indexing.html#returning-a-view-versus-a-copy\n",
            "  df1.drop(columns='V',inplace=True)\n"
          ]
        }
      ],
      "source": [
        "df1.drop(columns='V',inplace=True)"
      ]
    },
    {
      "cell_type": "code",
      "execution_count": 178,
      "metadata": {
        "colab": {
          "base_uri": "https://localhost:8080/"
        },
        "id": "8MHlox-qobhe",
        "outputId": "1ec1a471-05ca-4dfe-cd6f-1c0ed29e82db"
      },
      "outputs": [
        {
          "name": "stderr",
          "output_type": "stream",
          "text": [
            "C:\\Users\\irene\\AppData\\Local\\Temp\\ipykernel_27396\\3311699238.py:1: SettingWithCopyWarning: \n",
            "A value is trying to be set on a copy of a slice from a DataFrame\n",
            "\n",
            "See the caveats in the documentation: https://pandas.pydata.org/pandas-docs/stable/user_guide/indexing.html#returning-a-view-versus-a-copy\n",
            "  df1.drop(columns='X',inplace=True)\n"
          ]
        }
      ],
      "source": [
        "df1.drop(columns='X',inplace=True)"
      ]
    },
    {
      "cell_type": "code",
      "execution_count": 179,
      "metadata": {
        "colab": {
          "base_uri": "https://localhost:8080/",
          "height": 424
        },
        "id": "21_Ev2SUofJo",
        "outputId": "f2c644c1-97ea-4b5a-d4f8-39d0dbb57a46"
      },
      "outputs": [
        {
          "data": {
            "text/html": [
              "<div>\n",
              "<style scoped>\n",
              "    .dataframe tbody tr th:only-of-type {\n",
              "        vertical-align: middle;\n",
              "    }\n",
              "\n",
              "    .dataframe tbody tr th {\n",
              "        vertical-align: top;\n",
              "    }\n",
              "\n",
              "    .dataframe thead th {\n",
              "        text-align: right;\n",
              "    }\n",
              "</style>\n",
              "<table border=\"1\" class=\"dataframe\">\n",
              "  <thead>\n",
              "    <tr style=\"text-align: right;\">\n",
              "      <th></th>\n",
              "      <th>text</th>\n",
              "    </tr>\n",
              "  </thead>\n",
              "  <tbody>\n",
              "    <tr>\n",
              "      <th>1</th>\n",
              "      <td>Amazing!: This soundtrack is my favorite music...</td>\n",
              "    </tr>\n",
              "    <tr>\n",
              "      <th>2</th>\n",
              "      <td>Excellent Soundtrack: I truly like this soundt...</td>\n",
              "    </tr>\n",
              "    <tr>\n",
              "      <th>3</th>\n",
              "      <td>Remember, Pull Your Jaw Off The Floor After He...</td>\n",
              "    </tr>\n",
              "    <tr>\n",
              "      <th>4</th>\n",
              "      <td>an absolute masterpiece: I am quite sure any o...</td>\n",
              "    </tr>\n",
              "    <tr>\n",
              "      <th>5</th>\n",
              "      <td>Buyer beware: This is a self-published book, a...</td>\n",
              "    </tr>\n",
              "    <tr>\n",
              "      <th>...</th>\n",
              "      <td>...</td>\n",
              "    </tr>\n",
              "    <tr>\n",
              "      <th>49995</th>\n",
              "      <td>Pit Bull 6\" LCD Digital Caliper: This Caliper ...</td>\n",
              "    </tr>\n",
              "    <tr>\n",
              "      <th>49996</th>\n",
              "      <td>Good Quality for the Price: These aren't great...</td>\n",
              "    </tr>\n",
              "    <tr>\n",
              "      <th>49997</th>\n",
              "      <td>A must have if your going to reload: I used it...</td>\n",
              "    </tr>\n",
              "    <tr>\n",
              "      <th>49998</th>\n",
              "      <td>It measures stuff, better now!: Out of the box...</td>\n",
              "    </tr>\n",
              "    <tr>\n",
              "      <th>49999</th>\n",
              "      <td>Excellent product: I'm not certain if some peo...</td>\n",
              "    </tr>\n",
              "  </tbody>\n",
              "</table>\n",
              "<p>49999 rows × 1 columns</p>\n",
              "</div>"
            ],
            "text/plain": [
              "                                                    text\n",
              "1      Amazing!: This soundtrack is my favorite music...\n",
              "2      Excellent Soundtrack: I truly like this soundt...\n",
              "3      Remember, Pull Your Jaw Off The Floor After He...\n",
              "4      an absolute masterpiece: I am quite sure any o...\n",
              "5      Buyer beware: This is a self-published book, a...\n",
              "...                                                  ...\n",
              "49995  Pit Bull 6\" LCD Digital Caliper: This Caliper ...\n",
              "49996  Good Quality for the Price: These aren't great...\n",
              "49997  A must have if your going to reload: I used it...\n",
              "49998  It measures stuff, better now!: Out of the box...\n",
              "49999  Excellent product: I'm not certain if some peo...\n",
              "\n",
              "[49999 rows x 1 columns]"
            ]
          },
          "execution_count": 179,
          "metadata": {},
          "output_type": "execute_result"
        }
      ],
      "source": [
        "df1"
      ]
    },
    {
      "cell_type": "code",
      "execution_count": 180,
      "metadata": {
        "colab": {
          "base_uri": "https://localhost:8080/"
        },
        "id": "1ovV7xarorm7",
        "outputId": "21484a0a-28dd-497c-cb75-1c7bd7288022"
      },
      "outputs": [
        {
          "name": "stdout",
          "output_type": "stream",
          "text": [
            "Requirement already satisfied: vaderSentiment in c:\\users\\irene\\appdata\\local\\programs\\python\\python311\\lib\\site-packages (3.3.2)\n",
            "Requirement already satisfied: requests in c:\\users\\irene\\appdata\\local\\programs\\python\\python311\\lib\\site-packages (from vaderSentiment) (2.31.0)\n",
            "Requirement already satisfied: charset-normalizer<4,>=2 in c:\\users\\irene\\appdata\\local\\programs\\python\\python311\\lib\\site-packages (from requests->vaderSentiment) (3.3.0)\n",
            "Requirement already satisfied: idna<4,>=2.5 in c:\\users\\irene\\appdata\\local\\programs\\python\\python311\\lib\\site-packages (from requests->vaderSentiment) (3.4)\n",
            "Requirement already satisfied: urllib3<3,>=1.21.1 in c:\\users\\irene\\appdata\\local\\programs\\python\\python311\\lib\\site-packages (from requests->vaderSentiment) (2.0.6)\n",
            "Requirement already satisfied: certifi>=2017.4.17 in c:\\users\\irene\\appdata\\local\\programs\\python\\python311\\lib\\site-packages (from requests->vaderSentiment) (2023.7.22)\n",
            "Note: you may need to restart the kernel to use updated packages.\n"
          ]
        },
        {
          "name": "stderr",
          "output_type": "stream",
          "text": [
            "\n",
            "[notice] A new release of pip is available: 23.2.1 -> 23.3.1\n",
            "[notice] To update, run: python.exe -m pip install --upgrade pip\n"
          ]
        }
      ],
      "source": [
        "%pip install vaderSentiment"
      ]
    },
    {
      "cell_type": "code",
      "execution_count": 181,
      "metadata": {
        "id": "ubUai6KFpdUV"
      },
      "outputs": [],
      "source": [
        "df2=df1"
      ]
    },
    {
      "cell_type": "code",
      "execution_count": 182,
      "metadata": {
        "colab": {
          "base_uri": "https://localhost:8080/"
        },
        "id": "k-11-jzxq_Ca",
        "outputId": "3a596724-6c7a-4341-8ad4-66f77c84c071"
      },
      "outputs": [
        {
          "name": "stderr",
          "output_type": "stream",
          "text": [
            "C:\\Users\\irene\\AppData\\Local\\Temp\\ipykernel_27396\\3702742849.py:7: SettingWithCopyWarning: \n",
            "A value is trying to be set on a copy of a slice from a DataFrame.\n",
            "Try using .loc[row_indexer,col_indexer] = value instead\n",
            "\n",
            "See the caveats in the documentation: https://pandas.pydata.org/pandas-docs/stable/user_guide/indexing.html#returning-a-view-versus-a-copy\n",
            "  df1[\"Positive\"] = [sentiments.polarity_scores(i)[\"pos\"] for i in df1[\"text\"]]\n",
            "C:\\Users\\irene\\AppData\\Local\\Temp\\ipykernel_27396\\3702742849.py:8: SettingWithCopyWarning: \n",
            "A value is trying to be set on a copy of a slice from a DataFrame.\n",
            "Try using .loc[row_indexer,col_indexer] = value instead\n",
            "\n",
            "See the caveats in the documentation: https://pandas.pydata.org/pandas-docs/stable/user_guide/indexing.html#returning-a-view-versus-a-copy\n",
            "  df1[\"Negative\"] = [sentiments.polarity_scores(i)[\"neg\"] for i in df1[\"text\"]]\n",
            "C:\\Users\\irene\\AppData\\Local\\Temp\\ipykernel_27396\\3702742849.py:9: SettingWithCopyWarning: \n",
            "A value is trying to be set on a copy of a slice from a DataFrame.\n",
            "Try using .loc[row_indexer,col_indexer] = value instead\n",
            "\n",
            "See the caveats in the documentation: https://pandas.pydata.org/pandas-docs/stable/user_guide/indexing.html#returning-a-view-versus-a-copy\n",
            "  df1[\"Neutral\"] = [sentiments.polarity_scores(i)[\"neu\"] for i in df1[\"text\"]]\n",
            "C:\\Users\\irene\\AppData\\Local\\Temp\\ipykernel_27396\\3702742849.py:10: SettingWithCopyWarning: \n",
            "A value is trying to be set on a copy of a slice from a DataFrame.\n",
            "Try using .loc[row_indexer,col_indexer] = value instead\n",
            "\n",
            "See the caveats in the documentation: https://pandas.pydata.org/pandas-docs/stable/user_guide/indexing.html#returning-a-view-versus-a-copy\n",
            "  df1[\"Compound\"] = [sentiments.polarity_scores(i)[\"compound\"] for i in df1[\"text\"]]\n"
          ]
        }
      ],
      "source": [
        "from vaderSentiment.vaderSentiment import SentimentIntensityAnalyzer\n",
        "import nltk\n",
        "#nltk.download('vader_lexicon')\n",
        "\n",
        "sentiments = SentimentIntensityAnalyzer()\n",
        "\n",
        "df1[\"Positive\"] = [sentiments.polarity_scores(i)[\"pos\"] for i in df1[\"text\"]]\n",
        "df1[\"Negative\"] = [sentiments.polarity_scores(i)[\"neg\"] for i in df1[\"text\"]]\n",
        "df1[\"Neutral\"] = [sentiments.polarity_scores(i)[\"neu\"] for i in df1[\"text\"]]\n",
        "df1[\"Compound\"] = [sentiments.polarity_scores(i)[\"compound\"] for i in df1[\"text\"]]"
      ]
    },
    {
      "cell_type": "code",
      "execution_count": 183,
      "metadata": {
        "colab": {
          "base_uri": "https://localhost:8080/",
          "height": 424
        },
        "id": "OHy24DeIrWnS",
        "outputId": "e342d547-28ef-4adc-861e-036dc2a4f6a3"
      },
      "outputs": [
        {
          "data": {
            "text/html": [
              "<div>\n",
              "<style scoped>\n",
              "    .dataframe tbody tr th:only-of-type {\n",
              "        vertical-align: middle;\n",
              "    }\n",
              "\n",
              "    .dataframe tbody tr th {\n",
              "        vertical-align: top;\n",
              "    }\n",
              "\n",
              "    .dataframe thead th {\n",
              "        text-align: right;\n",
              "    }\n",
              "</style>\n",
              "<table border=\"1\" class=\"dataframe\">\n",
              "  <thead>\n",
              "    <tr style=\"text-align: right;\">\n",
              "      <th></th>\n",
              "      <th>text</th>\n",
              "      <th>Positive</th>\n",
              "      <th>Negative</th>\n",
              "      <th>Neutral</th>\n",
              "      <th>Compound</th>\n",
              "    </tr>\n",
              "  </thead>\n",
              "  <tbody>\n",
              "    <tr>\n",
              "      <th>1</th>\n",
              "      <td>Amazing!: This soundtrack is my favorite music...</td>\n",
              "      <td>0.264</td>\n",
              "      <td>0.062</td>\n",
              "      <td>0.674</td>\n",
              "      <td>0.9847</td>\n",
              "    </tr>\n",
              "    <tr>\n",
              "      <th>2</th>\n",
              "      <td>Excellent Soundtrack: I truly like this soundt...</td>\n",
              "      <td>0.282</td>\n",
              "      <td>0.086</td>\n",
              "      <td>0.632</td>\n",
              "      <td>0.9814</td>\n",
              "    </tr>\n",
              "    <tr>\n",
              "      <th>3</th>\n",
              "      <td>Remember, Pull Your Jaw Off The Floor After He...</td>\n",
              "      <td>0.280</td>\n",
              "      <td>0.000</td>\n",
              "      <td>0.720</td>\n",
              "      <td>0.9840</td>\n",
              "    </tr>\n",
              "    <tr>\n",
              "      <th>4</th>\n",
              "      <td>an absolute masterpiece: I am quite sure any o...</td>\n",
              "      <td>0.253</td>\n",
              "      <td>0.014</td>\n",
              "      <td>0.733</td>\n",
              "      <td>0.9909</td>\n",
              "    </tr>\n",
              "    <tr>\n",
              "      <th>5</th>\n",
              "      <td>Buyer beware: This is a self-published book, a...</td>\n",
              "      <td>0.064</td>\n",
              "      <td>0.113</td>\n",
              "      <td>0.824</td>\n",
              "      <td>-0.8653</td>\n",
              "    </tr>\n",
              "    <tr>\n",
              "      <th>...</th>\n",
              "      <td>...</td>\n",
              "      <td>...</td>\n",
              "      <td>...</td>\n",
              "      <td>...</td>\n",
              "      <td>...</td>\n",
              "    </tr>\n",
              "    <tr>\n",
              "      <th>49995</th>\n",
              "      <td>Pit Bull 6\" LCD Digital Caliper: This Caliper ...</td>\n",
              "      <td>0.144</td>\n",
              "      <td>0.037</td>\n",
              "      <td>0.819</td>\n",
              "      <td>0.8264</td>\n",
              "    </tr>\n",
              "    <tr>\n",
              "      <th>49996</th>\n",
              "      <td>Good Quality for the Price: These aren't great...</td>\n",
              "      <td>0.179</td>\n",
              "      <td>0.049</td>\n",
              "      <td>0.772</td>\n",
              "      <td>0.8898</td>\n",
              "    </tr>\n",
              "    <tr>\n",
              "      <th>49997</th>\n",
              "      <td>A must have if your going to reload: I used it...</td>\n",
              "      <td>0.226</td>\n",
              "      <td>0.000</td>\n",
              "      <td>0.774</td>\n",
              "      <td>0.9001</td>\n",
              "    </tr>\n",
              "    <tr>\n",
              "      <th>49998</th>\n",
              "      <td>It measures stuff, better now!: Out of the box...</td>\n",
              "      <td>0.122</td>\n",
              "      <td>0.014</td>\n",
              "      <td>0.864</td>\n",
              "      <td>0.9215</td>\n",
              "    </tr>\n",
              "    <tr>\n",
              "      <th>49999</th>\n",
              "      <td>Excellent product: I'm not certain if some peo...</td>\n",
              "      <td>0.270</td>\n",
              "      <td>0.099</td>\n",
              "      <td>0.631</td>\n",
              "      <td>0.9688</td>\n",
              "    </tr>\n",
              "  </tbody>\n",
              "</table>\n",
              "<p>49999 rows × 5 columns</p>\n",
              "</div>"
            ],
            "text/plain": [
              "                                                    text  Positive  Negative  \\\n",
              "1      Amazing!: This soundtrack is my favorite music...     0.264     0.062   \n",
              "2      Excellent Soundtrack: I truly like this soundt...     0.282     0.086   \n",
              "3      Remember, Pull Your Jaw Off The Floor After He...     0.280     0.000   \n",
              "4      an absolute masterpiece: I am quite sure any o...     0.253     0.014   \n",
              "5      Buyer beware: This is a self-published book, a...     0.064     0.113   \n",
              "...                                                  ...       ...       ...   \n",
              "49995  Pit Bull 6\" LCD Digital Caliper: This Caliper ...     0.144     0.037   \n",
              "49996  Good Quality for the Price: These aren't great...     0.179     0.049   \n",
              "49997  A must have if your going to reload: I used it...     0.226     0.000   \n",
              "49998  It measures stuff, better now!: Out of the box...     0.122     0.014   \n",
              "49999  Excellent product: I'm not certain if some peo...     0.270     0.099   \n",
              "\n",
              "       Neutral  Compound  \n",
              "1        0.674    0.9847  \n",
              "2        0.632    0.9814  \n",
              "3        0.720    0.9840  \n",
              "4        0.733    0.9909  \n",
              "5        0.824   -0.8653  \n",
              "...        ...       ...  \n",
              "49995    0.819    0.8264  \n",
              "49996    0.772    0.8898  \n",
              "49997    0.774    0.9001  \n",
              "49998    0.864    0.9215  \n",
              "49999    0.631    0.9688  \n",
              "\n",
              "[49999 rows x 5 columns]"
            ]
          },
          "execution_count": 183,
          "metadata": {},
          "output_type": "execute_result"
        }
      ],
      "source": [
        "df1"
      ]
    },
    {
      "cell_type": "code",
      "execution_count": 184,
      "metadata": {},
      "outputs": [
        {
          "name": "stdout",
          "output_type": "stream",
          "text": [
            "<class 'pandas.core.frame.DataFrame'>\n"
          ]
        }
      ],
      "source": [
        "print(type(df1))"
      ]
    },
    {
      "cell_type": "code",
      "execution_count": 185,
      "metadata": {
        "colab": {
          "base_uri": "https://localhost:8080/"
        },
        "id": "dK2Q1Bmxrclg",
        "outputId": "b8e6b0a9-1777-434b-e96e-aa9bb71a5d2e"
      },
      "outputs": [
        {
          "name": "stderr",
          "output_type": "stream",
          "text": [
            "C:\\Users\\irene\\AppData\\Local\\Temp\\ipykernel_27396\\1628481642.py:1: SettingWithCopyWarning: \n",
            "A value is trying to be set on a copy of a slice from a DataFrame.\n",
            "Try using .loc[row_indexer,col_indexer] = value instead\n",
            "\n",
            "See the caveats in the documentation: https://pandas.pydata.org/pandas-docs/stable/user_guide/indexing.html#returning-a-view-versus-a-copy\n",
            "  df1['Sentiment'] = df1['Compound'].apply(lambda x: 'positive' if x >0 else 'neutral' if x==0 else 'negative')\n"
          ]
        }
      ],
      "source": [
        "df1['Sentiment'] = df1['Compound'].apply(lambda x: 'positive' if x >0 else 'neutral' if x==0 else 'negative')"
      ]
    },
    {
      "cell_type": "code",
      "execution_count": 186,
      "metadata": {
        "colab": {
          "base_uri": "https://localhost:8080/"
        },
        "id": "j6IVtdR1rn48",
        "outputId": "963c7090-cfe8-48fe-c243-1e79e2b646da"
      },
      "outputs": [
        {
          "name": "stderr",
          "output_type": "stream",
          "text": [
            "C:\\Users\\irene\\AppData\\Local\\Temp\\ipykernel_27396\\1042997814.py:1: SettingWithCopyWarning: \n",
            "A value is trying to be set on a copy of a slice from a DataFrame\n",
            "\n",
            "See the caveats in the documentation: https://pandas.pydata.org/pandas-docs/stable/user_guide/indexing.html#returning-a-view-versus-a-copy\n",
            "  df1.rename(columns={'text':'Text'},inplace=True)\n"
          ]
        }
      ],
      "source": [
        "df1.rename(columns={'text':'Text'},inplace=True)"
      ]
    },
    {
      "cell_type": "code",
      "execution_count": 187,
      "metadata": {
        "colab": {
          "base_uri": "https://localhost:8080/"
        },
        "id": "0vb77IaFrymE",
        "outputId": "5cf6caeb-2213-4be9-cb9e-430007a7604c"
      },
      "outputs": [
        {
          "name": "stderr",
          "output_type": "stream",
          "text": [
            "C:\\Users\\irene\\AppData\\Local\\Temp\\ipykernel_27396\\3750084503.py:1: SettingWithCopyWarning: \n",
            "A value is trying to be set on a copy of a slice from a DataFrame\n",
            "\n",
            "See the caveats in the documentation: https://pandas.pydata.org/pandas-docs/stable/user_guide/indexing.html#returning-a-view-versus-a-copy\n",
            "  df1.drop(columns='Positive',inplace=True)\n"
          ]
        }
      ],
      "source": [
        "df1.drop(columns='Positive',inplace=True)"
      ]
    },
    {
      "cell_type": "code",
      "execution_count": 188,
      "metadata": {
        "colab": {
          "base_uri": "https://localhost:8080/"
        },
        "id": "KvZgxN-lq_E9",
        "outputId": "8a8629df-b3db-4fad-e53f-e2a2ac8a5863"
      },
      "outputs": [
        {
          "name": "stderr",
          "output_type": "stream",
          "text": [
            "C:\\Users\\irene\\AppData\\Local\\Temp\\ipykernel_27396\\983557501.py:1: SettingWithCopyWarning: \n",
            "A value is trying to be set on a copy of a slice from a DataFrame\n",
            "\n",
            "See the caveats in the documentation: https://pandas.pydata.org/pandas-docs/stable/user_guide/indexing.html#returning-a-view-versus-a-copy\n",
            "  df1.drop(columns='Negative',inplace=True)\n"
          ]
        }
      ],
      "source": [
        "df1.drop(columns='Negative',inplace=True)"
      ]
    },
    {
      "cell_type": "code",
      "execution_count": 189,
      "metadata": {
        "colab": {
          "base_uri": "https://localhost:8080/"
        },
        "id": "FTH-GUlqiDJy",
        "outputId": "0358a2b5-7649-4b53-888e-f17df5c484e9"
      },
      "outputs": [
        {
          "name": "stderr",
          "output_type": "stream",
          "text": [
            "C:\\Users\\irene\\AppData\\Local\\Temp\\ipykernel_27396\\3667048869.py:1: SettingWithCopyWarning: \n",
            "A value is trying to be set on a copy of a slice from a DataFrame\n",
            "\n",
            "See the caveats in the documentation: https://pandas.pydata.org/pandas-docs/stable/user_guide/indexing.html#returning-a-view-versus-a-copy\n",
            "  df1.drop(columns='Compound',inplace=True)\n"
          ]
        }
      ],
      "source": [
        "df1.drop(columns='Compound',inplace=True)"
      ]
    },
    {
      "cell_type": "code",
      "execution_count": 190,
      "metadata": {
        "colab": {
          "base_uri": "https://localhost:8080/"
        },
        "id": "dTnWUUZFr8Vw",
        "outputId": "ab2536cc-cd37-4dc4-8ee5-843a7f260034"
      },
      "outputs": [
        {
          "name": "stderr",
          "output_type": "stream",
          "text": [
            "C:\\Users\\irene\\AppData\\Local\\Temp\\ipykernel_27396\\2323874965.py:1: SettingWithCopyWarning: \n",
            "A value is trying to be set on a copy of a slice from a DataFrame\n",
            "\n",
            "See the caveats in the documentation: https://pandas.pydata.org/pandas-docs/stable/user_guide/indexing.html#returning-a-view-versus-a-copy\n",
            "  df1.drop(columns='Neutral',inplace=True)\n"
          ]
        }
      ],
      "source": [
        "df1.drop(columns='Neutral',inplace=True)"
      ]
    },
    {
      "cell_type": "code",
      "execution_count": 191,
      "metadata": {
        "id": "UCHzO5AusR0Q"
      },
      "outputs": [],
      "source": [
        "df2=df1[df1['Sentiment']!='neutral']"
      ]
    },
    {
      "cell_type": "code",
      "execution_count": 192,
      "metadata": {
        "colab": {
          "base_uri": "https://localhost:8080/"
        },
        "id": "Ph_WfMSSswI3",
        "outputId": "18240823-3125-4353-cd52-89d858699a3a"
      },
      "outputs": [
        {
          "data": {
            "text/plain": [
              "Sentiment\n",
              "positive    35660\n",
              "negative    13765\n",
              "Name: count, dtype: int64"
            ]
          },
          "execution_count": 192,
          "metadata": {},
          "output_type": "execute_result"
        }
      ],
      "source": [
        "df2['Sentiment'].value_counts()"
      ]
    },
    {
      "cell_type": "code",
      "execution_count": 193,
      "metadata": {
        "colab": {
          "base_uri": "https://localhost:8080/"
        },
        "id": "6hJiMIyqtwiN",
        "outputId": "db5fec95-80bc-40b9-bc14-ef5db3c44c8c"
      },
      "outputs": [
        {
          "name": "stderr",
          "output_type": "stream",
          "text": [
            "C:\\Users\\irene\\AppData\\Local\\Temp\\ipykernel_27396\\3269864285.py:1: SettingWithCopyWarning: \n",
            "A value is trying to be set on a copy of a slice from a DataFrame\n",
            "\n",
            "See the caveats in the documentation: https://pandas.pydata.org/pandas-docs/stable/user_guide/indexing.html#returning-a-view-versus-a-copy\n",
            "  df2 = df2.replace(to_replace='positive',value='1',inplace=True)\n"
          ]
        }
      ],
      "source": [
        "df2 = df2.replace(to_replace='positive',value='1',inplace=True)"
      ]
    },
    {
      "cell_type": "code",
      "execution_count": 194,
      "metadata": {
        "id": "NJ6vS0zjuuZf"
      },
      "outputs": [],
      "source": [
        "df2"
      ]
    },
    {
      "cell_type": "code",
      "execution_count": 195,
      "metadata": {
        "colab": {
          "base_uri": "https://localhost:8080/",
          "height": 177
        },
        "id": "Y9kb8aXws4XW",
        "outputId": "d2c81775-654e-4937-d4bf-f80d97b5392c"
      },
      "outputs": [],
      "source": [
        "#df2.to_csv('Amazon_Reviews.csv',index=False)"
      ]
    },
    {
      "cell_type": "code",
      "execution_count": 196,
      "metadata": {
        "colab": {
          "base_uri": "https://localhost:8080/",
          "height": 81
        },
        "id": "mECU6wCFtO4I",
        "outputId": "b2512754-6a04-4e58-869f-d630fe8a1226"
      },
      "outputs": [],
      "source": [
        "#df2.head(1)"
      ]
    },
    {
      "cell_type": "code",
      "execution_count": 197,
      "metadata": {
        "id": "aXvi6RZ60IKA"
      },
      "outputs": [],
      "source": [
        "df2"
      ]
    },
    {
      "cell_type": "code",
      "execution_count": 6,
      "metadata": {},
      "outputs": [],
      "source": [
        "import pandas as pd"
      ]
    },
    {
      "cell_type": "code",
      "execution_count": 7,
      "metadata": {
        "id": "0netjURR0IUH"
      },
      "outputs": [],
      "source": [
        "df=pd.read_csv('Amazon_Reviews.csv')"
      ]
    },
    {
      "cell_type": "code",
      "execution_count": 8,
      "metadata": {
        "id": "Wi-dbslO1OFz"
      },
      "outputs": [],
      "source": [
        "df['Sentiment'].replace({'positive':1,'negative':0},inplace=True)"
      ]
    },
    {
      "cell_type": "code",
      "execution_count": 9,
      "metadata": {
        "colab": {
          "base_uri": "https://localhost:8080/",
          "height": 424
        },
        "id": "x9DsMDQH1rho",
        "outputId": "e5c699e3-37ae-420e-f507-b6a7a1edb8e7"
      },
      "outputs": [
        {
          "data": {
            "text/html": [
              "<div>\n",
              "<style scoped>\n",
              "    .dataframe tbody tr th:only-of-type {\n",
              "        vertical-align: middle;\n",
              "    }\n",
              "\n",
              "    .dataframe tbody tr th {\n",
              "        vertical-align: top;\n",
              "    }\n",
              "\n",
              "    .dataframe thead th {\n",
              "        text-align: right;\n",
              "    }\n",
              "</style>\n",
              "<table border=\"1\" class=\"dataframe\">\n",
              "  <thead>\n",
              "    <tr style=\"text-align: right;\">\n",
              "      <th></th>\n",
              "      <th>Text</th>\n",
              "      <th>Sentiment</th>\n",
              "    </tr>\n",
              "  </thead>\n",
              "  <tbody>\n",
              "    <tr>\n",
              "      <th>0</th>\n",
              "      <td>Amazing!: This soundtrack is my favorite music...</td>\n",
              "      <td>1</td>\n",
              "    </tr>\n",
              "    <tr>\n",
              "      <th>1</th>\n",
              "      <td>Excellent Soundtrack: I truly like this soundt...</td>\n",
              "      <td>1</td>\n",
              "    </tr>\n",
              "    <tr>\n",
              "      <th>2</th>\n",
              "      <td>Remember, Pull Your Jaw Off The Floor After He...</td>\n",
              "      <td>1</td>\n",
              "    </tr>\n",
              "    <tr>\n",
              "      <th>3</th>\n",
              "      <td>an absolute masterpiece: I am quite sure any o...</td>\n",
              "      <td>1</td>\n",
              "    </tr>\n",
              "    <tr>\n",
              "      <th>4</th>\n",
              "      <td>Buyer beware: This is a self-published book, a...</td>\n",
              "      <td>0</td>\n",
              "    </tr>\n",
              "    <tr>\n",
              "      <th>...</th>\n",
              "      <td>...</td>\n",
              "      <td>...</td>\n",
              "    </tr>\n",
              "    <tr>\n",
              "      <th>59994</th>\n",
              "      <td>squirlll's review: i have not puchased the out...</td>\n",
              "      <td>0</td>\n",
              "    </tr>\n",
              "    <tr>\n",
              "      <th>59995</th>\n",
              "      <td>Awsome collection: This has it all that I saw ...</td>\n",
              "      <td>1</td>\n",
              "    </tr>\n",
              "    <tr>\n",
              "      <th>59996</th>\n",
              "      <td>I can't wait for it to come out!: I've watched...</td>\n",
              "      <td>1</td>\n",
              "    </tr>\n",
              "    <tr>\n",
              "      <th>59997</th>\n",
              "      <td>A Blast From My Past: This was one of my favor...</td>\n",
              "      <td>1</td>\n",
              "    </tr>\n",
              "    <tr>\n",
              "      <th>59998</th>\n",
              "      <td>Big Trouble in Little China in space: While Co...</td>\n",
              "      <td>0</td>\n",
              "    </tr>\n",
              "  </tbody>\n",
              "</table>\n",
              "<p>59999 rows × 2 columns</p>\n",
              "</div>"
            ],
            "text/plain": [
              "                                                    Text Sentiment\n",
              "0      Amazing!: This soundtrack is my favorite music...         1\n",
              "1      Excellent Soundtrack: I truly like this soundt...         1\n",
              "2      Remember, Pull Your Jaw Off The Floor After He...         1\n",
              "3      an absolute masterpiece: I am quite sure any o...         1\n",
              "4      Buyer beware: This is a self-published book, a...         0\n",
              "...                                                  ...       ...\n",
              "59994  squirlll's review: i have not puchased the out...         0\n",
              "59995  Awsome collection: This has it all that I saw ...         1\n",
              "59996  I can't wait for it to come out!: I've watched...         1\n",
              "59997  A Blast From My Past: This was one of my favor...         1\n",
              "59998  Big Trouble in Little China in space: While Co...         0\n",
              "\n",
              "[59999 rows x 2 columns]"
            ]
          },
          "execution_count": 9,
          "metadata": {},
          "output_type": "execute_result"
        }
      ],
      "source": [
        "df"
      ]
    },
    {
      "cell_type": "code",
      "execution_count": 10,
      "metadata": {
        "colab": {
          "base_uri": "https://localhost:8080/"
        },
        "id": "vedBFNdL0oG1",
        "outputId": "dfe9637f-1a64-4dc2-bef4-a73417035656"
      },
      "outputs": [
        {
          "name": "stderr",
          "output_type": "stream",
          "text": [
            "[nltk_data] Downloading package stopwords to\n",
            "[nltk_data]     C:\\Users\\irene\\AppData\\Roaming\\nltk_data...\n",
            "[nltk_data]   Package stopwords is already up-to-date!\n"
          ]
        }
      ],
      "source": [
        "import nltk\n",
        "import string\n",
        "import re\n",
        "from nltk.corpus import stopwords\n",
        "nltk.download('stopwords')\n",
        "stop_words_list = stopwords.words(\"english\")\n",
        "\n",
        "def preprocess_text(text):\n",
        "    text = text.lower()\n",
        "    text = re.sub(r\"\\n\", \" \", text)\n",
        "    text = re.sub(r\"\\d\", \" \", text)\n",
        "    text = re.sub(r\"<.*?>+\", \"\", text)\n",
        "    text = re.sub(r\"\\[.*?\\]\", \"\", text)\n",
        "    text = re.sub(r\"https?://S+|www.\\.\\S+\", \"\", text)\n",
        "    text = text.translate(str.maketrans(\"\", \"\", string.punctuation))\n",
        "    words = text.split()\n",
        "    words = [word for word in words if not word in stop_words_list]\n",
        "    words = [re.sub(r\"(.)\\1{1,}\", r\"\\1\\1\", word) for word in words]\n",
        "    words = [word.strip() for word in words if len(word.strip()) > 1]\n",
        "    text = \" \".join(words)\n",
        "    return text"
      ]
    },
    {
      "cell_type": "code",
      "execution_count": 11,
      "metadata": {
        "id": "gqG3rYiu1uk_"
      },
      "outputs": [],
      "source": [
        "df[\"Text\"] = df[\"Text\"].apply(preprocess_text)"
      ]
    },
    {
      "cell_type": "code",
      "execution_count": 12,
      "metadata": {
        "id": "iGuDIm_m1wPm"
      },
      "outputs": [],
      "source": [
        "from nltk import SnowballStemmer\n",
        "\n",
        "stemmer = SnowballStemmer(\"english\")\n",
        "\n",
        "def stemming(text):\n",
        "    stemmed_text = \"\"\n",
        "    for word in text.split():\n",
        "        stem = stemmer.stem(word)\n",
        "        stemmed_text += stem\n",
        "        stemmed_text += \" \"\n",
        "\n",
        "    stemmed_text = stemmed_text.strip()\n",
        "    return stemmed_text"
      ]
    },
    {
      "cell_type": "code",
      "execution_count": 13,
      "metadata": {
        "id": "VJp8McDR1zDm"
      },
      "outputs": [],
      "source": [
        "df[\"Text\"] = df[\"Text\"].apply(stemming)"
      ]
    },
    {
      "cell_type": "code",
      "execution_count": 14,
      "metadata": {
        "id": "TZsJFAuB15YW"
      },
      "outputs": [],
      "source": [
        "import nltk"
      ]
    },
    {
      "cell_type": "code",
      "execution_count": 15,
      "metadata": {
        "colab": {
          "base_uri": "https://localhost:8080/"
        },
        "id": "Jsc5x7nY17TX",
        "outputId": "f1c56b9f-e689-435c-e973-cd510833a71d"
      },
      "outputs": [
        {
          "name": "stderr",
          "output_type": "stream",
          "text": [
            "[nltk_data] Downloading package punkt to\n",
            "[nltk_data]     C:\\Users\\irene\\AppData\\Roaming\\nltk_data...\n",
            "[nltk_data]   Package punkt is already up-to-date!\n"
          ]
        },
        {
          "data": {
            "text/plain": [
              "True"
            ]
          },
          "execution_count": 15,
          "metadata": {},
          "output_type": "execute_result"
        }
      ],
      "source": [
        "nltk.download('punkt')"
      ]
    },
    {
      "cell_type": "code",
      "execution_count": 16,
      "metadata": {
        "colab": {
          "base_uri": "https://localhost:8080/"
        },
        "id": "WA8lNkxu18mn",
        "outputId": "33c39c4e-637d-40d4-b3b5-fac7a94f6dd2"
      },
      "outputs": [
        {
          "name": "stderr",
          "output_type": "stream",
          "text": [
            "[nltk_data] Downloading package wordnet to\n",
            "[nltk_data]     C:\\Users\\irene\\AppData\\Roaming\\nltk_data...\n",
            "[nltk_data]   Package wordnet is already up-to-date!\n"
          ]
        },
        {
          "data": {
            "text/plain": [
              "True"
            ]
          },
          "execution_count": 16,
          "metadata": {},
          "output_type": "execute_result"
        }
      ],
      "source": [
        "nltk.download('wordnet')"
      ]
    },
    {
      "cell_type": "code",
      "execution_count": 17,
      "metadata": {
        "id": "7yzCfVAY1-E1"
      },
      "outputs": [],
      "source": [
        "def lemmatization(text):\n",
        "    final_text = []\n",
        "    text = text.lower()\n",
        "    text = nltk.word_tokenize(text)\n",
        "\n",
        "    for word in text:\n",
        "\n",
        "         lemma = nltk.WordNetLemmatizer()\n",
        "         word = lemma.lemmatize(word)\n",
        "         final_text.append(word)\n",
        "    return \" \".join(final_text)"
      ]
    },
    {
      "cell_type": "code",
      "execution_count": 18,
      "metadata": {
        "id": "sqB3uNSf1_bQ"
      },
      "outputs": [],
      "source": [
        "df['Text']=df['Text'].apply(lemmatization)"
      ]
    },
    {
      "cell_type": "code",
      "execution_count": 19,
      "metadata": {
        "colab": {
          "base_uri": "https://localhost:8080/",
          "height": 424
        },
        "id": "XRHzew8H2bwt",
        "outputId": "1aa2d3d8-8350-4575-8cc4-5d387f229752"
      },
      "outputs": [
        {
          "data": {
            "text/html": [
              "<div>\n",
              "<style scoped>\n",
              "    .dataframe tbody tr th:only-of-type {\n",
              "        vertical-align: middle;\n",
              "    }\n",
              "\n",
              "    .dataframe tbody tr th {\n",
              "        vertical-align: top;\n",
              "    }\n",
              "\n",
              "    .dataframe thead th {\n",
              "        text-align: right;\n",
              "    }\n",
              "</style>\n",
              "<table border=\"1\" class=\"dataframe\">\n",
              "  <thead>\n",
              "    <tr style=\"text-align: right;\">\n",
              "      <th></th>\n",
              "      <th>Text</th>\n",
              "      <th>Sentiment</th>\n",
              "    </tr>\n",
              "  </thead>\n",
              "  <tbody>\n",
              "    <tr>\n",
              "      <th>0</th>\n",
              "      <td>amaz soundtrack favorit music time hand intens...</td>\n",
              "      <td>1</td>\n",
              "    </tr>\n",
              "    <tr>\n",
              "      <th>1</th>\n",
              "      <td>excel soundtrack truli like soundtrack enjoy v...</td>\n",
              "      <td>1</td>\n",
              "    </tr>\n",
              "    <tr>\n",
              "      <th>2</th>\n",
              "      <td>rememb pull jaw floor hear youv play game know...</td>\n",
              "      <td>1</td>\n",
              "    </tr>\n",
              "    <tr>\n",
              "      <th>3</th>\n",
              "      <td>absolut masterpiec quit sure actual take time ...</td>\n",
              "      <td>1</td>\n",
              "    </tr>\n",
              "    <tr>\n",
              "      <th>4</th>\n",
              "      <td>buyer bewar selfpublish book want know whyread...</td>\n",
              "      <td>0</td>\n",
              "    </tr>\n",
              "    <tr>\n",
              "      <th>...</th>\n",
              "      <td>...</td>\n",
              "      <td>...</td>\n",
              "    </tr>\n",
              "    <tr>\n",
              "      <th>59994</th>\n",
              "      <td>squirll review puchas outlaw star box set seen...</td>\n",
              "      <td>0</td>\n",
              "    </tr>\n",
              "    <tr>\n",
              "      <th>59995</th>\n",
              "      <td>awsom collect saw sever year ago tv well extra...</td>\n",
              "      <td>1</td>\n",
              "    </tr>\n",
              "    <tr>\n",
              "      <th>59996</th>\n",
              "      <td>cant wait come ive watch whole seri cartoon ne...</td>\n",
              "      <td>1</td>\n",
              "    </tr>\n",
              "    <tr>\n",
              "      <th>59997</th>\n",
              "      <td>blast past one favorit show year ago dont reme...</td>\n",
              "      <td>1</td>\n",
              "    </tr>\n",
              "    <tr>\n",
              "      <th>59998</th>\n",
              "      <td>big troubl littl china space cowboy bebop far ...</td>\n",
              "      <td>0</td>\n",
              "    </tr>\n",
              "  </tbody>\n",
              "</table>\n",
              "<p>59999 rows × 2 columns</p>\n",
              "</div>"
            ],
            "text/plain": [
              "                                                    Text Sentiment\n",
              "0      amaz soundtrack favorit music time hand intens...         1\n",
              "1      excel soundtrack truli like soundtrack enjoy v...         1\n",
              "2      rememb pull jaw floor hear youv play game know...         1\n",
              "3      absolut masterpiec quit sure actual take time ...         1\n",
              "4      buyer bewar selfpublish book want know whyread...         0\n",
              "...                                                  ...       ...\n",
              "59994  squirll review puchas outlaw star box set seen...         0\n",
              "59995  awsom collect saw sever year ago tv well extra...         1\n",
              "59996  cant wait come ive watch whole seri cartoon ne...         1\n",
              "59997  blast past one favorit show year ago dont reme...         1\n",
              "59998  big troubl littl china space cowboy bebop far ...         0\n",
              "\n",
              "[59999 rows x 2 columns]"
            ]
          },
          "execution_count": 19,
          "metadata": {},
          "output_type": "execute_result"
        }
      ],
      "source": [
        "df"
      ]
    },
    {
      "cell_type": "code",
      "execution_count": 20,
      "metadata": {},
      "outputs": [],
      "source": [
        "# new = df[21632:21633]\n",
        "# print(new)"
      ]
    },
    {
      "cell_type": "code",
      "execution_count": 21,
      "metadata": {
        "id": "Y0glvD4m3ybp"
      },
      "outputs": [],
      "source": [
        "X=df['Text']\n",
        "y=df['Sentiment']"
      ]
    },
    {
      "cell_type": "code",
      "execution_count": 22,
      "metadata": {
        "id": "5Gy40NZ73r28"
      },
      "outputs": [],
      "source": [
        "from sklearn.model_selection import train_test_split\n",
        "from sklearn.metrics import accuracy_score"
      ]
    },
    {
      "cell_type": "code",
      "execution_count": 23,
      "metadata": {
        "id": "Pd886ZmX3pZ4"
      },
      "outputs": [],
      "source": [
        "X_train, X_test, y_train, y_test = train_test_split(X, y, test_size=0.2, random_state=42)"
      ]
    },
    {
      "cell_type": "code",
      "execution_count": 24,
      "metadata": {
        "colab": {
          "base_uri": "https://localhost:8080/"
        },
        "id": "byijHz6-2CJv",
        "outputId": "f0abdf5a-58eb-4657-f254-b9eaeeb33034"
      },
      "outputs": [
        {
          "data": {
            "text/plain": [
              "81574"
            ]
          },
          "execution_count": 24,
          "metadata": {},
          "output_type": "execute_result"
        }
      ],
      "source": [
        "from nltk.tokenize import word_tokenize\n",
        "from nltk import FreqDist\n",
        "\n",
        "all_words=' '.join(X_train)\n",
        "all_words=word_tokenize(all_words)\n",
        "dist=FreqDist(all_words)\n",
        "num_unique_word=len(dist)\n",
        "num_unique_word # initial value to use for hyperparameterization"
      ]
    },
    {
      "cell_type": "code",
      "execution_count": 25,
      "metadata": {
        "colab": {
          "base_uri": "https://localhost:8080/"
        },
        "id": "lTKJejxY3KLL",
        "outputId": "b44b9a25-d085-415f-8a48-1a286c38a3d7"
      },
      "outputs": [
        {
          "data": {
            "text/plain": [
              "139"
            ]
          },
          "execution_count": 25,
          "metadata": {},
          "output_type": "execute_result"
        }
      ],
      "source": [
        "MAX_REVIEW_LEN=0\n",
        "for text in X_train:\n",
        "    word=word_tokenize(text)\n",
        "    l=len(word)\n",
        "    MAX_REVIEW_LEN = max(MAX_REVIEW_LEN, l)\n",
        "\n",
        "MAX_REVIEW_LEN"
      ]
    },
    {
      "cell_type": "code",
      "execution_count": 26,
      "metadata": {
        "id": "tEG5kLNV3OHi"
      },
      "outputs": [],
      "source": [
        "max_features = num_unique_word # find total number of unique words using word_tokenize\n",
        "max_words = MAX_REVIEW_LEN  # find maximum length of words using word_tokenize\n",
        "batch_size = 64\n",
        "epochs = 10\n",
        "num_classes=2"
      ]
    },
    {
      "cell_type": "code",
      "execution_count": 27,
      "metadata": {
        "id": "94FuglJM3QKM"
      },
      "outputs": [],
      "source": [
        "from keras.preprocessing.text import Tokenizer\n",
        "\n",
        "tokenizer = Tokenizer(num_words=max_features)\n",
        "tokenizer.fit_on_texts(list(X_train))\n",
        "X_train = tokenizer.texts_to_sequences(X_train)\n",
        "X_val = tokenizer.texts_to_sequences(X_test)\n",
        "#X_test = tokenizer.texts_to_sequences(test_text)"
      ]
    },
    {
      "cell_type": "code",
      "execution_count": 28,
      "metadata": {
        "colab": {
          "base_uri": "https://localhost:8080/"
        },
        "id": "ZEM4EKGH3Rwp",
        "outputId": "7df691ea-5e97-4790-df22-ba7fe66296bb"
      },
      "outputs": [
        {
          "name": "stdout",
          "output_type": "stream",
          "text": [
            "(47999, 139) (12000, 139)\n"
          ]
        }
      ],
      "source": [
        "import tensorflow as tf\n",
        "X_train =  tf.keras.utils.pad_sequences(X_train, maxlen=max_words)\n",
        "X_val =  tf.keras.utils.pad_sequences(X_val, maxlen=max_words)\n",
        "#X_test =  tf.keras.utils.pad_sequences(X_test, maxlen=max_words)\n",
        "print(X_train.shape,X_val.shape)"
      ]
    },
    {
      "cell_type": "code",
      "execution_count": 29,
      "metadata": {
        "id": "lGrJDStW3Ysa"
      },
      "outputs": [
        {
          "name": "stdout",
          "output_type": "stream",
          "text": [
            "^C\n",
            "Note: you may need to restart the kernel to use updated packages.\n"
          ]
        },
        {
          "name": "stderr",
          "output_type": "stream",
          "text": [
            "\n",
            "[notice] A new release of pip is available: 23.2.1 -> 23.3.1\n",
            "[notice] To update, run: python.exe -m pip install --upgrade pip\n"
          ]
        },
        {
          "name": "stdout",
          "output_type": "stream",
          "text": [
            "Requirement already satisfied: tensorflow in c:\\users\\irene\\appdata\\local\\programs\\python\\python311\\lib\\site-packages (2.14.0)\n",
            "Requirement already satisfied: tensorflow-intel==2.14.0 in c:\\users\\irene\\appdata\\local\\programs\\python\\python311\\lib\\site-packages (from tensorflow) (2.14.0)\n",
            "Requirement already satisfied: absl-py>=1.0.0 in c:\\users\\irene\\appdata\\local\\programs\\python\\python311\\lib\\site-packages (from tensorflow-intel==2.14.0->tensorflow) (2.0.0)\n",
            "Requirement already satisfied: astunparse>=1.6.0 in c:\\users\\irene\\appdata\\local\\programs\\python\\python311\\lib\\site-packages (from tensorflow-intel==2.14.0->tensorflow) (1.6.3)\n",
            "Requirement already satisfied: flatbuffers>=23.5.26 in c:\\users\\irene\\appdata\\local\\programs\\python\\python311\\lib\\site-packages (from tensorflow-intel==2.14.0->tensorflow) (23.5.26)\n",
            "Requirement already satisfied: gast!=0.5.0,!=0.5.1,!=0.5.2,>=0.2.1 in c:\\users\\irene\\appdata\\local\\programs\\python\\python311\\lib\\site-packages (from tensorflow-intel==2.14.0->tensorflow) (0.5.4)\n",
            "Requirement already satisfied: google-pasta>=0.1.1 in c:\\users\\irene\\appdata\\local\\programs\\python\\python311\\lib\\site-packages (from tensorflow-intel==2.14.0->tensorflow) (0.2.0)\n",
            "Requirement already satisfied: h5py>=2.9.0 in c:\\users\\irene\\appdata\\local\\programs\\python\\python311\\lib\\site-packages (from tensorflow-intel==2.14.0->tensorflow) (3.10.0)\n",
            "Requirement already satisfied: libclang>=13.0.0 in c:\\users\\irene\\appdata\\local\\programs\\python\\python311\\lib\\site-packages (from tensorflow-intel==2.14.0->tensorflow) (16.0.6)\n",
            "Requirement already satisfied: ml-dtypes==0.2.0 in c:\\users\\irene\\appdata\\local\\programs\\python\\python311\\lib\\site-packages (from tensorflow-intel==2.14.0->tensorflow) (0.2.0)\n",
            "Requirement already satisfied: numpy>=1.23.5 in c:\\users\\irene\\appdata\\local\\programs\\python\\python311\\lib\\site-packages (from tensorflow-intel==2.14.0->tensorflow) (1.26.0)\n",
            "Requirement already satisfied: opt-einsum>=2.3.2 in c:\\users\\irene\\appdata\\local\\programs\\python\\python311\\lib\\site-packages (from tensorflow-intel==2.14.0->tensorflow) (3.3.0)\n",
            "Requirement already satisfied: packaging in c:\\users\\irene\\appdata\\roaming\\python\\python311\\site-packages (from tensorflow-intel==2.14.0->tensorflow) (23.2)\n",
            "Requirement already satisfied: protobuf!=4.21.0,!=4.21.1,!=4.21.2,!=4.21.3,!=4.21.4,!=4.21.5,<5.0.0dev,>=3.20.3 in c:\\users\\irene\\appdata\\local\\programs\\python\\python311\\lib\\site-packages (from tensorflow-intel==2.14.0->tensorflow) (4.21.12)\n",
            "Requirement already satisfied: setuptools in c:\\users\\irene\\appdata\\local\\programs\\python\\python311\\lib\\site-packages (from tensorflow-intel==2.14.0->tensorflow) (65.5.0)\n",
            "Requirement already satisfied: six>=1.12.0 in c:\\users\\irene\\appdata\\roaming\\python\\python311\\site-packages (from tensorflow-intel==2.14.0->tensorflow) (1.16.0)\n",
            "Requirement already satisfied: termcolor>=1.1.0 in c:\\users\\irene\\appdata\\local\\programs\\python\\python311\\lib\\site-packages (from tensorflow-intel==2.14.0->tensorflow) (2.3.0)\n",
            "Requirement already satisfied: typing-extensions>=3.6.6 in c:\\users\\irene\\appdata\\local\\programs\\python\\python311\\lib\\site-packages (from tensorflow-intel==2.14.0->tensorflow) (4.8.0)\n",
            "Requirement already satisfied: wrapt<1.15,>=1.11.0 in c:\\users\\irene\\appdata\\local\\programs\\python\\python311\\lib\\site-packages (from tensorflow-intel==2.14.0->tensorflow) (1.14.1)\n",
            "Requirement already satisfied: tensorflow-io-gcs-filesystem>=0.23.1 in c:\\users\\irene\\appdata\\local\\programs\\python\\python311\\lib\\site-packages (from tensorflow-intel==2.14.0->tensorflow) (0.31.0)\n",
            "Requirement already satisfied: grpcio<2.0,>=1.24.3 in c:\\users\\irene\\appdata\\local\\programs\\python\\python311\\lib\\site-packages (from tensorflow-intel==2.14.0->tensorflow) (1.59.0)\n",
            "Requirement already satisfied: tensorboard<2.15,>=2.14 in c:\\users\\irene\\appdata\\local\\programs\\python\\python311\\lib\\site-packages (from tensorflow-intel==2.14.0->tensorflow) (2.14.1)\n",
            "Requirement already satisfied: tensorflow-estimator<2.15,>=2.14.0 in c:\\users\\irene\\appdata\\local\\programs\\python\\python311\\lib\\site-packages (from tensorflow-intel==2.14.0->tensorflow) (2.14.0)\n",
            "Requirement already satisfied: keras<2.15,>=2.14.0 in c:\\users\\irene\\appdata\\local\\programs\\python\\python311\\lib\\site-packages (from tensorflow-intel==2.14.0->tensorflow) (2.14.0)\n",
            "Requirement already satisfied: wheel<1.0,>=0.23.0 in c:\\users\\irene\\appdata\\local\\programs\\python\\python311\\lib\\site-packages (from astunparse>=1.6.0->tensorflow-intel==2.14.0->tensorflow) (0.41.2)\n",
            "Requirement already satisfied: google-auth<3,>=1.6.3 in c:\\users\\irene\\appdata\\local\\programs\\python\\python311\\lib\\site-packages (from tensorboard<2.15,>=2.14->tensorflow-intel==2.14.0->tensorflow) (2.23.3)\n",
            "Requirement already satisfied: google-auth-oauthlib<1.1,>=0.5 in c:\\users\\irene\\appdata\\local\\programs\\python\\python311\\lib\\site-packages (from tensorboard<2.15,>=2.14->tensorflow-intel==2.14.0->tensorflow) (1.0.0)\n",
            "Requirement already satisfied: markdown>=2.6.8 in c:\\users\\irene\\appdata\\local\\programs\\python\\python311\\lib\\site-packages (from tensorboard<2.15,>=2.14->tensorflow-intel==2.14.0->tensorflow) (3.5)\n",
            "Requirement already satisfied: requests<3,>=2.21.0 in c:\\users\\irene\\appdata\\local\\programs\\python\\python311\\lib\\site-packages (from tensorboard<2.15,>=2.14->tensorflow-intel==2.14.0->tensorflow) (2.31.0)\n",
            "Requirement already satisfied: tensorboard-data-server<0.8.0,>=0.7.0 in c:\\users\\irene\\appdata\\local\\programs\\python\\python311\\lib\\site-packages (from tensorboard<2.15,>=2.14->tensorflow-intel==2.14.0->tensorflow) (0.7.1)\n",
            "Requirement already satisfied: werkzeug>=1.0.1 in c:\\users\\irene\\appdata\\local\\programs\\python\\python311\\lib\\site-packages (from tensorboard<2.15,>=2.14->tensorflow-intel==2.14.0->tensorflow) (3.0.0)\n",
            "Requirement already satisfied: cachetools<6.0,>=2.0.0 in c:\\users\\irene\\appdata\\local\\programs\\python\\python311\\lib\\site-packages (from google-auth<3,>=1.6.3->tensorboard<2.15,>=2.14->tensorflow-intel==2.14.0->tensorflow) (5.3.1)\n",
            "Requirement already satisfied: pyasn1-modules>=0.2.1 in c:\\users\\irene\\appdata\\local\\programs\\python\\python311\\lib\\site-packages (from google-auth<3,>=1.6.3->tensorboard<2.15,>=2.14->tensorflow-intel==2.14.0->tensorflow) (0.3.0)\n",
            "Requirement already satisfied: rsa<5,>=3.1.4 in c:\\users\\irene\\appdata\\local\\programs\\python\\python311\\lib\\site-packages (from google-auth<3,>=1.6.3->tensorboard<2.15,>=2.14->tensorflow-intel==2.14.0->tensorflow) (4.9)\n",
            "Requirement already satisfied: requests-oauthlib>=0.7.0 in c:\\users\\irene\\appdata\\local\\programs\\python\\python311\\lib\\site-packages (from google-auth-oauthlib<1.1,>=0.5->tensorboard<2.15,>=2.14->tensorflow-intel==2.14.0->tensorflow) (1.3.1)\n",
            "Requirement already satisfied: charset-normalizer<4,>=2 in c:\\users\\irene\\appdata\\local\\programs\\python\\python311\\lib\\site-packages (from requests<3,>=2.21.0->tensorboard<2.15,>=2.14->tensorflow-intel==2.14.0->tensorflow) (3.3.0)\n",
            "Requirement already satisfied: idna<4,>=2.5 in c:\\users\\irene\\appdata\\local\\programs\\python\\python311\\lib\\site-packages (from requests<3,>=2.21.0->tensorboard<2.15,>=2.14->tensorflow-intel==2.14.0->tensorflow) (3.4)\n",
            "Requirement already satisfied: urllib3<3,>=1.21.1 in c:\\users\\irene\\appdata\\local\\programs\\python\\python311\\lib\\site-packages (from requests<3,>=2.21.0->tensorboard<2.15,>=2.14->tensorflow-intel==2.14.0->tensorflow) (2.0.6)\n",
            "Requirement already satisfied: certifi>=2017.4.17 in c:\\users\\irene\\appdata\\local\\programs\\python\\python311\\lib\\site-packages (from requests<3,>=2.21.0->tensorboard<2.15,>=2.14->tensorflow-intel==2.14.0->tensorflow) (2023.7.22)\n",
            "Requirement already satisfied: MarkupSafe>=2.1.1 in c:\\users\\irene\\appdata\\local\\programs\\python\\python311\\lib\\site-packages (from werkzeug>=1.0.1->tensorboard<2.15,>=2.14->tensorflow-intel==2.14.0->tensorflow) (2.1.3)\n",
            "Requirement already satisfied: pyasn1<0.6.0,>=0.4.6 in c:\\users\\irene\\appdata\\local\\programs\\python\\python311\\lib\\site-packages (from pyasn1-modules>=0.2.1->google-auth<3,>=1.6.3->tensorboard<2.15,>=2.14->tensorflow-intel==2.14.0->tensorflow) (0.5.0)\n",
            "Requirement already satisfied: oauthlib>=3.0.0 in c:\\users\\irene\\appdata\\local\\programs\\python\\python311\\lib\\site-packages (from requests-oauthlib>=0.7.0->google-auth-oauthlib<1.1,>=0.5->tensorboard<2.15,>=2.14->tensorflow-intel==2.14.0->tensorflow) (3.2.2)\n"
          ]
        }
      ],
      "source": [
        "%pip install tensorflow"
      ]
    },
    {
      "cell_type": "code",
      "execution_count": 30,
      "metadata": {
        "colab": {
          "base_uri": "https://localhost:8080/"
        },
        "id": "fnlV35p93V2h",
        "outputId": "bdb2c951-4d44-4b65-902d-179cc1d76d0a"
      },
      "outputs": [],
      "source": [
        "from tensorflow import keras\n",
        "from tensorflow.keras import layers\n",
        "from tensorflow.python import keras\n",
        "from keras.preprocessing import sequence,text\n",
        "from keras.preprocessing.text import Tokenizer\n",
        "from keras.models import Sequential\n",
        "from keras.layers import Dense,Dropout,Embedding,LSTM,Conv1D,GlobalMaxPooling1D,Flatten,MaxPooling1D,GRU,SpatialDropout1D,Bidirectional\n",
        "from keras.callbacks import EarlyStopping\n",
        "from keras.utils import to_categorical\n",
        "from keras.losses import categorical_crossentropy\n",
        "from keras.optimizers import Adam\n",
        "\n",
        "model= Sequential()\n",
        "model.add(Embedding(max_features,100,input_length= max_words))\n",
        "model.add(Dropout(0.2))\n",
        "\n",
        "model.add(Conv1D(64,kernel_size=3,padding='same',activation='relu',strides=1))\n",
        "model.add(GlobalMaxPooling1D())\n",
        "\n",
        "model.add(Dense(128,activation='relu'))\n",
        "model.add(Dropout(0.2))\n",
        "\n",
        "model.add(Dense(1,activation='sigmoid'))\n",
        "\n",
        "\n",
        "model.compile(loss='binary_crossentropy',optimizer='adam',metrics=['accuracy'])\n",
        "\n",
        "model.summary()"
      ]
    },
    {
      "cell_type": "code",
      "execution_count": 222,
      "metadata": {},
      "outputs": [],
      "source": [
        "#new  = model.get_input_shape_at()\n",
        "#print(new)"
      ]
    },
    {
      "cell_type": "code",
      "execution_count": 223,
      "metadata": {
        "colab": {
          "base_uri": "https://localhost:8080/"
        },
        "id": "EvD7113x3ZfZ",
        "outputId": "64ea73e8-608d-467a-dba5-22e671c470d3"
      },
      "outputs": [
        {
          "ename": "ValueError",
          "evalue": "Failed to convert a NumPy array to a Tensor (Unsupported object type int).",
          "output_type": "error",
          "traceback": [
            "\u001b[1;31m---------------------------------------------------------------------------\u001b[0m",
            "\u001b[1;31mValueError\u001b[0m                                Traceback (most recent call last)",
            "\u001b[1;32md:\\Project\\sentiment_project\\Amazon_Data_NLP_CNN_GRU_Model.ipynb Cell 58\u001b[0m line \u001b[0;36m1\n\u001b[1;32m----> <a href='vscode-notebook-cell:/d%3A/Project/sentiment_project/Amazon_Data_NLP_CNN_GRU_Model.ipynb#Y106sZmlsZQ%3D%3D?line=0'>1</a>\u001b[0m history\u001b[39m=\u001b[39mmodel\u001b[39m.\u001b[39;49mfit(X_train, y_train, validation_data\u001b[39m=\u001b[39;49m(X_val, y_test),epochs\u001b[39m=\u001b[39;49mepochs, batch_size\u001b[39m=\u001b[39;49mbatch_size, verbose\u001b[39m=\u001b[39;49m\u001b[39m1\u001b[39;49m)\n\u001b[0;32m      <a href='vscode-notebook-cell:/d%3A/Project/sentiment_project/Amazon_Data_NLP_CNN_GRU_Model.ipynb#Y106sZmlsZQ%3D%3D?line=1'>2</a>\u001b[0m loss, accuracy \u001b[39m=\u001b[39m model\u001b[39m.\u001b[39mevaluate(X_train, y_train, verbose\u001b[39m=\u001b[39m\u001b[39mFalse\u001b[39;00m)\n\u001b[0;32m      <a href='vscode-notebook-cell:/d%3A/Project/sentiment_project/Amazon_Data_NLP_CNN_GRU_Model.ipynb#Y106sZmlsZQ%3D%3D?line=2'>3</a>\u001b[0m \u001b[39mprint\u001b[39m(\u001b[39m\"\u001b[39m\u001b[39mTraining Accuracy: \u001b[39m\u001b[39m{:.4f}\u001b[39;00m\u001b[39m\"\u001b[39m\u001b[39m.\u001b[39mformat(accuracy))\n",
            "File \u001b[1;32mc:\\Users\\irene\\AppData\\Local\\Programs\\Python\\Python311\\Lib\\site-packages\\keras\\src\\utils\\traceback_utils.py:70\u001b[0m, in \u001b[0;36mfilter_traceback.<locals>.error_handler\u001b[1;34m(*args, **kwargs)\u001b[0m\n\u001b[0;32m     67\u001b[0m     filtered_tb \u001b[39m=\u001b[39m _process_traceback_frames(e\u001b[39m.\u001b[39m__traceback__)\n\u001b[0;32m     68\u001b[0m     \u001b[39m# To get the full stack trace, call:\u001b[39;00m\n\u001b[0;32m     69\u001b[0m     \u001b[39m# `tf.debugging.disable_traceback_filtering()`\u001b[39;00m\n\u001b[1;32m---> 70\u001b[0m     \u001b[39mraise\u001b[39;00m e\u001b[39m.\u001b[39mwith_traceback(filtered_tb) \u001b[39mfrom\u001b[39;00m \u001b[39mNone\u001b[39;00m\n\u001b[0;32m     71\u001b[0m \u001b[39mfinally\u001b[39;00m:\n\u001b[0;32m     72\u001b[0m     \u001b[39mdel\u001b[39;00m filtered_tb\n",
            "File \u001b[1;32mc:\\Users\\irene\\AppData\\Local\\Programs\\Python\\Python311\\Lib\\site-packages\\tensorflow\\python\\framework\\constant_op.py:102\u001b[0m, in \u001b[0;36mconvert_to_eager_tensor\u001b[1;34m(value, ctx, dtype)\u001b[0m\n\u001b[0;32m    100\u001b[0m     dtype \u001b[39m=\u001b[39m dtypes\u001b[39m.\u001b[39mas_dtype(dtype)\u001b[39m.\u001b[39mas_datatype_enum\n\u001b[0;32m    101\u001b[0m ctx\u001b[39m.\u001b[39mensure_initialized()\n\u001b[1;32m--> 102\u001b[0m \u001b[39mreturn\u001b[39;00m ops\u001b[39m.\u001b[39;49mEagerTensor(value, ctx\u001b[39m.\u001b[39;49mdevice_name, dtype)\n",
            "\u001b[1;31mValueError\u001b[0m: Failed to convert a NumPy array to a Tensor (Unsupported object type int)."
          ]
        }
      ],
      "source": [
        "history=model.fit(X_train, y_train, validation_data=(X_val, y_test),epochs=epochs, batch_size=batch_size, verbose=1)\n",
        "loss, accuracy = model.evaluate(X_train, y_train, verbose=False)\n",
        "print(\"Training Accuracy: {:.4f}\".format(accuracy))\n",
        "loss, accuracy = model.evaluate(X_val, y_test, verbose=False)\n",
        "print(\"Testing Accuracy:  {:.4f}\".format(accuracy))"
      ]
    },
    {
      "cell_type": "code",
      "execution_count": null,
      "metadata": {
        "colab": {
          "base_uri": "https://localhost:8080/"
        },
        "id": "IBs_W1GR3bd5",
        "outputId": "29780780-664f-4e4a-ea86-46624c095f9b"
      },
      "outputs": [
        {
          "name": "stdout",
          "output_type": "stream",
          "text": [
            "Saved model to disk\n"
          ]
        }
      ],
      "source": [
        "model_json=model.to_json()\n",
        "with open(\"model_CNN.json\",\"w\") as json_file:\n",
        "     json_file.write(model_json)\n",
        "\n",
        "model.save_weights(\"model_CNN.h5\")\n",
        "print(\"Saved model to disk\")"
      ]
    },
    {
      "cell_type": "code",
      "execution_count": null,
      "metadata": {},
      "outputs": [
        {
          "data": {
            "image/png": "[encoded data removed]",
            "text/plain": [
              "<Figure size 640x480 with 1 Axes>"
            ]
          },
          "metadata": {},
          "output_type": "display_data"
        }
      ],
      "source": [
        "import keras\n",
        "from matplotlib import pyplot as plt\n",
        "#history = model.fit(X_train, y_train,validation_split = 0.1, epochs=50, batch_size=4)\n",
        "plt.plot(history.history['accuracy'])\n",
        "plt.plot(history.history['val_accuracy'])\n",
        "plt.title('model accuracy')\n",
        "plt.ylabel('accuracy')\n",
        "plt.xlabel('epoch')\n",
        "plt.legend(['train', 'val'], loc='upper left')\n",
        "plt.show()"
      ]
    },
    {
      "cell_type": "code",
      "execution_count": null,
      "metadata": {
        "colab": {
          "base_uri": "https://localhost:8080/"
        },
        "id": "Fqy2r6ba3dNl",
        "outputId": "61042010-362a-4990-bd49-8ee15c6523f7"
      },
      "outputs": [
        {
          "name": "stdout",
          "output_type": "stream",
          "text": [
            "Loaded model from disk\n",
            "accuracy: 83.62%\n"
          ]
        }
      ],
      "source": [
        "import tensorflow\n",
        "from tensorflow.keras.models import model_from_json\n",
        "json_file1=open('model_CNN.json','r')\n",
        "loaded_model_json=json_file1.read()\n",
        "json_file1.close()\n",
        "loaded_model=model_from_json(loaded_model_json)\n",
        "\n",
        "loaded_model.load_weights(\"model_CNN.h5\")\n",
        "\n",
        "print(\"Loaded model from disk\")\n",
        "loaded_model.compile(loss='binary_crossentropy',optimizer='adam',metrics=['accuracy'])\n",
        "score=loaded_model.evaluate(X_val,y_test,verbose=0)\n",
        "print(\"%s: %.2f%%\" % (loaded_model.metrics_names[1],score[1]*100))"
      ]
    },
    {
      "cell_type": "code",
      "execution_count": null,
      "metadata": {
        "colab": {
          "base_uri": "https://localhost:8080/"
        },
        "id": "Itn7onoQ3ff5",
        "outputId": "38590ef5-704b-46c8-b3ec-2ca360762324"
      },
      "outputs": [
        {
          "name": "stdout",
          "output_type": "stream",
          "text": [
            "1/1 [==============================] - 0s 84ms/step\n",
            "prediction shape: [0 0 0 0 0 0 0 0 0 0]\n"
          ]
        }
      ],
      "source": [
        "import numpy as np\n",
        "prediction = model.predict(X_val[10:20])\n",
        "print(\"prediction shape:\", np.argmax(prediction, axis=-1))"
      ]
    },
    {
      "cell_type": "code",
      "execution_count": null,
      "metadata": {
        "colab": {
          "base_uri": "https://localhost:8080/"
        },
        "id": "h8fgCofR3gx1",
        "outputId": "5c2059e1-67a3-4882-a911-958615ccfe7a"
      },
      "outputs": [
        {
          "data": {
            "text/plain": [
              "21632    0\n",
              "48958    0\n",
              "40950    0\n",
              "40627    1\n",
              "28147    1\n",
              "35703    0\n",
              "27642    0\n",
              "39588    0\n",
              "16933    1\n",
              "28912    1\n",
              "Name: Sentiment, dtype: int64"
            ]
          },
          "execution_count": 109,
          "metadata": {},
          "output_type": "execute_result"
        }
      ],
      "source": [
        "y_test[10:20]"
      ]
    },
    {
      "cell_type": "code",
      "execution_count": 31,
      "metadata": {
        "id": "jjPbFLc2LOeY"
      },
      "outputs": [],
      "source": [
        "from keras.layers import GRU\n",
        "\n",
        "model = Sequential()\n",
        "model.add(Embedding(input_dim=max_features,output_dim=32,input_length=max_words))\n",
        "\n",
        "model.add(GRU(32))\n",
        "model.add(Dense(1, activation='sigmoid'))"
      ]
    },
    {
      "cell_type": "code",
      "execution_count": 32,
      "metadata": {
        "colab": {
          "base_uri": "https://localhost:8080/"
        },
        "id": "sIXf3pnuLbfh",
        "outputId": "226de58d-b2eb-4c89-c482-45f6e2ff076e"
      },
      "outputs": [
        {
          "name": "stdout",
          "output_type": "stream",
          "text": [
            "Model: \"sequential_2\"\n",
            "_________________________________________________________________\n",
            " Layer (type)                Output Shape              Param #   \n",
            "=================================================================\n",
            " embedding (Embedding)       (None, 139, 32)           2610368   \n",
            "                                                                 \n",
            " gru (GRU)                   (None, 32)                6336      \n",
            "                                                                 \n",
            " dense (Dense)               (None, 1)                 33        \n",
            "                                                                 \n",
            "=================================================================\n",
            "Total params: 2616737 (9.98 MB)\n",
            "Trainable params: 2616737 (9.98 MB)\n",
            "Non-trainable params: 0 (0.00 Byte)\n",
            "_________________________________________________________________\n"
          ]
        }
      ],
      "source": [
        "model.compile(optimizer='rmsprop', loss='binary_crossentropy', metrics=['acc'])\n",
        "model.summary()"
      ]
    },
    {
      "cell_type": "code",
      "execution_count": 33,
      "metadata": {
        "colab": {
          "base_uri": "https://localhost:8080/"
        },
        "id": "tiKAsWU-LdXx",
        "outputId": "ff3d6161-aea8-48ae-cd22-2b67f462b3ac"
      },
      "outputs": [
        {
          "ename": "ValueError",
          "evalue": "Failed to convert a NumPy array to a Tensor (Unsupported object type int).",
          "output_type": "error",
          "traceback": [
            "\u001b[1;31m---------------------------------------------------------------------------\u001b[0m",
            "\u001b[1;31mValueError\u001b[0m                                Traceback (most recent call last)",
            "\u001b[1;32md:\\Project\\sentiment_project\\Amazon_Data_NLP_CNN_GRU_Model.ipynb Cell 67\u001b[0m line \u001b[0;36m1\n\u001b[1;32m----> <a href='vscode-notebook-cell:/d%3A/Project/sentiment_project/Amazon_Data_NLP_CNN_GRU_Model.ipynb#Y122sZmlsZQ%3D%3D?line=0'>1</a>\u001b[0m model\u001b[39m.\u001b[39;49mfit(X_train, y_train, epochs \u001b[39m=\u001b[39;49m \u001b[39m10\u001b[39;49m, batch_size\u001b[39m=\u001b[39;49mbatch_size, validation_split\u001b[39m=\u001b[39;49m\u001b[39m0.2\u001b[39;49m)\n\u001b[0;32m      <a href='vscode-notebook-cell:/d%3A/Project/sentiment_project/Amazon_Data_NLP_CNN_GRU_Model.ipynb#Y122sZmlsZQ%3D%3D?line=2'>3</a>\u001b[0m loss, accuracy \u001b[39m=\u001b[39m model\u001b[39m.\u001b[39mevaluate(X_train, y_train, verbose\u001b[39m=\u001b[39m\u001b[39mFalse\u001b[39;00m)\n\u001b[0;32m      <a href='vscode-notebook-cell:/d%3A/Project/sentiment_project/Amazon_Data_NLP_CNN_GRU_Model.ipynb#Y122sZmlsZQ%3D%3D?line=3'>4</a>\u001b[0m \u001b[39mprint\u001b[39m(\u001b[39m\"\u001b[39m\u001b[39mTraining Accuracy: \u001b[39m\u001b[39m{:.4f}\u001b[39;00m\u001b[39m\"\u001b[39m\u001b[39m.\u001b[39mformat(accuracy))\n",
            "File \u001b[1;32mc:\\Users\\irene\\AppData\\Local\\Programs\\Python\\Python311\\Lib\\site-packages\\keras\\src\\utils\\traceback_utils.py:70\u001b[0m, in \u001b[0;36mfilter_traceback.<locals>.error_handler\u001b[1;34m(*args, **kwargs)\u001b[0m\n\u001b[0;32m     67\u001b[0m     filtered_tb \u001b[39m=\u001b[39m _process_traceback_frames(e\u001b[39m.\u001b[39m__traceback__)\n\u001b[0;32m     68\u001b[0m     \u001b[39m# To get the full stack trace, call:\u001b[39;00m\n\u001b[0;32m     69\u001b[0m     \u001b[39m# `tf.debugging.disable_traceback_filtering()`\u001b[39;00m\n\u001b[1;32m---> 70\u001b[0m     \u001b[39mraise\u001b[39;00m e\u001b[39m.\u001b[39mwith_traceback(filtered_tb) \u001b[39mfrom\u001b[39;00m \u001b[39mNone\u001b[39;00m\n\u001b[0;32m     71\u001b[0m \u001b[39mfinally\u001b[39;00m:\n\u001b[0;32m     72\u001b[0m     \u001b[39mdel\u001b[39;00m filtered_tb\n",
            "File \u001b[1;32mc:\\Users\\irene\\AppData\\Local\\Programs\\Python\\Python311\\Lib\\site-packages\\tensorflow\\python\\framework\\constant_op.py:102\u001b[0m, in \u001b[0;36mconvert_to_eager_tensor\u001b[1;34m(value, ctx, dtype)\u001b[0m\n\u001b[0;32m    100\u001b[0m     dtype \u001b[39m=\u001b[39m dtypes\u001b[39m.\u001b[39mas_dtype(dtype)\u001b[39m.\u001b[39mas_datatype_enum\n\u001b[0;32m    101\u001b[0m ctx\u001b[39m.\u001b[39mensure_initialized()\n\u001b[1;32m--> 102\u001b[0m \u001b[39mreturn\u001b[39;00m ops\u001b[39m.\u001b[39;49mEagerTensor(value, ctx\u001b[39m.\u001b[39;49mdevice_name, dtype)\n",
            "\u001b[1;31mValueError\u001b[0m: Failed to convert a NumPy array to a Tensor (Unsupported object type int)."
          ]
        }
      ],
      "source": [
        "model.fit(X_train, y_train, epochs = 10, batch_size=batch_size, validation_split=0.2)\n",
        "\n",
        "loss, accuracy = model.evaluate(X_train, y_train, verbose=False)\n",
        "print(\"Training Accuracy: {:.4f}\".format(accuracy))\n",
        "loss, accuracy = model.evaluate(X_val, y_test, verbose=False)\n",
        "print(\"Testing Accuracy:  {:.4f}\".format(accuracy))"
      ]
    },
    {
      "cell_type": "code",
      "execution_count": null,
      "metadata": {
        "id": "DXHMoW_2SR2h"
      },
      "outputs": [
        {
          "name": "stdout",
          "output_type": "stream",
          "text": [
            "Saved model to disk\n"
          ]
        }
      ],
      "source": [
        "model_json=model.to_json()\n",
        "with open(\"model_GRU.json\",\"w\") as json_file:\n",
        "     json_file.write(model_json)\n",
        "\n",
        "model.save_weights(\"model_GRU.h5\")\n",
        "print(\"Saved model to disk\")"
      ]
    },
    {
      "cell_type": "code",
      "execution_count": null,
      "metadata": {},
      "outputs": [
        {
          "data": {
            "image/png": "[encoded data removed]",
            "text/plain": [
              "<Figure size 640x480 with 1 Axes>"
            ]
          },
          "metadata": {},
          "output_type": "display_data"
        }
      ],
      "source": [
        "import keras\n",
        "from matplotlib import pyplot as plt\n",
        "#history = model.fit(X_train, y_train,validation_split = 0.1, epochs=50, batch_size=4)\n",
        "plt.plot(history.history['accuracy'])\n",
        "plt.plot(history.history['val_accuracy'])\n",
        "plt.title('model accuracy')\n",
        "plt.ylabel('accuracy')\n",
        "plt.xlabel('epoch')\n",
        "plt.legend(['train', 'val'], loc='upper left')\n",
        "plt.show()"
      ]
    },
    {
      "cell_type": "code",
      "execution_count": null,
      "metadata": {},
      "outputs": [
        {
          "name": "stdout",
          "output_type": "stream",
          "text": [
            "Collecting scikit-plot\n",
            "  Downloading scikit_plot-0.3.7-py3-none-any.whl (33 kB)\n",
            "Requirement already satisfied: matplotlib>=1.4.0 in c:\\users\\irene\\appdata\\local\\programs\\python\\python311\\lib\\site-packages (from scikit-plot) (3.8.1)\n",
            "Requirement already satisfied: scikit-learn>=0.18 in c:\\users\\irene\\appdata\\local\\programs\\python\\python311\\lib\\site-packages (from scikit-plot) (1.3.1)\n",
            "Requirement already satisfied: scipy>=0.9 in c:\\users\\irene\\appdata\\local\\programs\\python\\python311\\lib\\site-packages (from scikit-plot) (1.11.3)\n",
            "Requirement already satisfied: joblib>=0.10 in c:\\users\\irene\\appdata\\local\\programs\\python\\python311\\lib\\site-packages (from scikit-plot) (1.3.2)\n",
            "Requirement already satisfied: contourpy>=1.0.1 in c:\\users\\irene\\appdata\\local\\programs\\python\\python311\\lib\\site-packages (from matplotlib>=1.4.0->scikit-plot) (1.2.0)\n",
            "Requirement already satisfied: cycler>=0.10 in c:\\users\\irene\\appdata\\local\\programs\\python\\python311\\lib\\site-packages (from matplotlib>=1.4.0->scikit-plot) (0.12.1)\n",
            "Requirement already satisfied: fonttools>=4.22.0 in c:\\users\\irene\\appdata\\local\\programs\\python\\python311\\lib\\site-packages (from matplotlib>=1.4.0->scikit-plot) (4.44.0)\n",
            "Requirement already satisfied: kiwisolver>=1.3.1 in c:\\users\\irene\\appdata\\local\\programs\\python\\python311\\lib\\site-packages (from matplotlib>=1.4.0->scikit-plot) (1.4.5)\n",
            "Requirement already satisfied: numpy<2,>=1.21 in c:\\users\\irene\\appdata\\local\\programs\\python\\python311\\lib\\site-packages (from matplotlib>=1.4.0->scikit-plot) (1.26.0)\n",
            "Requirement already satisfied: packaging>=20.0 in c:\\users\\irene\\appdata\\roaming\\python\\python311\\site-packages (from matplotlib>=1.4.0->scikit-plot) (23.2)\n",
            "Requirement already satisfied: pillow>=8 in c:\\users\\irene\\appdata\\local\\programs\\python\\python311\\lib\\site-packages (from matplotlib>=1.4.0->scikit-plot) (10.1.0)\n",
            "Requirement already satisfied: pyparsing>=2.3.1 in c:\\users\\irene\\appdata\\local\\programs\\python\\python311\\lib\\site-packages (from matplotlib>=1.4.0->scikit-plot) (3.1.1)\n",
            "Requirement already satisfied: python-dateutil>=2.7 in c:\\users\\irene\\appdata\\roaming\\python\\python311\\site-packages (from matplotlib>=1.4.0->scikit-plot) (2.8.2)\n",
            "Requirement already satisfied: threadpoolctl>=2.0.0 in c:\\users\\irene\\appdata\\local\\programs\\python\\python311\\lib\\site-packages (from scikit-learn>=0.18->scikit-plot) (3.2.0)\n",
            "Requirement already satisfied: six>=1.5 in c:\\users\\irene\\appdata\\roaming\\python\\python311\\site-packages (from python-dateutil>=2.7->matplotlib>=1.4.0->scikit-plot) (1.16.0)\n",
            "Installing collected packages: scikit-plot\n",
            "Successfully installed scikit-plot-0.3.7\n",
            "Note: you may need to restart the kernel to use updated packages.\n"
          ]
        },
        {
          "name": "stderr",
          "output_type": "stream",
          "text": [
            "\n",
            "[notice] A new release of pip is available: 23.2.1 -> 23.3.1\n",
            "[notice] To update, run: python.exe -m pip install --upgrade pip\n"
          ]
        }
      ],
      "source": [
        "%pip install scikit-plot"
      ]
    },
    {
      "cell_type": "code",
      "execution_count": null,
      "metadata": {},
      "outputs": [],
      "source": [
        "#import scikitplot as skplt\n",
        "#skplt.metrics.plot_precision_recall_curve(X_train, y_train,\n",
        "                     #  title=\"Digits Precision-Recall Curve\", figsize=(12,6));"
      ]
    },
    {
      "cell_type": "code",
      "execution_count": null,
      "metadata": {
        "id": "vO2nJzvuST8X"
      },
      "outputs": [
        {
          "name": "stdout",
          "output_type": "stream",
          "text": [
            "Loaded model from disk\n",
            "accuracy: 84.59%\n"
          ]
        }
      ],
      "source": [
        "import tensorflow\n",
        "from tensorflow.keras.models import model_from_json\n",
        "json_file1=open('model_GRU.json','r')\n",
        "loaded_model_json=json_file1.read()\n",
        "json_file1.close()\n",
        "loaded_model=model_from_json(loaded_model_json)\n",
        "\n",
        "loaded_model.load_weights(\"model_GRU.h5\")\n",
        "\n",
        "print(\"Loaded model from disk\")\n",
        "loaded_model.compile(loss='binary_crossentropy',optimizer='adam',metrics=['accuracy'])\n",
        "score=loaded_model.evaluate(X_val,y_test,verbose=0)\n",
        "print(\"%s: %.2f%%\" % (loaded_model.metrics_names[1],score[1]*100))"
      ]
    },
    {
      "cell_type": "code",
      "execution_count": null,
      "metadata": {
        "id": "NQQI1FZaSWK_"
      },
      "outputs": [
        {
          "name": "stdout",
          "output_type": "stream",
          "text": [
            "1/1 [==============================] - 0s 21ms/step\n",
            "prediction shape: [0 0 0 0 0 0 0 0 0 0]\n"
          ]
        }
      ],
      "source": [
        "import numpy as np\n",
        "prediction = model.predict(X_val[10:20])\n",
        "print(\"prediction shape:\", np.argmax(prediction, axis=-1))"
      ]
    },
    {
      "cell_type": "code",
      "execution_count": null,
      "metadata": {},
      "outputs": [
        {
          "data": {
            "text/plain": [
              "21632    0\n",
              "48958    0\n",
              "40950    0\n",
              "40627    1\n",
              "28147    1\n",
              "35703    0\n",
              "27642    0\n",
              "39588    0\n",
              "16933    1\n",
              "28912    1\n",
              "Name: Sentiment, dtype: int64"
            ]
          },
          "execution_count": 65,
          "metadata": {},
          "output_type": "execute_result"
        }
      ],
      "source": [
        "y_test[10:20]"
      ]
    },
    {
      "cell_type": "code",
      "execution_count": null,
      "metadata": {},
      "outputs": [],
      "source": []
    }
  ],
  "metadata": {
    "colab": {
      "provenance": []
    },
    "kernelspec": {
      "display_name": "Python 3",
      "name": "python3"
    },
    "language_info": {
      "codemirror_mode": {
        "name": "ipython",
        "version": 3
      },
      "file_extension": ".py",
      "mimetype": "text/x-python",
      "name": "python",
      "nbconvert_exporter": "python",
      "pygments_lexer": "ipython3",
      "version": "3.11.5"
    }
  },
  "nbformat": 4,
  "nbformat_minor": 0
}
